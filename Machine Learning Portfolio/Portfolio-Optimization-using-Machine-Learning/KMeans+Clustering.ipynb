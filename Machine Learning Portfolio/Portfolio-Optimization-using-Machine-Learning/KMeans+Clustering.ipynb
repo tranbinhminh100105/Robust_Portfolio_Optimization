{
 "cells": [
  {
   "cell_type": "code",
   "execution_count": 1,
   "id": "5183bda8",
   "metadata": {},
   "outputs": [],
   "source": [
    "import numpy as np\n",
    "import matplotlib.pyplot as plt\n",
    "import pandas as pd"
   ]
  },
  {
   "cell_type": "code",
   "execution_count": 2,
   "id": "9842c363",
   "metadata": {},
   "outputs": [
    {
     "data": {
      "text/html": [
       "<div>\n",
       "<style scoped>\n",
       "    .dataframe tbody tr th:only-of-type {\n",
       "        vertical-align: middle;\n",
       "    }\n",
       "\n",
       "    .dataframe tbody tr th {\n",
       "        vertical-align: top;\n",
       "    }\n",
       "\n",
       "    .dataframe thead th {\n",
       "        text-align: right;\n",
       "    }\n",
       "</style>\n",
       "<table border=\"1\" class=\"dataframe\">\n",
       "  <thead>\n",
       "    <tr style=\"text-align: right;\">\n",
       "      <th></th>\n",
       "      <th>Date</th>\n",
       "      <th>Open</th>\n",
       "      <th>High</th>\n",
       "      <th>Low</th>\n",
       "      <th>Close</th>\n",
       "      <th>Adj Close</th>\n",
       "      <th>Volume</th>\n",
       "      <th>Ticker</th>\n",
       "    </tr>\n",
       "  </thead>\n",
       "  <tbody>\n",
       "    <tr>\n",
       "      <th>0</th>\n",
       "      <td>2010-01-04</td>\n",
       "      <td>7.622500</td>\n",
       "      <td>7.660714</td>\n",
       "      <td>7.585000</td>\n",
       "      <td>7.643214</td>\n",
       "      <td>6.431897</td>\n",
       "      <td>493729600.0</td>\n",
       "      <td>AAPL</td>\n",
       "    </tr>\n",
       "    <tr>\n",
       "      <th>1</th>\n",
       "      <td>2010-01-05</td>\n",
       "      <td>7.664286</td>\n",
       "      <td>7.699643</td>\n",
       "      <td>7.616071</td>\n",
       "      <td>7.656429</td>\n",
       "      <td>6.443018</td>\n",
       "      <td>601904800.0</td>\n",
       "      <td>AAPL</td>\n",
       "    </tr>\n",
       "    <tr>\n",
       "      <th>2</th>\n",
       "      <td>2010-01-06</td>\n",
       "      <td>7.656429</td>\n",
       "      <td>7.686786</td>\n",
       "      <td>7.526786</td>\n",
       "      <td>7.534643</td>\n",
       "      <td>6.340534</td>\n",
       "      <td>552160000.0</td>\n",
       "      <td>AAPL</td>\n",
       "    </tr>\n",
       "    <tr>\n",
       "      <th>3</th>\n",
       "      <td>2010-01-07</td>\n",
       "      <td>7.562500</td>\n",
       "      <td>7.571429</td>\n",
       "      <td>7.466071</td>\n",
       "      <td>7.520714</td>\n",
       "      <td>6.328810</td>\n",
       "      <td>477131200.0</td>\n",
       "      <td>AAPL</td>\n",
       "    </tr>\n",
       "    <tr>\n",
       "      <th>4</th>\n",
       "      <td>2010-01-08</td>\n",
       "      <td>7.510714</td>\n",
       "      <td>7.571429</td>\n",
       "      <td>7.466429</td>\n",
       "      <td>7.570714</td>\n",
       "      <td>6.370887</td>\n",
       "      <td>447610800.0</td>\n",
       "      <td>AAPL</td>\n",
       "    </tr>\n",
       "  </tbody>\n",
       "</table>\n",
       "</div>"
      ],
      "text/plain": [
       "         Date      Open      High       Low     Close  Adj Close       Volume  \\\n",
       "0  2010-01-04  7.622500  7.660714  7.585000  7.643214   6.431897  493729600.0   \n",
       "1  2010-01-05  7.664286  7.699643  7.616071  7.656429   6.443018  601904800.0   \n",
       "2  2010-01-06  7.656429  7.686786  7.526786  7.534643   6.340534  552160000.0   \n",
       "3  2010-01-07  7.562500  7.571429  7.466071  7.520714   6.328810  477131200.0   \n",
       "4  2010-01-08  7.510714  7.571429  7.466429  7.570714   6.370887  447610800.0   \n",
       "\n",
       "  Ticker  \n",
       "0   AAPL  \n",
       "1   AAPL  \n",
       "2   AAPL  \n",
       "3   AAPL  \n",
       "4   AAPL  "
      ]
     },
     "execution_count": 2,
     "metadata": {},
     "output_type": "execute_result"
    }
   ],
   "source": [
    "column_names = ['Date', 'Adj_Close', 'Close', 'High', 'Low', 'Open', 'Volume']\n",
    "df = pd.read_csv('combined_10_stocks.csv')\n",
    "df.head()"
   ]
  },
  {
   "cell_type": "code",
   "execution_count": 3,
   "id": "8e85b981",
   "metadata": {},
   "outputs": [
    {
     "name": "stderr",
     "output_type": "stream",
     "text": [
      "C:\\Users\\TRAN BINH MINH\\AppData\\Local\\Temp\\ipykernel_21900\\3062627636.py:3: FutureWarning: DataFrame.fillna with 'method' is deprecated and will raise in a future version. Use obj.ffill() or obj.bfill() instead.\n",
      "  df_adj = df_adj.sort_index().fillna(method='ffill')\n"
     ]
    }
   ],
   "source": [
    "df_adj = df[['Date', 'Adj Close', 'Ticker']]\n",
    "df_adj = df.pivot(index = 'Date', columns = 'Ticker', values = 'Adj Close')\n",
    "df_adj = df_adj.sort_index().fillna(method='ffill')\n",
    "df_adj = df_adj.dropna()\n",
    "\n"
   ]
  },
  {
   "cell_type": "code",
   "execution_count": 4,
   "id": "7684043b",
   "metadata": {},
   "outputs": [],
   "source": [
    "# returns = df_adj.pct_change().dropna()      # simple returns\n",
    "# or\n",
    "returns = np.log(df_adj/df_adj.shift(1)).dropna()   # log-returns (optional, often preferred)\n",
    "\n",
    "alpha = returns.mean().values * 252\n",
    "V     = returns.cov().values * 252\n"
   ]
  },
  {
   "cell_type": "code",
   "execution_count": 5,
   "id": "eb5493ea",
   "metadata": {},
   "outputs": [],
   "source": [
    "import numpy as np\n",
    "import pandas as pd\n",
    "import cvxpy as cp\n",
    "\n",
    "gamma_risk = 0.5\n",
    "gamma_trd = 0.1\n",
    "gamma_hld = 0.1\n",
    "eta_lb = 0.0\n",
    "eta_ub = 1.0\n",
    "epsilon = 0.5\n",
    "h_init = np.zeros(len(alpha))"
   ]
  },
  {
   "cell_type": "code",
   "execution_count": 6,
   "id": "8ef1429e",
   "metadata": {},
   "outputs": [
    {
     "name": "stdout",
     "output_type": "stream",
     "text": [
      "Optimal DR weights:\n",
      " [0.05       0.05       0.05       0.05       0.05       0.05\n",
      " 0.0688594  0.05949848 0.05       0.05      ]\n",
      "Sharpe Ratio of DR portfolio: 1.1065744061758904\n"
     ]
    }
   ],
   "source": [
    "l = len(alpha)\n",
    "h = cp.Variable(l)\n",
    "\n",
    "def phi_trd(x):\n",
    "    return cp.norm1(x)\n",
    "\n",
    "def phi_hld(x):\n",
    "    return cp.norm1(x)\n",
    "\n",
    "#Wasserstein penalty term (dual reformulation) \n",
    "wass_penalty = epsilon * cp.norm(h, 2)\n",
    "\n",
    "objective = alpha @ h - wass_penalty - gamma_risk * cp.quad_form(h, V) - gamma_trd  * phi_trd(h - h_init) - gamma_hld  * phi_hld(h)\n",
    "\n",
    "constraints = [\n",
    "    cp.sum(h) >= eta_lb,\n",
    "    cp.sum(h) <= eta_ub,\n",
    "    h >= 0.05\n",
    "]\n",
    "\n",
    "problem = cp.Problem(cp.Maximize(objective), constraints)\n",
    "problem.solve()\n",
    "print(\"Optimal DR weights:\\n\", h.value)\n",
    "\n",
    "expected_return = alpha @ h.value\n",
    "volatility      = np.sqrt(h.value.T @ V @ h.value)\n",
    "sharpe_ratio    = expected_return / volatility\n",
    "print(\"Sharpe Ratio of DR portfolio:\", sharpe_ratio)\n"
   ]
  },
  {
   "cell_type": "code",
   "execution_count": 7,
   "id": "81313cd7",
   "metadata": {},
   "outputs": [
    {
     "name": "stdout",
     "output_type": "stream",
     "text": [
      "Optimal DR-MAD weights:\n",
      " [0.05000001 0.05       0.12129071 0.26946054 0.05087477 0.05\n",
      " 0.05       0.05       0.16430758 0.14406638]\n",
      "Expected Return: 0.2194476144437124\n",
      "Volatility     : 0.20661836407636414\n",
      "Sharpe Ratio: 1.0620915300762266\n"
     ]
    }
   ],
   "source": [
    "import cvxpy as cp\n",
    "import numpy as np\n",
    "import pandas as pd\n",
    "\n",
    "# === Load data & prepare empirical estimates ===\n",
    "# df_adj: dataframe of adjusted prices, columns = assets.\n",
    "returns = np.log(df_adj / df_adj.shift(1)).dropna()\n",
    "\n",
    "# empirical mean and sample path returns\n",
    "alpha = (returns.mean().values) * 252               # annualized mean return\n",
    "sample_returns = returns.values * np.sqrt(252)      # (T x m) annualized sample paths\n",
    "N, m = sample_returns.shape\n",
    "\n",
    "# === parameters for DR-MAD ===\n",
    "rho     = 0.05     # target expected portfolio return\n",
    "epsilon = 0.05     # Wasserstein radius\n",
    "\n",
    "# === Decision variable ===\n",
    "x = cp.Variable(m)\n",
    "\n",
    "# === MAD term ===\n",
    "z = cp.Variable(N)\n",
    "portfolio_returns = sample_returns @ x\n",
    "mean_portfolio    = alpha @ x\n",
    "\n",
    "constraints = []\n",
    "\n",
    "for i in range(N):\n",
    "    constraints += [\n",
    "        z[i] >= portfolio_returns[i] - mean_portfolio,\n",
    "        z[i] >= -(portfolio_returns[i] - mean_portfolio)\n",
    "    ]\n",
    "\n",
    "mad_term = (1/N) * cp.sum(z)\n",
    "\n",
    "# Wasserstein penalty\n",
    "wass_penalty = epsilon * cp.norm(x, 2)\n",
    "\n",
    "# Constraints\n",
    "constraints += [\n",
    "    alpha @ x >= rho,\n",
    "    x >= 0.05,\n",
    "    cp.sum(x) == 1\n",
    "]\n",
    "\n",
    "# Solve DR-MAD\n",
    "objective = cp.Minimize(mad_term + wass_penalty)\n",
    "problem   = cp.Problem(objective, constraints)\n",
    "problem.solve()\n",
    "\n",
    "x_star = x.value\n",
    "print(\"Optimal DR-MAD weights:\\n\", x_star)\n",
    "\n",
    "# === Compute Sharpe Ratio of solution (out-of-sample measure) ===\n",
    "expected_return = alpha @ x_star\n",
    "volatility      = np.sqrt(x_star.T @ (returns.cov().values * 252) @ x_star)\n",
    "sharpe_ratio    = expected_return / volatility\n",
    "\n",
    "print(\"Expected Return:\", expected_return)\n",
    "print(\"Volatility     :\", volatility)\n",
    "print(\"Sharpe Ratio:\", sharpe_ratio)\n"
   ]
  },
  {
   "cell_type": "code",
   "execution_count": 8,
   "id": "2d38f0fd",
   "metadata": {},
   "outputs": [],
   "source": [
    "import numpy as np\n",
    "import pandas as pd\n",
    "import cvxpy as cp"
   ]
  },
  {
   "cell_type": "code",
   "execution_count": 9,
   "id": "b76dd550",
   "metadata": {},
   "outputs": [],
   "source": [
    "def rolling_windows(df_adj, est_len, pred_len, num_roll):\n",
    "    for i in range(num_roll):\n",
    "        start_est = i * pred_len\n",
    "        end_est =   start_est + est_len\n",
    "\n",
    "        start_pred = end_est\n",
    "        end_pred = end_est + pred_len\n",
    "\n",
    "        est_df = df_adj[start_est : end_est]\n",
    "        pred_df = df_adj[start_pred : end_pred]\n",
    "\n",
    "        yield est_df, pred_df \n"
   ]
  },
  {
   "cell_type": "code",
   "execution_count": 10,
   "id": "ba4a4c8f",
   "metadata": {},
   "outputs": [
    {
     "name": "stdout",
     "output_type": "stream",
     "text": [
      "DR Portfolio, ρ = 0.1258: mean = 0.028864, std = 0.087019, Sharpe = 0.331694\n",
      "DR Portfolio, ρ = 0.2515: mean = 0.033029, std = 0.088250, Sharpe = 0.374267\n"
     ]
    }
   ],
   "source": [
    "# DR Trading and Holding Cost with scaled mean return\n",
    "gamma_risk = 0.5\n",
    "gamma_trd  = 0.1\n",
    "gamma_hld  = 0.1\n",
    "eta_lb = 0.0\n",
    "eta_ub = 1.0\n",
    "epsilon = 0.5\n",
    "\n",
    "def solve_DR_portfolio(alpha, V, h_init, target_mean):\n",
    "    l = len(alpha)\n",
    "    h = cp.Variable(l)\n",
    "\n",
    "    def phi_trd(x): return cp.norm1(x)\n",
    "    def phi_hld(x): return cp.norm1(x)\n",
    "\n",
    "    wass_penalty = epsilon * cp.norm(h, 2)\n",
    "\n",
    "    # objective: maximize risk-adjusted return minus trading and holding costs\n",
    "    objective = alpha @ h - wass_penalty \\\n",
    "                - gamma_risk * cp.quad_form(h, V) \\\n",
    "                - gamma_trd * phi_trd(h - h_init) \\\n",
    "                - gamma_hld * phi_hld(h)\n",
    "\n",
    "    constraints = [\n",
    "        cp.sum(h) >= eta_lb,\n",
    "        cp.sum(h) <= eta_ub,\n",
    "        h >= 0.01,                  # no short-selling & diversification\n",
    "        alpha @ h >= target_mean     # scaled mean return\n",
    "    ]\n",
    "\n",
    "    prob = cp.Problem(cp.Maximize(objective), constraints)\n",
    "    prob.solve()\n",
    "    return h.value\n",
    "\n",
    "# Rolling window setup\n",
    "est_win  = 250\n",
    "pred_win = 21\n",
    "num_roll = 40\n",
    "\n",
    "# Estimate mean alpha from entire dataset or initial window\n",
    "alpha_hat = np.log(df_adj/df_adj.shift(1)).dropna().mean().values * 252\n",
    "rho_mean = alpha_hat.mean()\n",
    "# rho_list = [0.5*rho_mean, 1.0*rho_mean, 1.5*rho_mean]\n",
    "rho_list = [0.5 * rho_mean, 1.0 * rho_mean]\n",
    "\n",
    "dr_results = {rho: [] for rho in rho_list}\n",
    "\n",
    "for rho_val in rho_list:\n",
    "    for est_df, pred_df in rolling_windows(df_adj, est_win, pred_win, num_roll):\n",
    "        est_ret = np.log(est_df/est_df.shift(1)).dropna()\n",
    "        alpha = est_ret.mean().values * 252\n",
    "        V     = est_ret.cov().values * 252\n",
    "        h_init = np.zeros_like(alpha)\n",
    "\n",
    "        # Solve DR portfolio for this target mean\n",
    "        h_star = solve_DR_portfolio(alpha, V, h_init, rho_val)\n",
    "\n",
    "\n",
    "        # Apply to prediction window\n",
    "        pred_ret = np.log(pred_df/pred_df.shift(1)).dropna()\n",
    "        port_cum = (pred_ret.values @ h_star).sum()   \n",
    "        dr_results[rho_val].append(port_cum)\n",
    "\n",
    "# Compute Sharpe ratios\n",
    "for rho_val in rho_list:\n",
    "    arr = np.array(dr_results[rho_val])\n",
    "    mean = arr.mean()\n",
    "    std  = arr.std()\n",
    "    sharpe = mean / std\n",
    "    print(f\"DR Portfolio, ρ = {rho_val:.4f}: mean = {mean:.6f}, std = {std:.6f}, Sharpe = {sharpe:.6f}\")\n"
   ]
  },
  {
   "cell_type": "code",
   "execution_count": 11,
   "id": "5c47ad52",
   "metadata": {},
   "outputs": [
    {
     "name": "stdout",
     "output_type": "stream",
     "text": [
      "Realized returns per window: [ 1.18237193e-01  1.13893240e-01  1.56702580e-01  1.29161755e-01\n",
      "  9.28837991e-02 -2.54019030e-01  8.29704697e-02  1.03355324e-01\n",
      "  1.67231599e-01  1.79959170e-01 -1.60846244e-01 -3.59034423e-02\n",
      "  1.23201358e-01  2.73377676e-02  7.91400512e-02  1.42649992e-02\n",
      " -1.15853067e-02  1.00325371e-02 -1.16636591e-01 -1.37158608e-03\n",
      "  7.60202164e-03  2.14826107e-03 -2.07428153e-04  5.92747660e-03\n",
      "  1.67932533e-03  6.42824191e-03  1.43645934e-03 -1.57381738e-03\n",
      "  4.15222876e-03  1.66204835e-02  4.33644589e-02 -1.48783914e-01\n",
      " -2.65701568e-03  8.67213888e-03  5.61111931e-03  3.39006342e-03\n",
      "  3.78765103e-02  9.18239729e-02  1.12001234e-01  1.25857915e-02]\n",
      "Mean: 0.025652681392084015\n",
      "Std: 0.08710396294163944\n",
      "Sharpe : 0.29450647853154027\n"
     ]
    }
   ],
   "source": [
    "# Trading and Holding cost\n",
    "gamma_risk = 0.5\n",
    "gamma_trd  = 0.1\n",
    "gamma_hld  = 0.1\n",
    "eta_lb = 0.0\n",
    "eta_ub = 1.0\n",
    "epsilon = 0.5\n",
    "\n",
    "\n",
    "def solve_DR_portfolio(alpha, V, h_init):\n",
    "    l = len(alpha)\n",
    "    h = cp.Variable(l)\n",
    "\n",
    "    def phi_trd(x): return cp.norm1(x)\n",
    "    def phi_hld(x): return cp.norm1(x)\n",
    "\n",
    "    wass_penalty = epsilon * cp.norm(h, 2)\n",
    "\n",
    "    objective = alpha @ h - wass_penalty - gamma_risk * cp.quad_form(h, V) - gamma_trd  * phi_trd(h - h_init) - gamma_hld  * phi_hld(h)\n",
    "\n",
    "    constraints = [\n",
    "        cp.sum(h) >= eta_lb,\n",
    "        cp.sum(h) <= eta_ub,\n",
    "        h >= 0.01  # no short selling & diversification\n",
    "    ]\n",
    "\n",
    "    prob = cp.Problem(cp.Maximize(objective), constraints)\n",
    "    prob.solve()\n",
    "    return h.value\n",
    "\n",
    "est_win  = 250   # days\n",
    "pred_win = 21    # days\n",
    "num_roll = 40\n",
    "realized_returns = []\n",
    "\n",
    "for est_df, pred_df in rolling_windows(df_adj, est_win, pred_win, num_roll):\n",
    "    est_ret = np.log(est_df/est_df.shift(1)).dropna()\n",
    "    alpha   = est_ret.mean().values * 252\n",
    "    V       = est_ret.cov().values  * 252\n",
    "\n",
    "    # assume we rebalance from cash --> h_init = zero\n",
    "    h_init  = np.zeros_like(alpha)\n",
    "\n",
    "    # solve portfolio on estimation window\n",
    "    h_star = solve_DR_portfolio(alpha, V, h_init)\n",
    "\n",
    "    # apply to pred window\n",
    "    pred_ret = np.log(pred_df/pred_df.shift(1)).dropna()\n",
    "    port_cum = (pred_ret.values @ h_star).sum()   # cumulative return in prediction window\n",
    "    realized_returns.append(port_cum)\n",
    "\n",
    "# compute rolling Sharpe\n",
    "arr = np.array(realized_returns)\n",
    "mean_r = arr.mean()\n",
    "std_r  = arr.std()\n",
    "sharpe_out = mean_r / std_r\n",
    "\n",
    "print(\"Realized returns per window:\", arr)\n",
    "print(\"Mean:\", mean_r)\n",
    "print(\"Std:\",  std_r)\n",
    "print(\"Sharpe :\", sharpe_out)\n"
   ]
  },
  {
   "cell_type": "code",
   "execution_count": 12,
   "id": "7026cc01",
   "metadata": {},
   "outputs": [
    {
     "ename": "KeyboardInterrupt",
     "evalue": "",
     "output_type": "error",
     "traceback": [
      "\u001b[1;31m---------------------------------------------------------------------------\u001b[0m",
      "\u001b[1;31mKeyboardInterrupt\u001b[0m                         Traceback (most recent call last)",
      "Cell \u001b[1;32mIn[12], line 35\u001b[0m\n\u001b[0;32m     31\u001b[0m mean_port \u001b[38;5;241m=\u001b[39m alpha_hat \u001b[38;5;241m@\u001b[39m x\n\u001b[0;32m     32\u001b[0m \u001b[38;5;28;01mfor\u001b[39;00m i \u001b[38;5;129;01min\u001b[39;00m \u001b[38;5;28mrange\u001b[39m(N):\n\u001b[0;32m     33\u001b[0m     constraints \u001b[38;5;241m+\u001b[39m\u001b[38;5;241m=\u001b[39m [\n\u001b[0;32m     34\u001b[0m         z[i] \u001b[38;5;241m>\u001b[39m\u001b[38;5;241m=\u001b[39m sample_r[i] \u001b[38;5;241m@\u001b[39m x \u001b[38;5;241m-\u001b[39m mean_port,\n\u001b[1;32m---> 35\u001b[0m         z[i] \u001b[38;5;241m>\u001b[39m\u001b[38;5;241m=\u001b[39m \u001b[38;5;241m-\u001b[39m(\u001b[43msample_r\u001b[49m\u001b[43m[\u001b[49m\u001b[43mi\u001b[49m\u001b[43m]\u001b[49m\u001b[43m \u001b[49m\u001b[38;5;241;43m@\u001b[39;49m\u001b[43m \u001b[49m\u001b[43mx\u001b[49m\u001b[43m \u001b[49m\u001b[38;5;241;43m-\u001b[39;49m\u001b[43m \u001b[49m\u001b[43mmean_port\u001b[49m)\n\u001b[0;32m     36\u001b[0m     ]\n\u001b[0;32m     37\u001b[0m mad_term \u001b[38;5;241m=\u001b[39m (\u001b[38;5;241m1\u001b[39m\u001b[38;5;241m/\u001b[39mN) \u001b[38;5;241m*\u001b[39m cp\u001b[38;5;241m.\u001b[39msum(z)\n\u001b[0;32m     38\u001b[0m wass_pen \u001b[38;5;241m=\u001b[39m eps \u001b[38;5;241m*\u001b[39m cp\u001b[38;5;241m.\u001b[39mnorm(x, \u001b[38;5;241m2\u001b[39m)\n",
      "File \u001b[1;32mc:\\Users\\TRAN BINH MINH\\AppData\\Local\\Programs\\Python\\Python310\\lib\\site-packages\\cvxpy\\expressions\\expression.py:51\u001b[0m, in \u001b[0;36m_cast_other.<locals>.cast_op\u001b[1;34m(self, other)\u001b[0m\n\u001b[0;32m     48\u001b[0m \u001b[38;5;250m\u001b[39m\u001b[38;5;124;03m\"\"\"A wrapped binary operator that can handle non-Expression arguments.\u001b[39;00m\n\u001b[0;32m     49\u001b[0m \u001b[38;5;124;03m\"\"\"\u001b[39;00m\n\u001b[0;32m     50\u001b[0m other \u001b[38;5;241m=\u001b[39m \u001b[38;5;28mself\u001b[39m\u001b[38;5;241m.\u001b[39mcast_to_const(other)\n\u001b[1;32m---> 51\u001b[0m \u001b[38;5;28;01mreturn\u001b[39;00m \u001b[43mbinary_op\u001b[49m\u001b[43m(\u001b[49m\u001b[38;5;28;43mself\u001b[39;49m\u001b[43m,\u001b[49m\u001b[43m \u001b[49m\u001b[43mother\u001b[49m\u001b[43m)\u001b[49m\n",
      "File \u001b[1;32mc:\\Users\\TRAN BINH MINH\\AppData\\Local\\Programs\\Python\\Python310\\lib\\site-packages\\cvxpy\\expressions\\expression.py:637\u001b[0m, in \u001b[0;36mExpression.__sub__\u001b[1;34m(self, other)\u001b[0m\n\u001b[0;32m    633\u001b[0m \u001b[38;5;129m@_cast_other\u001b[39m\n\u001b[0;32m    634\u001b[0m \u001b[38;5;28;01mdef\u001b[39;00m \u001b[38;5;21m__sub__\u001b[39m(\u001b[38;5;28mself\u001b[39m, other: ExpressionLike) \u001b[38;5;241m-\u001b[39m\u001b[38;5;241m>\u001b[39m \u001b[38;5;124m\"\u001b[39m\u001b[38;5;124mExpression\u001b[39m\u001b[38;5;124m\"\u001b[39m:\n\u001b[0;32m    635\u001b[0m \u001b[38;5;250m    \u001b[39m\u001b[38;5;124;03m\"\"\"Expression : The difference of two expressions.\u001b[39;00m\n\u001b[0;32m    636\u001b[0m \u001b[38;5;124;03m    \"\"\"\u001b[39;00m\n\u001b[1;32m--> 637\u001b[0m     \u001b[38;5;28;01mreturn\u001b[39;00m \u001b[38;5;28mself\u001b[39m \u001b[38;5;241m+\u001b[39m \u001b[38;5;241;43m-\u001b[39;49m\u001b[43mother\u001b[49m\n",
      "File \u001b[1;32mc:\\Users\\TRAN BINH MINH\\AppData\\Local\\Programs\\Python\\Python310\\lib\\site-packages\\cvxpy\\expressions\\expression.py:742\u001b[0m, in \u001b[0;36mExpression.__neg__\u001b[1;34m(self)\u001b[0m\n\u001b[0;32m    739\u001b[0m \u001b[38;5;28;01mdef\u001b[39;00m \u001b[38;5;21m__neg__\u001b[39m(\u001b[38;5;28mself\u001b[39m) \u001b[38;5;241m-\u001b[39m\u001b[38;5;241m>\u001b[39m \u001b[38;5;124m\"\u001b[39m\u001b[38;5;124mExpression\u001b[39m\u001b[38;5;124m\"\u001b[39m:\n\u001b[0;32m    740\u001b[0m \u001b[38;5;250m    \u001b[39m\u001b[38;5;124;03m\"\"\"Expression : The negation of the expression.\u001b[39;00m\n\u001b[0;32m    741\u001b[0m \u001b[38;5;124;03m    \"\"\"\u001b[39;00m\n\u001b[1;32m--> 742\u001b[0m     \u001b[38;5;28;01mreturn\u001b[39;00m \u001b[43mcvxtypes\u001b[49m\u001b[38;5;241;43m.\u001b[39;49m\u001b[43mneg_expr\u001b[49m\u001b[43m(\u001b[49m\u001b[43m)\u001b[49m\u001b[43m(\u001b[49m\u001b[38;5;28;43mself\u001b[39;49m\u001b[43m)\u001b[49m\n",
      "File \u001b[1;32mc:\\Users\\TRAN BINH MINH\\AppData\\Local\\Programs\\Python\\Python310\\lib\\site-packages\\cvxpy\\atoms\\affine\\unary_operators.py:31\u001b[0m, in \u001b[0;36mUnaryOperator.__init__\u001b[1;34m(self, expr)\u001b[0m\n\u001b[0;32m     30\u001b[0m \u001b[38;5;28;01mdef\u001b[39;00m \u001b[38;5;21m__init__\u001b[39m(\u001b[38;5;28mself\u001b[39m, expr) \u001b[38;5;241m-\u001b[39m\u001b[38;5;241m>\u001b[39m \u001b[38;5;28;01mNone\u001b[39;00m:\n\u001b[1;32m---> 31\u001b[0m     \u001b[38;5;28;43msuper\u001b[39;49m\u001b[43m(\u001b[49m\u001b[43mUnaryOperator\u001b[49m\u001b[43m,\u001b[49m\u001b[43m \u001b[49m\u001b[38;5;28;43mself\u001b[39;49m\u001b[43m)\u001b[49m\u001b[38;5;241;43m.\u001b[39;49m\u001b[38;5;21;43m__init__\u001b[39;49m\u001b[43m(\u001b[49m\u001b[43mexpr\u001b[49m\u001b[43m)\u001b[49m\n",
      "File \u001b[1;32mc:\\Users\\TRAN BINH MINH\\AppData\\Local\\Programs\\Python\\Python310\\lib\\site-packages\\cvxpy\\atoms\\atom.py:49\u001b[0m, in \u001b[0;36mAtom.__init__\u001b[1;34m(self, *args)\u001b[0m\n\u001b[0;32m     45\u001b[0m     \u001b[38;5;28;01mraise\u001b[39;00m \u001b[38;5;167;01mTypeError\u001b[39;00m(\n\u001b[0;32m     46\u001b[0m         \u001b[38;5;124m\"\u001b[39m\u001b[38;5;124mNo arguments given to \u001b[39m\u001b[38;5;132;01m%s\u001b[39;00m\u001b[38;5;124m.\u001b[39m\u001b[38;5;124m\"\u001b[39m \u001b[38;5;241m%\u001b[39m \u001b[38;5;28mself\u001b[39m\u001b[38;5;241m.\u001b[39m\u001b[38;5;18m__class__\u001b[39m\u001b[38;5;241m.\u001b[39m\u001b[38;5;18m__name__\u001b[39m\n\u001b[0;32m     47\u001b[0m     )\n\u001b[0;32m     48\u001b[0m \u001b[38;5;66;03m# Convert raw values to Constants.\u001b[39;00m\n\u001b[1;32m---> 49\u001b[0m \u001b[38;5;28mself\u001b[39m\u001b[38;5;241m.\u001b[39margs \u001b[38;5;241m=\u001b[39m [Atom\u001b[38;5;241m.\u001b[39mcast_to_const(arg) \u001b[38;5;28;01mfor\u001b[39;00m arg \u001b[38;5;129;01min\u001b[39;00m args]\n\u001b[0;32m     50\u001b[0m \u001b[38;5;28mself\u001b[39m\u001b[38;5;241m.\u001b[39mvalidate_arguments()\n\u001b[0;32m     51\u001b[0m \u001b[38;5;28mself\u001b[39m\u001b[38;5;241m.\u001b[39m_shape \u001b[38;5;241m=\u001b[39m \u001b[38;5;28mself\u001b[39m\u001b[38;5;241m.\u001b[39mshape_from_args()\n",
      "File \u001b[1;32mc:\\Users\\TRAN BINH MINH\\AppData\\Local\\Programs\\Python\\Python310\\lib\\site-packages\\cvxpy\\atoms\\atom.py:49\u001b[0m, in \u001b[0;36m<listcomp>\u001b[1;34m(.0)\u001b[0m\n\u001b[0;32m     45\u001b[0m     \u001b[38;5;28;01mraise\u001b[39;00m \u001b[38;5;167;01mTypeError\u001b[39;00m(\n\u001b[0;32m     46\u001b[0m         \u001b[38;5;124m\"\u001b[39m\u001b[38;5;124mNo arguments given to \u001b[39m\u001b[38;5;132;01m%s\u001b[39;00m\u001b[38;5;124m.\u001b[39m\u001b[38;5;124m\"\u001b[39m \u001b[38;5;241m%\u001b[39m \u001b[38;5;28mself\u001b[39m\u001b[38;5;241m.\u001b[39m\u001b[38;5;18m__class__\u001b[39m\u001b[38;5;241m.\u001b[39m\u001b[38;5;18m__name__\u001b[39m\n\u001b[0;32m     47\u001b[0m     )\n\u001b[0;32m     48\u001b[0m \u001b[38;5;66;03m# Convert raw values to Constants.\u001b[39;00m\n\u001b[1;32m---> 49\u001b[0m \u001b[38;5;28mself\u001b[39m\u001b[38;5;241m.\u001b[39margs \u001b[38;5;241m=\u001b[39m [\u001b[43mAtom\u001b[49m\u001b[38;5;241;43m.\u001b[39;49m\u001b[43mcast_to_const\u001b[49m\u001b[43m(\u001b[49m\u001b[43marg\u001b[49m\u001b[43m)\u001b[49m \u001b[38;5;28;01mfor\u001b[39;00m arg \u001b[38;5;129;01min\u001b[39;00m args]\n\u001b[0;32m     50\u001b[0m \u001b[38;5;28mself\u001b[39m\u001b[38;5;241m.\u001b[39mvalidate_arguments()\n\u001b[0;32m     51\u001b[0m \u001b[38;5;28mself\u001b[39m\u001b[38;5;241m.\u001b[39m_shape \u001b[38;5;241m=\u001b[39m \u001b[38;5;28mself\u001b[39m\u001b[38;5;241m.\u001b[39mshape_from_args()\n",
      "File \u001b[1;32mc:\\Users\\TRAN BINH MINH\\AppData\\Local\\Programs\\Python\\Python310\\lib\\site-packages\\cvxpy\\expressions\\expression.py:579\u001b[0m, in \u001b[0;36mExpression.cast_to_const\u001b[1;34m(expr)\u001b[0m\n\u001b[0;32m    574\u001b[0m         \u001b[38;5;28;01mif\u001b[39;00m \u001b[38;5;28misinstance\u001b[39m(elem, Expression):\n\u001b[0;32m    575\u001b[0m             \u001b[38;5;28;01mraise\u001b[39;00m \u001b[38;5;167;01mValueError\u001b[39;00m(\n\u001b[0;32m    576\u001b[0m                 \u001b[38;5;124m\"\u001b[39m\u001b[38;5;124mThe input must be a single CVXPY Expression, not a list. \u001b[39m\u001b[38;5;124m\"\u001b[39m\n\u001b[0;32m    577\u001b[0m                 \u001b[38;5;124m\"\u001b[39m\u001b[38;5;124mCombine Expressions using atoms such as bmat, hstack, and vstack.\u001b[39m\u001b[38;5;124m\"\u001b[39m\n\u001b[0;32m    578\u001b[0m             )\n\u001b[1;32m--> 579\u001b[0m \u001b[38;5;28;01mreturn\u001b[39;00m expr \u001b[38;5;28;01mif\u001b[39;00m \u001b[38;5;28;43misinstance\u001b[39;49m\u001b[43m(\u001b[49m\u001b[43mexpr\u001b[49m\u001b[43m,\u001b[49m\u001b[43m \u001b[49m\u001b[43mExpression\u001b[49m\u001b[43m)\u001b[49m \u001b[38;5;28;01melse\u001b[39;00m cvxtypes\u001b[38;5;241m.\u001b[39mconstant()(expr)\n",
      "File \u001b[1;32mc:\\Users\\TRAN BINH MINH\\AppData\\Local\\Programs\\Python\\Python310\\lib\\abc.py:117\u001b[0m, in \u001b[0;36mABCMeta.__instancecheck__\u001b[1;34m(cls, instance)\u001b[0m\n\u001b[0;32m    111\u001b[0m \u001b[38;5;250m    \u001b[39m\u001b[38;5;124;03m\"\"\"Register a virtual subclass of an ABC.\u001b[39;00m\n\u001b[0;32m    112\u001b[0m \n\u001b[0;32m    113\u001b[0m \u001b[38;5;124;03m    Returns the subclass, to allow usage as a class decorator.\u001b[39;00m\n\u001b[0;32m    114\u001b[0m \u001b[38;5;124;03m    \"\"\"\u001b[39;00m\n\u001b[0;32m    115\u001b[0m     \u001b[38;5;28;01mreturn\u001b[39;00m _abc_register(\u001b[38;5;28mcls\u001b[39m, subclass)\n\u001b[1;32m--> 117\u001b[0m \u001b[38;5;28;01mdef\u001b[39;00m \u001b[38;5;21m__instancecheck__\u001b[39m(\u001b[38;5;28mcls\u001b[39m, instance):\n\u001b[0;32m    118\u001b[0m \u001b[38;5;250m    \u001b[39m\u001b[38;5;124;03m\"\"\"Override for isinstance(instance, cls).\"\"\"\u001b[39;00m\n\u001b[0;32m    119\u001b[0m     \u001b[38;5;28;01mreturn\u001b[39;00m _abc_instancecheck(\u001b[38;5;28mcls\u001b[39m, instance)\n",
      "\u001b[1;31mKeyboardInterrupt\u001b[0m: "
     ]
    }
   ],
   "source": [
    "\n",
    "estimation_window = 250\n",
    "prediction_window = 21\n",
    "num_rolling       = 40\n",
    "epsilon_list      = np.arange(0.05, 0.21, 0.01)\n",
    "\n",
    "realized_returns = []\n",
    "\n",
    "\n",
    "# Rolling DR-MAD \n",
    "for est_df, pred_df in rolling_windows(df_adj, estimation_window, prediction_window, num_rolling):\n",
    "\n",
    "    # 1) Estimate alpha & sample returns\n",
    "    est_returns = np.log(est_df / est_df.shift(1)).dropna()\n",
    "    alpha_hat   = est_returns.mean().values * 252\n",
    "    sample_r    = est_returns.values * np.sqrt(252)\n",
    "    N, m        = sample_r.shape\n",
    "\n",
    "    # target rho\n",
    "    rho = alpha_hat.mean()\n",
    "\n",
    "    # 2) simple epsilon choice (cross-validation optional)\n",
    "    best_eps, best_ret, best_x = None, -np.inf, None\n",
    "    for eps in epsilon_list:\n",
    "        x = cp.Variable(m)\n",
    "        z = cp.Variable(N)\n",
    "        constraints = [\n",
    "            alpha_hat @ x >= rho,\n",
    "            x >= 0,\n",
    "            cp.sum(x) == 1\n",
    "        ]\n",
    "        mean_port = alpha_hat @ x\n",
    "        for i in range(N):\n",
    "            constraints += [\n",
    "                z[i] >= sample_r[i] @ x - mean_port,\n",
    "                z[i] >= -(sample_r[i] @ x - mean_port)\n",
    "            ]\n",
    "        mad_term = (1/N) * cp.sum(z)\n",
    "        wass_pen = eps * cp.norm(x, 2)\n",
    "\n",
    "        obj = cp.Minimize(mad_term + wass_pen)\n",
    "        prob = cp.Problem(obj, constraints)\n",
    "        prob.solve()\n",
    "\n",
    "        if x.value is not None:\n",
    "            ins_ret = alpha_hat @ x.value\n",
    "            if ins_ret > best_ret:\n",
    "                best_ret = ins_ret\n",
    "                best_eps = eps\n",
    "                best_x   = x.value\n",
    "\n",
    "    # 3) realized return on prediction window\n",
    "    pred_returns = np.log(pred_df / pred_df.shift(1)).dropna()\n",
    "    r = (pred_returns.values @ best_x).sum()\n",
    "    realized_returns.append(r)\n",
    "\n",
    "# Sharpe of 40 windows \n",
    "realized_returns = np.array(realized_returns)\n",
    "mean_r  = realized_returns.mean()\n",
    "std_r   = realized_returns.std()\n",
    "sharpe  = mean_r / std_r\n",
    "\n",
    "print(\"Realized returns per window:\", realized_returns)\n",
    "print(\"Mean return:\", mean_r)\n",
    "print(\"Std return:\", std_r)\n",
    "print(\"Sharpe ratio:\", sharpe)\n"
   ]
  },
  {
   "cell_type": "code",
   "execution_count": 14,
   "id": "fc651bfa",
   "metadata": {},
   "outputs": [],
   "source": [
    "from scipy.linalg import sqrtm"
   ]
  },
  {
   "cell_type": "code",
   "execution_count": null,
   "id": "0de7a22e",
   "metadata": {},
   "outputs": [
    {
     "name": "stdout",
     "output_type": "stream",
     "text": [
      "Requirement already satisfied: ecos in c:\\users\\tran binh minh\\appdata\\local\\programs\\python\\python310\\lib\\site-packages (2.0.14)\n",
      "Requirement already satisfied: scs in c:\\users\\tran binh minh\\appdata\\local\\programs\\python\\python310\\lib\\site-packages (3.2.7.post2)\n",
      "Requirement already satisfied: osqp in c:\\users\\tran binh minh\\appdata\\local\\programs\\python\\python310\\lib\\site-packages (0.6.7.post3)\n",
      "Requirement already satisfied: numpy>=1.6 in c:\\users\\tran binh minh\\appdata\\local\\programs\\python\\python310\\lib\\site-packages (from ecos) (1.26.4)\n",
      "Requirement already satisfied: scipy>=0.9 in c:\\users\\tran binh minh\\appdata\\local\\programs\\python\\python310\\lib\\site-packages (from ecos) (1.13.0)\n",
      "Requirement already satisfied: qdldl in c:\\users\\tran binh minh\\appdata\\local\\programs\\python\\python310\\lib\\site-packages (from osqp) (0.1.7.post5)\n"
     ]
    },
    {
     "name": "stderr",
     "output_type": "stream",
     "text": [
      "\n",
      "[notice] A new release of pip is available: 25.1.1 -> 25.2\n",
      "[notice] To update, run: python.exe -m pip install --upgrade pip\n"
     ]
    }
   ],
   "source": [
    "!pip install ecos scs osqp"
   ]
  },
  {
   "cell_type": "code",
   "execution_count": null,
   "id": "17158f03",
   "metadata": {},
   "outputs": [
    {
     "name": "stdout",
     "output_type": "stream",
     "text": [
      "['CLARABEL', 'ECOS', 'ECOS_BB', 'OSQP', 'SCIPY', 'SCS']\n"
     ]
    }
   ],
   "source": [
    "import cvxpy as cp\n",
    "print(cp.installed_solvers())\n"
   ]
  },
  {
   "cell_type": "code",
   "execution_count": 16,
   "id": "dda1cd62",
   "metadata": {},
   "outputs": [
    {
     "name": "stdout",
     "output_type": "stream",
     "text": [
      "\n",
      "1/N Strategy Results:\n",
      "ρ = 0.0754: mean = 0.020559, std = 0.044514, Sharpe = 0.461854\n",
      "ρ = 0.1507: mean = 0.020559, std = 0.044514, Sharpe = 0.461854\n",
      "ρ = 0.2261: mean = 0.020559, std = 0.044514, Sharpe = 0.461854\n",
      "\n",
      "MV Strategy Results:\n",
      "ρ = 0.0754: mean = 0.017704, std = 0.039793, Sharpe = 0.444901\n",
      "ρ = 0.1507: mean = 0.018142, std = 0.039780, Sharpe = 0.456062\n",
      "ρ = 0.2261: mean = 0.018851, std = 0.039411, Sharpe = 0.478315\n",
      "\n",
      "MAD Strategy Results:\n",
      "ρ = 0.0754: mean = 0.020577, std = 0.049682, Sharpe = 0.414167\n",
      "ρ = 0.1507: mean = 0.018785, std = 0.043918, Sharpe = 0.427727\n",
      "ρ = 0.2261: mean = 0.019113, std = 0.040365, Sharpe = 0.473507\n",
      "\n",
      "DR_MV1 Strategy Results:\n",
      "ρ = 0.0754: mean = 0.017755, std = 0.039803, Sharpe = 0.446073\n",
      "ρ = 0.1507: mean = 0.018239, std = 0.039758, Sharpe = 0.458741\n",
      "ρ = 0.2261: mean = 0.018894, std = 0.039229, Sharpe = 0.481628\n",
      "\n",
      "DR_MV2 Strategy Results:\n",
      "ρ = 0.0754: mean = nan, std = nan, Sharpe = nan\n",
      "ρ = 0.1507: mean = nan, std = nan, Sharpe = nan\n",
      "ρ = 0.2261: mean = nan, std = nan, Sharpe = nan\n"
     ]
    },
    {
     "name": "stderr",
     "output_type": "stream",
     "text": [
      "c:\\Users\\TRAN BINH MINH\\AppData\\Local\\Programs\\Python\\Python310\\lib\\site-packages\\numpy\\core\\fromnumeric.py:3504: RuntimeWarning: Mean of empty slice.\n",
      "  return _methods._mean(a, axis=axis, dtype=dtype,\n",
      "c:\\Users\\TRAN BINH MINH\\AppData\\Local\\Programs\\Python\\Python310\\lib\\site-packages\\numpy\\core\\_methods.py:129: RuntimeWarning: invalid value encountered in scalar divide\n",
      "  ret = ret.dtype.type(ret / rcount)\n",
      "c:\\Users\\TRAN BINH MINH\\AppData\\Local\\Programs\\Python\\Python310\\lib\\site-packages\\numpy\\core\\_methods.py:206: RuntimeWarning: Degrees of freedom <= 0 for slice\n",
      "  ret = _var(a, axis=axis, dtype=dtype, out=out, ddof=ddof,\n",
      "c:\\Users\\TRAN BINH MINH\\AppData\\Local\\Programs\\Python\\Python310\\lib\\site-packages\\numpy\\core\\_methods.py:163: RuntimeWarning: invalid value encountered in divide\n",
      "  arrmean = um.true_divide(arrmean, div, out=arrmean,\n",
      "c:\\Users\\TRAN BINH MINH\\AppData\\Local\\Programs\\Python\\Python310\\lib\\site-packages\\numpy\\core\\_methods.py:198: RuntimeWarning: invalid value encountered in scalar divide\n",
      "  ret = ret.dtype.type(ret / rcount)\n"
     ]
    }
   ],
   "source": [
    "est_win = 250\n",
    "pred_win = 21\n",
    "num_roll = 40\n",
    "\n",
    "rho_mean = alpha_hat.mean()\n",
    "rho_list = [0.5 * rho_mean, 1.0 * rho_mean, 1.5 * rho_mean]\n",
    "\n",
    "# Initialize dictionaries to store results\n",
    "results = {\n",
    "    '1/N': {rho: [] for rho in rho_list},\n",
    "    'MV': {rho: [] for rho in rho_list},\n",
    "    'DR_MV1': {rho: [] for rho in rho_list},\n",
    "    'DR_MV2': {rho: [] for rho in rho_list},\n",
    "    'MAD': {rho: [] for rho in rho_list}\n",
    "}\n",
    "\n",
    "for rho_val in rho_list:\n",
    "    for est_df, pred_df in rolling_windows(df_adj, est_win, pred_win, num_roll):\n",
    "        # estimation\n",
    "        est_ret = np.log(est_df/est_df.shift(1)).dropna()\n",
    "        alpha_hat = est_ret.mean().values * 252\n",
    "        cov_hat = est_ret.cov().values * 252\n",
    "        pred_ret = np.log(pred_df/pred_df.shift(1)).dropna()\n",
    "        m = len(alpha_hat)\n",
    "\n",
    "        # 1) 1/N strategy\n",
    "        w_1N = np.ones(m) / m\n",
    "        re1 = (pred_ret.values @ w_1N).sum()\n",
    "        results['1/N'][rho_val].append(re1)\n",
    "\n",
    "        # 2) Mean-Variance strategy\n",
    "        x = cp.Variable(m)\n",
    "        constraints = [\n",
    "            alpha_hat @ x >= rho_val, \n",
    "            x >= 0,\n",
    "            cp.sum(x) == 1\n",
    "        ]\n",
    "        objective = cp.Minimize(cp.quad_form(x, cov_hat))\n",
    "        prob = cp.Problem(objective, constraints)\n",
    "        prob.solve()\n",
    "        w_MV2 = x.value.flatten()\n",
    "        re2 = (pred_ret.values @ w_MV2).sum()\n",
    "        results['MV'][rho_val].append(re2)\n",
    "\n",
    "        # 3) MAD strategy\n",
    "        x = cp.Variable(m)\n",
    "        z = cp.Variable(est_ret.shape[0])\n",
    "        constraints = [alpha_hat@x >= rho_val, x>=0, cp.sum(x)==1]\n",
    "        mean_port = alpha_hat @ x\n",
    "        for i in range(est_ret.shape[0]):\n",
    "            constraints += [    \n",
    "                z[i] >= est_ret.values[i] @ x - mean_port,\n",
    "                z[i] >= -(est_ret.values[i] @ x - mean_port)\n",
    "            ]\n",
    "        mad = (1/est_ret.shape[0]) * cp.sum(z)\n",
    "        objective = cp.Minimize(mad)\n",
    "        prob = cp.Problem(objective, constraints)\n",
    "        prob.solve()\n",
    "        w_MAD = x.value\n",
    "        re3 = (pred_ret.values @ w_MAD).sum()\n",
    "        results['MAD'][rho_val].append(re3)\n",
    "        # 4) DR_MV1\n",
    "        delta_mu = 0.02      # uncertainty in mean\n",
    "        delta_sigma = 0.001  # uncertainty in covariance    \n",
    "        x = cp.Variable(m)\n",
    "        robust_mean_constraint = (\n",
    "        alpha_hat @ x - delta_mu * cp.norm(x, 2) >= rho_val\n",
    "        )\n",
    "\n",
    "        # Robust covariance \n",
    "        cov_robust = cov_hat + delta_sigma * np.eye(m)\n",
    "\n",
    "        objective = cp.Minimize(cp.quad_form(x, cov_robust)) # mnimize worst-case risk\n",
    "        constraints = [\n",
    "            robust_mean_constraint,\n",
    "            x >= 0,\n",
    "            cp.sum(x) == 1\n",
    "        ]\n",
    "\n",
    "        prob = cp.Problem(objective, constraints)\n",
    "        prob.solve()\n",
    "        w_DR1 = x.value\n",
    "        re4 = (pred_ret.values @ w_DR1).sum()\n",
    "        results['DR_MV1'][rho_val].append(re4)\n",
    "\n",
    "        #5) DR_MV2\n",
    "        m = cov_hat.shape[0]\n",
    "        x = cp.Variable(m)\n",
    "        Sigma_sqrt = sqrtm(cov_hat)\n",
    "\n",
    "        objective = cp.Minimize(cp.norm(Sigma_sqrt @ x, 2) + np.sqrt(delta_mu) * cp.norm(x, 2))\n",
    "        constraints = [\n",
    "            alpha_hat @ x >= rho_val,\n",
    "            x >= 0,\n",
    "            cp.sum(x) == 1\n",
    "        ]\n",
    "        prob = cp.Problem(objective, constraints)\n",
    "        prob.solve(solver='ECOS') \n",
    "\n",
    "        w_DR2 = x.value\n",
    "\n",
    "\n",
    "\n",
    "# Print results in a cleaner format\n",
    "def print_results(strategy_name):\n",
    "    print(f\"\\n{strategy_name} Strategy Results:\")\n",
    "    for rho_val in rho_list:\n",
    "        arr = np.array(results[strategy_name][rho_val])\n",
    "        mean = np.mean(arr)\n",
    "        std = np.std(arr)\n",
    "        sharpe = mean / std\n",
    "        print(f\"ρ = {rho_val:.4f}: mean = {mean:.6f}, std = {std:.6f}, Sharpe = {sharpe:.6f}\")\n",
    "\n",
    "print_results('1/N')\n",
    "print_results('MV')\n",
    "print_results('MAD')\n",
    "print_results('DR_MV1')\n",
    "print_results('DR_MV2')\n"
   ]
  },
  {
   "cell_type": "code",
   "execution_count": null,
   "id": "cfa95280",
   "metadata": {},
   "outputs": [
    {
     "name": "stdout",
     "output_type": "stream",
     "text": [
      "Realized returns: [ 0.13936552  0.1284674   0.17100558  0.13732852  0.09922939 -0.28404182\n",
      "  0.08820429  0.11458586  0.18079109  0.19715286 -0.17032959 -0.0414072\n",
      "  0.12542319  0.04729114  0.07211957  0.01550345 -0.06149143  0.09069004\n",
      " -0.21346103 -0.01151772  0.0705252  -0.00742343  0.0111518   0.02412903\n",
      " -0.00627787  0.02689858 -0.00050575  0.00836484  0.04500862  0.11877417]\n",
      "Mean = 0.03718514337858186\n",
      "Std = 0.10955653626560825\n",
      "Out-of-sample Sharpe (DR Mean-Variance) = 0.3394151060821273\n"
     ]
    }
   ],
   "source": [
    "\n",
    "est_win   = 250    \n",
    "pred_win  = 21     \n",
    "num_roll  = 30      \n",
    "gamma_risk = 0.5\n",
    "epsilon    = 0.1    \n",
    "\n",
    "realized_returns = []\n",
    "\n",
    "for est_df, pred_df in rolling_windows(df_adj, est_win, pred_win, num_roll):\n",
    "\n",
    "    # estimation\n",
    "    est_ret   = np.log(est_df/est_df.shift(1)).dropna()\n",
    "    alpha_hat = est_ret.mean().values * 252\n",
    "    cov_hat   = est_ret.cov().values  * 252\n",
    "    m         = len(alpha_hat)\n",
    "\n",
    "    # solve DR-MV:  maximize mu^T x - gamma x^T Cov x - eps ||x||_2\n",
    "    x = cp.Variable(m)\n",
    "    obj = alpha_hat @ x \\\n",
    "          - gamma_risk * cp.quad_form(x, cov_hat) \\\n",
    "          - epsilon * cp.norm(x, 2)\n",
    "\n",
    "    constraints = [x >= 0, cp.sum(x) == 1]\n",
    "    problem     = cp.Problem(cp.Maximize(obj), constraints)\n",
    "    problem.solve()\n",
    "\n",
    "    x_star = x.value\n",
    "\n",
    "    # prediction return\n",
    "    pred_ret = np.log(pred_df/pred_df.shift(1)).dropna()\n",
    "    realized = (pred_ret.values @ x_star).sum()\n",
    "    realized_returns.append(realized)\n",
    "\n",
    "# performance\n",
    "arr = np.array(realized_returns)\n",
    "mean_r = arr.mean()\n",
    "std_r  = arr.std()\n",
    "sharpe = mean_r / std_r\n",
    "\n",
    "print(\"Realized returns:\", arr)\n",
    "print(\"Mean =\", mean_r)\n",
    "print(\"Std =\", std_r)\n",
    "print(\"Out-of-sample Sharpe (DR Mean-Variance) =\", sharpe)\n"
   ]
  },
  {
   "cell_type": "code",
   "execution_count": null,
   "id": "f9d4eae4",
   "metadata": {},
   "outputs": [
    {
     "ename": "NameError",
     "evalue": "name 'rolling_windows' is not defined",
     "output_type": "error",
     "traceback": [
      "\u001b[1;31m---------------------------------------------------------------------------\u001b[0m",
      "\u001b[1;31mNameError\u001b[0m                                 Traceback (most recent call last)",
      "Cell \u001b[1;32mIn[1], line 14\u001b[0m\n\u001b[0;32m     10\u001b[0m rets_MV      \u001b[38;5;241m=\u001b[39m []\n\u001b[0;32m     11\u001b[0m rets_MAD     \u001b[38;5;241m=\u001b[39m []\n\u001b[1;32m---> 14\u001b[0m \u001b[38;5;28;01mfor\u001b[39;00m est_df, pred_df \u001b[38;5;129;01min\u001b[39;00m rolling_windows(df_adj, est_win, pred_win, num_roll):\n\u001b[0;32m     15\u001b[0m \n\u001b[0;32m     16\u001b[0m     \u001b[38;5;66;03m# estimation\u001b[39;00m\n\u001b[0;32m     17\u001b[0m     est_ret   \u001b[38;5;241m=\u001b[39m np\u001b[38;5;241m.\u001b[39mlog(est_df\u001b[38;5;241m/\u001b[39mest_df\u001b[38;5;241m.\u001b[39mshift(\u001b[38;5;241m1\u001b[39m))\u001b[38;5;241m.\u001b[39mdropna()\n\u001b[0;32m     18\u001b[0m     alpha_hat \u001b[38;5;241m=\u001b[39m est_ret\u001b[38;5;241m.\u001b[39mmean()\u001b[38;5;241m.\u001b[39mvalues \u001b[38;5;241m*\u001b[39m \u001b[38;5;241m252\u001b[39m\n",
      "\u001b[1;31mNameError\u001b[0m: name 'rolling_windows' is not defined"
     ]
    }
   ],
   "source": [
    "import numpy as np\n",
    "import pandas as pd\n",
    "import cvxpy as cp\n",
    "\n",
    "est_win  = 250\n",
    "pred_win = 21\n",
    "num_roll = 40\n",
    "\n",
    "rets_1N      = []\n",
    "rets_MV      = []\n",
    "rets_MAD     = []\n",
    "\n",
    "\n",
    "for est_df, pred_df in rolling_windows(df_adj, est_win, pred_win, num_roll):\n",
    "\n",
    "    # estimation\n",
    "    est_ret   = np.log(est_df/est_df.shift(1)).dropna()\n",
    "    alpha_hat = est_ret.mean().values * 252\n",
    "    cov_hat   = est_ret.cov().values  * 252\n",
    "    pred_ret  = np.log(pred_df/pred_df.shift(1)).dropna()\n",
    "    m         = len(alpha_hat)\n",
    "\n",
    "    # 1) 1/N strategy\n",
    "    w_1N = np.ones(m) / m\n",
    "    re1 = (pred_ret.values @ w_1N).sum()\n",
    "    rets_1N.append(re1)\n",
    "\n",
    "    #2) classic Mean-Variance  \n",
    "    # 2) Distributionally Robust Mean-Variance (Wasserstein-based)\n",
    "    x = cp.Variable(m)\n",
    "    delta = 0.01   # uncertainty radius (can be tuned)\n",
    "    lambda_reg = delta  # acts as variance robustness penalty\n",
    "    rho = alpha_hat.mean()\n",
    "\n",
    "    constraints = [\n",
    "        alpha_hat @ x - delta * cp.norm(x, 2) >= rho,\n",
    "        x >= 0,\n",
    "        cp.sum(x) == 1\n",
    "    ]\n",
    "\n",
    "    objective = cp.Minimize(cp.quad_form(x, cov_hat) + lambda_reg * cp.norm(x, 2)**2)\n",
    "    prob = cp.Problem(objective, constraints)\n",
    "    prob.solve()\n",
    "\n",
    "    w_MV = x.value\n",
    "    re2 = (pred_ret.values @ w_MV).sum()\n",
    "    rets_MV.append(re2)\n",
    "\n",
    "\n",
    "    # 3) classic MAD (epsilon=0)\n",
    "    x = cp.Variable(m)\n",
    "    z = cp.Variable(est_ret.shape[0])\n",
    "    constraints = [alpha_hat@x >= rho, x>=0, cp.sum(x)==1]\n",
    "    mean_port   = alpha_hat @ x\n",
    "    for i in range(est_ret.shape[0]):\n",
    "        constraints += [\n",
    "            z[i] >= est_ret.values[i] @ x - mean_port,\n",
    "            z[i] >= -(est_ret.values[i] @ x - mean_port)\n",
    "        ]\n",
    "    mad = (1/est_ret.shape[0]) * cp.sum(z)\n",
    "    objective = cp.Minimize(mad)\n",
    "    prob      = cp.Problem(objective, constraints)\n",
    "    prob.solve()\n",
    "    w_MAD = x.value\n",
    "    re3 = (pred_ret.values @ w_MAD).sum()\n",
    "    rets_MAD.append(re3)\n",
    "\n",
    "def report(name, arr):\n",
    "    arr = np.array(arr)\n",
    "    print(f\"{name}:\")\n",
    "    print(\" returns =\", arr)\n",
    "    print(\" mean    =\", np.mean(arr))\n",
    "    print(\" std     =\", np.std(arr))\n",
    "    print(\" Sharpe  =\", np.mean(arr)/np.std(arr))\n",
    "    print(\"-\"*40)\n",
    "\n",
    "report(\"1/N\", rets_1N)\n",
    "report(\"Mean-Variance\", rets_MV)\n",
    "report(\"Classic MAD\", rets_MAD)\n",
    "    "
   ]
  },
  {
   "cell_type": "code",
   "execution_count": null,
   "id": "b74008c2",
   "metadata": {},
   "outputs": [
    {
     "name": "stdout",
     "output_type": "stream",
     "text": [
      "          Mean     Std\n",
      "Ticker                \n",
      "AAPL    0.0009  0.0179\n",
      "AMZN    0.0009  0.0203\n",
      "GOOGL   0.0008  0.0170\n",
      "JPM     0.0007  0.0166\n",
      "META    0.0008  0.0253\n",
      "MSFT    0.0009  0.0168\n",
      "NVDA    0.0018  0.0276\n",
      "TSLA    0.0017  0.0354\n",
      "UNH     0.0008  0.0157\n",
      "V       0.0008  0.0153\n"
     ]
    }
   ],
   "source": [
    "log_returns = np.log(df_adj / df_adj.shift(1))\n",
    "mean_returns = log_returns.mean()\n",
    "std_returns = log_returns.std()\n",
    "\n",
    "summary = pd.DataFrame({\n",
    "    'Mean': mean_returns,\n",
    "    'Std': std_returns,\n",
    "}).round(4)\n",
    "print(summary)"
   ]
  },
  {
   "cell_type": "code",
   "execution_count": null,
   "id": "b5671a25",
   "metadata": {},
   "outputs": [],
   "source": [
    "import seaborn as sns\n",
    "corr_matrix = log_returns.corr()\n",
    "X = corr_matrix.values\n"
   ]
  },
  {
   "cell_type": "code",
   "execution_count": null,
   "id": "80d00883",
   "metadata": {},
   "outputs": [
    {
     "name": "stdout",
     "output_type": "stream",
     "text": [
      "Cluster 0: JPM, UNH\n",
      "Cluster 1: AAPL, GOOGL, MSFT, NVDA, V\n",
      "Cluster 2: AMZN, META, TSLA\n"
     ]
    },
    {
     "name": "stderr",
     "output_type": "stream",
     "text": [
      "c:\\Users\\TRAN BINH MINH\\NUS\\Anacoda\\Lib\\site-packages\\sklearn\\cluster\\_kmeans.py:1446: UserWarning: KMeans is known to have a memory leak on Windows with MKL, when there are less chunks than available threads. You can avoid it by setting the environment variable OMP_NUM_THREADS=1.\n",
      "  warnings.warn(\n"
     ]
    }
   ],
   "source": [
    "from sklearn.cluster import KMeans\n",
    "\n",
    "\n",
    "kmeans = KMeans(n_clusters = 3, random_state= 42)\n",
    "labels = kmeans.fit_predict(X)\n",
    "\n",
    "stock_clusters = pd.DataFrame({\n",
    "    'Ticker': corr_matrix.columns,\n",
    "    'Cluster': labels,\n",
    "})\n",
    "# Sort by cluster for clarity\n",
    "clusters = stock_clusters.groupby('Cluster')['Ticker'].apply(list).to_dict()\n",
    "\n",
    "for cluster_id, tickers in clusters.items():\n",
    "    print(f\"Cluster {cluster_id}: {', '.join(tickers)}\")\n"
   ]
  },
  {
   "cell_type": "code",
   "execution_count": null,
   "id": "6e5968fa",
   "metadata": {},
   "outputs": [
    {
     "name": "stdout",
     "output_type": "stream",
     "text": [
      "  Stock    Weight\n",
      "0  AMZN  0.547896\n",
      "1  META  0.075500\n",
      "2  TSLA  0.376605\n"
     ]
    }
   ],
   "source": [
    "from scipy.optimize import minimize\n",
    "import numpy as np\n",
    "import pandas as pd\n",
    "\n",
    "# Define clusters\n",
    "cluster_1_stocks = ['JPM', 'UNH']\n",
    "cluster_2_stocks = ['AAPL', 'GOOGL', 'MSFT', 'NVDA', 'V']\n",
    "cluster_3_stocks = ['AMZN', 'META', 'TSLA']\n",
    "\n",
    "\n",
    "chosen_cluster = cluster_3_stocks  \n",
    "returns_cluster = log_returns[chosen_cluster].dropna()\n",
    "\n",
    "# Calculate mean returns and covariance matrix\n",
    "mean_returns = returns_cluster.mean()\n",
    "cov_matrix = returns_cluster.cov()\n",
    "risk_free_rate = 0.0\n",
    "\n",
    "\n",
    "num_assets = len(chosen_cluster)\n",
    "\n",
    "# Objective: Negative Sharpe Ratio\n",
    "def neg_sharpe(weights):\n",
    "    portfolio_return = np.dot(weights, mean_returns)\n",
    "    portfolio_volatility = np.sqrt(np.dot(weights.T, np.dot(cov_matrix, weights)))\n",
    "    if portfolio_volatility == 0:\n",
    "        return np.inf  # Prevent division by zero\n",
    "    return - (portfolio_return - risk_free_rate) / portfolio_volatility\n",
    "\n",
    "# Constraints: \n",
    "constraints = ({'type': 'eq', 'fun': lambda x: np.sum(x) - 1})\n",
    "bounds = tuple((0, 1) for _ in range(num_assets))\n",
    "\n",
    "# Initial distribution\n",
    "initial_guess = [1. / num_assets] * num_assets\n",
    "\n",
    "# Optimization\n",
    "opt_results = minimize(\n",
    "    neg_sharpe,\n",
    "    initial_guess,\n",
    "    method='SLSQP',\n",
    "    bounds=bounds,\n",
    "    constraints=constraints\n",
    ")\n",
    "\n",
    "# Extract optimal weights\n",
    "optimal_weights = opt_results.x\n",
    "\n",
    "# Create DataFrame for display\n",
    "weights_df = pd.DataFrame({\n",
    "    'Stock': chosen_cluster,\n",
    "    'Weight': optimal_weights\n",
    "})\n",
    "print(weights_df)\n"
   ]
  },
  {
   "cell_type": "code",
   "execution_count": null,
   "id": "d4962e19",
   "metadata": {},
   "outputs": [
    {
     "data": {
      "text/html": [
       "<div>\n",
       "<style scoped>\n",
       "    .dataframe tbody tr th:only-of-type {\n",
       "        vertical-align: middle;\n",
       "    }\n",
       "\n",
       "    .dataframe tbody tr th {\n",
       "        vertical-align: top;\n",
       "    }\n",
       "\n",
       "    .dataframe thead th {\n",
       "        text-align: right;\n",
       "    }\n",
       "</style>\n",
       "<table border=\"1\" class=\"dataframe\">\n",
       "  <thead>\n",
       "    <tr style=\"text-align: right;\">\n",
       "      <th>Ticker</th>\n",
       "      <th>AMZN</th>\n",
       "      <th>META</th>\n",
       "      <th>TSLA</th>\n",
       "    </tr>\n",
       "    <tr>\n",
       "      <th>Date</th>\n",
       "      <th></th>\n",
       "      <th></th>\n",
       "      <th></th>\n",
       "    </tr>\n",
       "  </thead>\n",
       "  <tbody>\n",
       "    <tr>\n",
       "      <th>2020-01-02</th>\n",
       "      <td>94.900497</td>\n",
       "      <td>208.635391</td>\n",
       "      <td>28.684000</td>\n",
       "    </tr>\n",
       "    <tr>\n",
       "      <th>2020-01-03</th>\n",
       "      <td>93.748497</td>\n",
       "      <td>207.531448</td>\n",
       "      <td>29.534000</td>\n",
       "    </tr>\n",
       "    <tr>\n",
       "      <th>2020-01-06</th>\n",
       "      <td>95.143997</td>\n",
       "      <td>211.440018</td>\n",
       "      <td>30.102667</td>\n",
       "    </tr>\n",
       "    <tr>\n",
       "      <th>2020-01-07</th>\n",
       "      <td>95.343002</td>\n",
       "      <td>211.897522</td>\n",
       "      <td>31.270666</td>\n",
       "    </tr>\n",
       "    <tr>\n",
       "      <th>2020-01-08</th>\n",
       "      <td>94.598503</td>\n",
       "      <td>214.045731</td>\n",
       "      <td>32.809334</td>\n",
       "    </tr>\n",
       "    <tr>\n",
       "      <th>...</th>\n",
       "      <td>...</td>\n",
       "      <td>...</td>\n",
       "      <td>...</td>\n",
       "    </tr>\n",
       "    <tr>\n",
       "      <th>2023-12-22</th>\n",
       "      <td>153.419998</td>\n",
       "      <td>351.461853</td>\n",
       "      <td>252.539993</td>\n",
       "    </tr>\n",
       "    <tr>\n",
       "      <th>2023-12-26</th>\n",
       "      <td>153.410004</td>\n",
       "      <td>352.893982</td>\n",
       "      <td>256.609985</td>\n",
       "    </tr>\n",
       "    <tr>\n",
       "      <th>2023-12-27</th>\n",
       "      <td>153.339996</td>\n",
       "      <td>355.877625</td>\n",
       "      <td>261.440002</td>\n",
       "    </tr>\n",
       "    <tr>\n",
       "      <th>2023-12-28</th>\n",
       "      <td>153.380005</td>\n",
       "      <td>356.364960</td>\n",
       "      <td>253.179993</td>\n",
       "    </tr>\n",
       "    <tr>\n",
       "      <th>2023-12-29</th>\n",
       "      <td>151.940002</td>\n",
       "      <td>352.028748</td>\n",
       "      <td>248.479996</td>\n",
       "    </tr>\n",
       "  </tbody>\n",
       "</table>\n",
       "<p>1006 rows × 3 columns</p>\n",
       "</div>"
      ],
      "text/plain": [
       "Ticker            AMZN        META        TSLA\n",
       "Date                                          \n",
       "2020-01-02   94.900497  208.635391   28.684000\n",
       "2020-01-03   93.748497  207.531448   29.534000\n",
       "2020-01-06   95.143997  211.440018   30.102667\n",
       "2020-01-07   95.343002  211.897522   31.270666\n",
       "2020-01-08   94.598503  214.045731   32.809334\n",
       "...                ...         ...         ...\n",
       "2023-12-22  153.419998  351.461853  252.539993\n",
       "2023-12-26  153.410004  352.893982  256.609985\n",
       "2023-12-27  153.339996  355.877625  261.440002\n",
       "2023-12-28  153.380005  356.364960  253.179993\n",
       "2023-12-29  151.940002  352.028748  248.479996\n",
       "\n",
       "[1006 rows x 3 columns]"
      ]
     },
     "execution_count": 9,
     "metadata": {},
     "output_type": "execute_result"
    }
   ],
   "source": [
    "df_test = df_adj.loc['2020-01-01': '2024-01-01']\n",
    "# selected_stocks = ['AAPL', 'NVDA', 'META', 'UNH']\n",
    "selected_stocks_1 =  ['JPM', 'UNH'] \n",
    "selected_stocks_2 = ['AAPL', 'GOOGL', 'MSFT', 'NVDA', 'V']\n",
    "selected_stocks_3 =  ['AMZN', 'META', 'TSLA']\n",
    "df_selected = df_test[selected_stocks_3]\n",
    "df_selected"
   ]
  },
  {
   "cell_type": "code",
   "execution_count": null,
   "id": "46b18d5b",
   "metadata": {},
   "outputs": [
    {
     "data": {
      "text/html": [
       "<div>\n",
       "<style scoped>\n",
       "    .dataframe tbody tr th:only-of-type {\n",
       "        vertical-align: middle;\n",
       "    }\n",
       "\n",
       "    .dataframe tbody tr th {\n",
       "        vertical-align: top;\n",
       "    }\n",
       "\n",
       "    .dataframe thead th {\n",
       "        text-align: right;\n",
       "    }\n",
       "</style>\n",
       "<table border=\"1\" class=\"dataframe\">\n",
       "  <thead>\n",
       "    <tr style=\"text-align: right;\">\n",
       "      <th>Ticker</th>\n",
       "      <th>AMZN</th>\n",
       "      <th>META</th>\n",
       "      <th>TSLA</th>\n",
       "    </tr>\n",
       "    <tr>\n",
       "      <th>Date</th>\n",
       "      <th></th>\n",
       "      <th></th>\n",
       "      <th></th>\n",
       "    </tr>\n",
       "  </thead>\n",
       "  <tbody>\n",
       "    <tr>\n",
       "      <th>2020-01-02</th>\n",
       "      <td>94.900497</td>\n",
       "      <td>208.635391</td>\n",
       "      <td>28.684000</td>\n",
       "    </tr>\n",
       "    <tr>\n",
       "      <th>2020-01-03</th>\n",
       "      <td>93.748497</td>\n",
       "      <td>207.531448</td>\n",
       "      <td>29.534000</td>\n",
       "    </tr>\n",
       "    <tr>\n",
       "      <th>2020-01-06</th>\n",
       "      <td>95.143997</td>\n",
       "      <td>211.440018</td>\n",
       "      <td>30.102667</td>\n",
       "    </tr>\n",
       "    <tr>\n",
       "      <th>2020-01-07</th>\n",
       "      <td>95.343002</td>\n",
       "      <td>211.897522</td>\n",
       "      <td>31.270666</td>\n",
       "    </tr>\n",
       "    <tr>\n",
       "      <th>2020-01-08</th>\n",
       "      <td>94.598503</td>\n",
       "      <td>214.045731</td>\n",
       "      <td>32.809334</td>\n",
       "    </tr>\n",
       "    <tr>\n",
       "      <th>...</th>\n",
       "      <td>...</td>\n",
       "      <td>...</td>\n",
       "      <td>...</td>\n",
       "    </tr>\n",
       "    <tr>\n",
       "      <th>2023-12-22</th>\n",
       "      <td>153.419998</td>\n",
       "      <td>351.461853</td>\n",
       "      <td>252.539993</td>\n",
       "    </tr>\n",
       "    <tr>\n",
       "      <th>2023-12-26</th>\n",
       "      <td>153.410004</td>\n",
       "      <td>352.893982</td>\n",
       "      <td>256.609985</td>\n",
       "    </tr>\n",
       "    <tr>\n",
       "      <th>2023-12-27</th>\n",
       "      <td>153.339996</td>\n",
       "      <td>355.877625</td>\n",
       "      <td>261.440002</td>\n",
       "    </tr>\n",
       "    <tr>\n",
       "      <th>2023-12-28</th>\n",
       "      <td>153.380005</td>\n",
       "      <td>356.364960</td>\n",
       "      <td>253.179993</td>\n",
       "    </tr>\n",
       "    <tr>\n",
       "      <th>2023-12-29</th>\n",
       "      <td>151.940002</td>\n",
       "      <td>352.028748</td>\n",
       "      <td>248.479996</td>\n",
       "    </tr>\n",
       "  </tbody>\n",
       "</table>\n",
       "<p>1006 rows × 3 columns</p>\n",
       "</div>"
      ],
      "text/plain": [
       "Ticker            AMZN        META        TSLA\n",
       "Date                                          \n",
       "2020-01-02   94.900497  208.635391   28.684000\n",
       "2020-01-03   93.748497  207.531448   29.534000\n",
       "2020-01-06   95.143997  211.440018   30.102667\n",
       "2020-01-07   95.343002  211.897522   31.270666\n",
       "2020-01-08   94.598503  214.045731   32.809334\n",
       "...                ...         ...         ...\n",
       "2023-12-22  153.419998  351.461853  252.539993\n",
       "2023-12-26  153.410004  352.893982  256.609985\n",
       "2023-12-27  153.339996  355.877625  261.440002\n",
       "2023-12-28  153.380005  356.364960  253.179993\n",
       "2023-12-29  151.940002  352.028748  248.479996\n",
       "\n",
       "[1006 rows x 3 columns]"
      ]
     },
     "execution_count": 10,
     "metadata": {},
     "output_type": "execute_result"
    }
   ],
   "source": [
    "df_normalized= df_selected.dropna()\n",
    "# df_normalized = df_selected / df_selected.iloc[0]\n",
    "df_normalized"
   ]
  },
  {
   "cell_type": "code",
   "execution_count": null,
   "id": "552044c8",
   "metadata": {},
   "outputs": [
    {
     "name": "stdout",
     "output_type": "stream",
     "text": [
      "Date\n",
      "2020-01-02     78.549975\n",
      "2020-01-03     78.155566\n",
      "2020-01-06     79.429412\n",
      "2020-01-07     80.012861\n",
      "2020-01-08     80.346612\n",
      "                 ...    \n",
      "2023-12-22    205.701133\n",
      "2023-12-26    207.336560\n",
      "2023-12-27    209.342475\n",
      "2023-12-28    206.290430\n",
      "2023-12-29    203.404035\n",
      "Length: 1006, dtype: float64\n"
     ]
    }
   ],
   "source": [
    "weights = optimal_weights\n",
    "portfolio_value = (df_normalized * weights).sum(axis = 1)\n",
    "print(portfolio_value)"
   ]
  },
  {
   "cell_type": "code",
   "execution_count": null,
   "id": "97281f38",
   "metadata": {},
   "outputs": [
    {
     "name": "stderr",
     "output_type": "stream",
     "text": [
      "C:\\Users\\TRAN BINH MINH\\AppData\\Local\\Temp\\ipykernel_37704\\706390707.py:1: FutureWarning: Series.__getitem__ treating keys as positions is deprecated. In a future version, integer keys will always be treated as labels (consistent with DataFrame behavior). To access a value by position, use `ser.iloc[pos]`\n",
      "  total_return = (portfolio_value[-1] / portfolio_value[0]) - 1\n"
     ]
    },
    {
     "data": {
      "text/plain": [
       "158.94856866477807"
      ]
     },
     "execution_count": 12,
     "metadata": {},
     "output_type": "execute_result"
    }
   ],
   "source": [
    "total_return = (portfolio_value[-1] / portfolio_value[0]) - 1\n",
    "total_return_pct = total_return * 100\n",
    "total_return_pct"
   ]
  },
  {
   "cell_type": "code",
   "execution_count": null,
   "id": "c5d3e2b1",
   "metadata": {},
   "outputs": [
    {
     "data": {
      "text/plain": [
       "26.913772367506937"
      ]
     },
     "execution_count": 13,
     "metadata": {},
     "output_type": "execute_result"
    }
   ],
   "source": [
    "num_days = len(portfolio_value)\n",
    "annualized_return = (1 + total_return) ** (252 / num_days) - 1\n",
    "annualized_return_pct = annualized_return * 100\n",
    "annualized_return_pct"
   ]
  },
  {
   "cell_type": "code",
   "execution_count": null,
   "id": "b37b1a56",
   "metadata": {},
   "outputs": [
    {
     "data": {
      "text/plain": [
       "41.75857234630611"
      ]
     },
     "execution_count": 14,
     "metadata": {},
     "output_type": "execute_result"
    }
   ],
   "source": [
    "import math\n",
    "daily_returns = portfolio_value.pct_change().dropna()\n",
    "volatility = daily_returns.std() * math.sqrt(252)\n",
    "volatility_pct = volatility * 100\n",
    "volatility_pct"
   ]
  },
  {
   "cell_type": "code",
   "execution_count": null,
   "id": "a4f5333b",
   "metadata": {},
   "outputs": [
    {
     "data": {
      "text/plain": [
       "0.6445089200921325"
      ]
     },
     "execution_count": 15,
     "metadata": {},
     "output_type": "execute_result"
    }
   ],
   "source": [
    "sharpe_ratio = annualized_return / volatility\n",
    "sharpe_ratio"
   ]
  },
  {
   "cell_type": "code",
   "execution_count": null,
   "id": "f8856c85",
   "metadata": {},
   "outputs": [],
   "source": [
    "def dailyMovingAverage(df, moving_avg_period):\n",
    "    return df.rolling(window = moving_avg_period).mean()"
   ]
  },
  {
   "cell_type": "code",
   "execution_count": null,
   "id": "ff81539e",
   "metadata": {},
   "outputs": [],
   "source": [
    "# Clean pivoted DataFrame\n",
    "df_adj = df[['Date', 'Adj Close', 'Ticker']]\n",
    "df_adj = df.pivot(index='Date', columns='Ticker', values='Adj Close')\n",
    "df_adj = df_adj.sort_index().ffill()"
   ]
  },
  {
   "cell_type": "code",
   "execution_count": null,
   "id": "26f6981e",
   "metadata": {},
   "outputs": [],
   "source": [
    "df_ma_252 = dailyMovingAverage(df_adj, 252)\n",
    "df_ma_252.columns = [col + '_252' for col in df_ma_252.columns]\n",
    "df_adj = df_adj.join(df_ma_252)"
   ]
  },
  {
   "cell_type": "code",
   "execution_count": null,
   "id": "2c97e577",
   "metadata": {},
   "outputs": [
    {
     "data": {
      "image/png": "[encoded data removed]",
      "text/plain": [
       "<Figure size 1400x600 with 1 Axes>"
      ]
     },
     "metadata": {},
     "output_type": "display_data"
    }
   ],
   "source": [
    "import matplotlib.pyplot as plt\n",
    "\n",
    "ticker = 'AAPL'\n",
    "\n",
    "plt.figure(figsize=(14, 6))\n",
    "\n",
    "# Plot actual price from df_adj\n",
    "plt.plot(df_adj.index, df_adj[ticker], label='Actual Price', linewidth=2)\n",
    "\n",
    "# Plot 252-day moving average from df_ma_252\n",
    "plt.plot(df_ma_252.index, df_ma_252[f'{ticker}_252'], label='252-Day Moving Average', linestyle='--')\n",
    "\n",
    "plt.title(f'{ticker}: Actual Price vs 252-Day Moving Average')\n",
    "plt.xlabel('Date')\n",
    "plt.ylabel('Price')\n",
    "plt.legend()\n",
    "plt.grid(True)\n",
    "plt.show()\n"
   ]
  },
  {
   "cell_type": "code",
   "execution_count": null,
   "id": "2485f53e",
   "metadata": {},
   "outputs": [
    {
     "name": "stdout",
     "output_type": "stream",
     "text": [
      "  Ticker          MSE\n",
      "0   AAPL   165.526149\n",
      "1   AMZN   259.380884\n",
      "2  GOOGL   139.906016\n",
      "3    JPM   157.396644\n",
      "4   META  2145.032549\n",
      "5   MSFT   592.302123\n",
      "6   NVDA    24.004572\n",
      "7   TSLA  1534.354099\n",
      "8    UNH   803.918844\n",
      "9      V   176.457847\n"
     ]
    }
   ],
   "source": [
    "from sklearn.metrics import mean_squared_error\n",
    "import pandas as pd\n",
    "\n",
    "results = []\n",
    "\n",
    "for ticker in df_adj.columns:\n",
    "    ma_col = f'{ticker}_252'\n",
    "    if ma_col in df_ma_252.columns:\n",
    "        # Concatenate only the actual price and moving average columns\n",
    "        valid_df = pd.concat([df_adj[ticker], df_ma_252[ma_col]], axis=1).dropna()\n",
    "\n",
    "        mse = mean_squared_error(valid_df[ticker], valid_df[ma_col])\n",
    "        results.append({'Ticker': ticker, 'MSE': mse})\n",
    "\n",
    "df_mse_results = pd.DataFrame(results)\n",
    "print(df_mse_results)\n"
   ]
  },
  {
   "cell_type": "code",
   "execution_count": null,
   "id": "ac013b50",
   "metadata": {},
   "outputs": [],
   "source": [
    "df_log_return = np.log(df_adj / df_adj.shift(1))"
   ]
  },
  {
   "cell_type": "code",
   "execution_count": null,
   "id": "c2cddd93",
   "metadata": {},
   "outputs": [
    {
     "name": "stdout",
     "output_type": "stream",
     "text": [
      "           Sharpe_Ratio\n",
      "AAPL           0.860305\n",
      "AMZN           0.677983\n",
      "GOOGL          0.575116\n",
      "JPM            0.444319\n",
      "META           0.477208\n",
      "MSFT           0.765669\n",
      "NVDA           0.764342\n",
      "TSLA           0.660128\n",
      "UNH            0.856173\n",
      "V              0.722530\n",
      "AAPL_252      14.466227\n",
      "AMZN_252      12.413116\n",
      "GOOGL_252     12.932744\n",
      "JPM_252        9.669521\n",
      "META_252       8.470980\n",
      "MSFT_252      19.096736\n",
      "NVDA_252      11.654363\n",
      "TSLA_252       9.003372\n",
      "UNH_252       25.165269\n",
      "V_252         20.170736\n"
     ]
    }
   ],
   "source": [
    "sharpe_ratios = {}\n",
    "\n",
    "for ticker in df_log_return.columns:\n",
    "    returns = df_log_return[ticker].dropna()\n",
    "    mean_return = returns.mean()\n",
    "    volatility = returns.std()\n",
    "    sharpe = (mean_return / volatility) * np.sqrt(252)\n",
    "    sharpe_ratios[ticker] = sharpe\n",
    "\n",
    "# Display in DataFrame format\n",
    "import pandas as pd\n",
    "df_sharpe = pd.DataFrame.from_dict(sharpe_ratios, orient='index', columns=['Sharpe_Ratio'])\n",
    "print(df_sharpe)\n"
   ]
  },
  {
   "cell_type": "code",
   "execution_count": null,
   "id": "3919f42b",
   "metadata": {},
   "outputs": [
    {
     "name": "stdout",
     "output_type": "stream",
     "text": [
      "           Annual_Volatility\n",
      "AAPL                0.282161\n",
      "AMZN                0.329584\n",
      "GOOGL               0.272132\n",
      "JPM                 0.280295\n",
      "META                0.402210\n",
      "MSFT                0.259276\n",
      "NVDA                0.445743\n",
      "TSLA                0.567163\n",
      "UNH                 0.252761\n",
      "V                   0.254521\n",
      "AAPL_252            0.016427\n",
      "AMZN_252            0.017735\n",
      "GOOGL_252           0.012989\n",
      "JPM_252             0.012916\n",
      "META_252            0.025712\n",
      "MSFT_252            0.010946\n",
      "NVDA_252            0.031489\n",
      "TSLA_252            0.043470\n",
      "UNH_252             0.008921\n",
      "V_252               0.009797\n"
     ]
    }
   ],
   "source": [
    "annual_vols = {}\n",
    "\n",
    "for ticker in df_log_return.columns:  # assuming df_log_return has log returns for all stocks\n",
    "    vol = df_log_return[ticker].dropna().std()\n",
    "    annual_vols[ticker] = vol * np.sqrt(252)\n",
    "\n",
    "df_annual_vol = pd.DataFrame.from_dict(annual_vols, orient='index', columns=['Annual_Volatility'])\n",
    "print(df_annual_vol)\n"
   ]
  },
  {
   "cell_type": "markdown",
   "id": "91e1e58b",
   "metadata": {},
   "source": [
    "### PCA + LSTM"
   ]
  },
  {
   "cell_type": "code",
   "execution_count": null,
   "id": "8debad68",
   "metadata": {},
   "outputs": [],
   "source": [
    "# Normalize the data\n",
    "from sklearn.preprocessing import StandardScaler\n",
    "df_adj = df_adj.loc[:, ~df_adj.columns.str.contains('_252')]\n",
    "df_adj = df_adj.sort_index().ffill().dropna()\n",
    "scaler = StandardScaler()\n",
    "df_scaled = pd.DataFrame(scaler.fit_transform(df_adj), index=df_adj.index, columns=df_adj.columns)\n",
    "df_scaled = df_scaled.dropna()"
   ]
  },
  {
   "cell_type": "code",
   "execution_count": null,
   "id": "7afec6b4",
   "metadata": {},
   "outputs": [
    {
     "data": {
      "text/plain": [
       "(2923, 10)"
      ]
     },
     "execution_count": 25,
     "metadata": {},
     "output_type": "execute_result"
    }
   ],
   "source": [
    "from sklearn.decomposition import PCA\n",
    "\n",
    "pca = PCA(n_components=10)\n",
    "pca_features = pca.fit_transform(df_scaled)\n",
    "pca_features.shape\n"
   ]
  },
  {
   "cell_type": "code",
   "execution_count": null,
   "id": "98fd99ee",
   "metadata": {},
   "outputs": [],
   "source": [
    "\n",
    "# Bước 2: Tạo sliding windows\n",
    "window_size = 60\n",
    "X = []\n",
    "y = []\n",
    "for i in range(window_size, len(df_scaled)):\n",
    "    X_window = df_scaled.iloc[i - window_size:i].values\n",
    "    y_target = df_scaled.iloc[i].values\n",
    "    X.append(X_window)\n",
    "    y.append(y_target)\n",
    "\n",
    "X = np.array(X)\n",
    "y = np.array(y)\n",
    "\n",
    "# Bước 3: Split\n",
    "dates = df_adj.index[window_size:]  # Cập nhật lại đúng\n",
    "train_mask = dates < '2020-01-01'\n",
    "test_mask = dates >= '2020-01-01'\n",
    "\n",
    "X_train = X[train_mask]\n",
    "y_train = y[train_mask]\n",
    "X_test = X[test_mask]\n",
    "y_test = y[test_mask]\n",
    "\n",
    "# Bước 4: Kiểm tra NaN kỹ\n",
    "assert not np.isnan(X_train).any(), \"X_train still has NaN!\"\n",
    "assert not np.isnan(y_train).any(), \"y_train still has NaN!\"\n"
   ]
  },
  {
   "cell_type": "code",
   "execution_count": null,
   "id": "51adcf60",
   "metadata": {},
   "outputs": [],
   "source": [
    "# print(df_adj_filtered.isna().any().any())  # nếu True → vẫn còn NaN\n"
   ]
  },
  {
   "cell_type": "code",
   "execution_count": null,
   "id": "730c67ab",
   "metadata": {},
   "outputs": [],
   "source": [
    "# from sklearn.model_selection import train_test_split\n",
    "# X_train, X_test, y_train, y_test = train_test_split(X, y, test_size = 0.3, random_state = 42)"
   ]
  },
  {
   "cell_type": "code",
   "execution_count": null,
   "id": "0d2b2e0a",
   "metadata": {},
   "outputs": [],
   "source": [
    "# LSTM\n",
    "from tensorflow.keras.models import Sequential\n",
    "from tensorflow.keras.layers import LSTM, Dense, Dropout\n",
    "from keras.optimizers import Adam"
   ]
  },
  {
   "cell_type": "code",
   "execution_count": null,
   "id": "c13b02f7",
   "metadata": {},
   "outputs": [
    {
     "name": "stderr",
     "output_type": "stream",
     "text": [
      "c:\\Users\\TRAN BINH MINH\\NUS\\Anacoda\\Lib\\site-packages\\keras\\src\\layers\\rnn\\rnn.py:204: UserWarning: Do not pass an `input_shape`/`input_dim` argument to a layer. When using Sequential models, prefer using an `Input(shape)` object as the first layer in the model instead.\n",
      "  super().__init__(**kwargs)\n"
     ]
    },
    {
     "data": {
      "text/html": [
       "<pre style=\"white-space:pre;overflow-x:auto;line-height:normal;font-family:Menlo,'DejaVu Sans Mono',consolas,'Courier New',monospace\"><span style=\"font-weight: bold\">Model: \"sequential\"</span>\n",
       "</pre>\n"
      ],
      "text/plain": [
       "\u001b[1mModel: \"sequential\"\u001b[0m\n"
      ]
     },
     "metadata": {},
     "output_type": "display_data"
    },
    {
     "data": {
      "text/html": [
       "<pre style=\"white-space:pre;overflow-x:auto;line-height:normal;font-family:Menlo,'DejaVu Sans Mono',consolas,'Courier New',monospace\">┏━━━━━━━━━━━━━━━━━━━━━━━━━━━━━━━━━┳━━━━━━━━━━━━━━━━━━━━━━━━┳━━━━━━━━━━━━━━━┓\n",
       "┃<span style=\"font-weight: bold\"> Layer (type)                    </span>┃<span style=\"font-weight: bold\"> Output Shape           </span>┃<span style=\"font-weight: bold\">       Param # </span>┃\n",
       "┡━━━━━━━━━━━━━━━━━━━━━━━━━━━━━━━━━╇━━━━━━━━━━━━━━━━━━━━━━━━╇━━━━━━━━━━━━━━━┩\n",
       "│ lstm (<span style=\"color: #0087ff; text-decoration-color: #0087ff\">LSTM</span>)                     │ (<span style=\"color: #00d7ff; text-decoration-color: #00d7ff\">None</span>, <span style=\"color: #00af00; text-decoration-color: #00af00\">60</span>, <span style=\"color: #00af00; text-decoration-color: #00af00\">64</span>)         │        <span style=\"color: #00af00; text-decoration-color: #00af00\">19,200</span> │\n",
       "├─────────────────────────────────┼────────────────────────┼───────────────┤\n",
       "│ dropout (<span style=\"color: #0087ff; text-decoration-color: #0087ff\">Dropout</span>)               │ (<span style=\"color: #00d7ff; text-decoration-color: #00d7ff\">None</span>, <span style=\"color: #00af00; text-decoration-color: #00af00\">60</span>, <span style=\"color: #00af00; text-decoration-color: #00af00\">64</span>)         │             <span style=\"color: #00af00; text-decoration-color: #00af00\">0</span> │\n",
       "├─────────────────────────────────┼────────────────────────┼───────────────┤\n",
       "│ lstm_1 (<span style=\"color: #0087ff; text-decoration-color: #0087ff\">LSTM</span>)                   │ (<span style=\"color: #00d7ff; text-decoration-color: #00d7ff\">None</span>, <span style=\"color: #00af00; text-decoration-color: #00af00\">64</span>)             │        <span style=\"color: #00af00; text-decoration-color: #00af00\">33,024</span> │\n",
       "├─────────────────────────────────┼────────────────────────┼───────────────┤\n",
       "│ dropout_1 (<span style=\"color: #0087ff; text-decoration-color: #0087ff\">Dropout</span>)             │ (<span style=\"color: #00d7ff; text-decoration-color: #00d7ff\">None</span>, <span style=\"color: #00af00; text-decoration-color: #00af00\">64</span>)             │             <span style=\"color: #00af00; text-decoration-color: #00af00\">0</span> │\n",
       "├─────────────────────────────────┼────────────────────────┼───────────────┤\n",
       "│ dense (<span style=\"color: #0087ff; text-decoration-color: #0087ff\">Dense</span>)                   │ (<span style=\"color: #00d7ff; text-decoration-color: #00d7ff\">None</span>, <span style=\"color: #00af00; text-decoration-color: #00af00\">10</span>)             │           <span style=\"color: #00af00; text-decoration-color: #00af00\">650</span> │\n",
       "└─────────────────────────────────┴────────────────────────┴───────────────┘\n",
       "</pre>\n"
      ],
      "text/plain": [
       "┏━━━━━━━━━━━━━━━━━━━━━━━━━━━━━━━━━┳━━━━━━━━━━━━━━━━━━━━━━━━┳━━━━━━━━━━━━━━━┓\n",
       "┃\u001b[1m \u001b[0m\u001b[1mLayer (type)                   \u001b[0m\u001b[1m \u001b[0m┃\u001b[1m \u001b[0m\u001b[1mOutput Shape          \u001b[0m\u001b[1m \u001b[0m┃\u001b[1m \u001b[0m\u001b[1m      Param #\u001b[0m\u001b[1m \u001b[0m┃\n",
       "┡━━━━━━━━━━━━━━━━━━━━━━━━━━━━━━━━━╇━━━━━━━━━━━━━━━━━━━━━━━━╇━━━━━━━━━━━━━━━┩\n",
       "│ lstm (\u001b[38;5;33mLSTM\u001b[0m)                     │ (\u001b[38;5;45mNone\u001b[0m, \u001b[38;5;34m60\u001b[0m, \u001b[38;5;34m64\u001b[0m)         │        \u001b[38;5;34m19,200\u001b[0m │\n",
       "├─────────────────────────────────┼────────────────────────┼───────────────┤\n",
       "│ dropout (\u001b[38;5;33mDropout\u001b[0m)               │ (\u001b[38;5;45mNone\u001b[0m, \u001b[38;5;34m60\u001b[0m, \u001b[38;5;34m64\u001b[0m)         │             \u001b[38;5;34m0\u001b[0m │\n",
       "├─────────────────────────────────┼────────────────────────┼───────────────┤\n",
       "│ lstm_1 (\u001b[38;5;33mLSTM\u001b[0m)                   │ (\u001b[38;5;45mNone\u001b[0m, \u001b[38;5;34m64\u001b[0m)             │        \u001b[38;5;34m33,024\u001b[0m │\n",
       "├─────────────────────────────────┼────────────────────────┼───────────────┤\n",
       "│ dropout_1 (\u001b[38;5;33mDropout\u001b[0m)             │ (\u001b[38;5;45mNone\u001b[0m, \u001b[38;5;34m64\u001b[0m)             │             \u001b[38;5;34m0\u001b[0m │\n",
       "├─────────────────────────────────┼────────────────────────┼───────────────┤\n",
       "│ dense (\u001b[38;5;33mDense\u001b[0m)                   │ (\u001b[38;5;45mNone\u001b[0m, \u001b[38;5;34m10\u001b[0m)             │           \u001b[38;5;34m650\u001b[0m │\n",
       "└─────────────────────────────────┴────────────────────────┴───────────────┘\n"
      ]
     },
     "metadata": {},
     "output_type": "display_data"
    },
    {
     "data": {
      "text/html": [
       "<pre style=\"white-space:pre;overflow-x:auto;line-height:normal;font-family:Menlo,'DejaVu Sans Mono',consolas,'Courier New',monospace\"><span style=\"font-weight: bold\"> Total params: </span><span style=\"color: #00af00; text-decoration-color: #00af00\">52,874</span> (206.54 KB)\n",
       "</pre>\n"
      ],
      "text/plain": [
       "\u001b[1m Total params: \u001b[0m\u001b[38;5;34m52,874\u001b[0m (206.54 KB)\n"
      ]
     },
     "metadata": {},
     "output_type": "display_data"
    },
    {
     "data": {
      "text/html": [
       "<pre style=\"white-space:pre;overflow-x:auto;line-height:normal;font-family:Menlo,'DejaVu Sans Mono',consolas,'Courier New',monospace\"><span style=\"font-weight: bold\"> Trainable params: </span><span style=\"color: #00af00; text-decoration-color: #00af00\">52,874</span> (206.54 KB)\n",
       "</pre>\n"
      ],
      "text/plain": [
       "\u001b[1m Trainable params: \u001b[0m\u001b[38;5;34m52,874\u001b[0m (206.54 KB)\n"
      ]
     },
     "metadata": {},
     "output_type": "display_data"
    },
    {
     "data": {
      "text/html": [
       "<pre style=\"white-space:pre;overflow-x:auto;line-height:normal;font-family:Menlo,'DejaVu Sans Mono',consolas,'Courier New',monospace\"><span style=\"font-weight: bold\"> Non-trainable params: </span><span style=\"color: #00af00; text-decoration-color: #00af00\">0</span> (0.00 B)\n",
       "</pre>\n"
      ],
      "text/plain": [
       "\u001b[1m Non-trainable params: \u001b[0m\u001b[38;5;34m0\u001b[0m (0.00 B)\n"
      ]
     },
     "metadata": {},
     "output_type": "display_data"
    }
   ],
   "source": [
    "model = Sequential() \n",
    "model.add(LSTM(units = 64, return_sequences = True, input_shape = (X.shape[1], X.shape[2])))\n",
    "model.add(Dropout(0.2))\n",
    "model.add(LSTM(units = 64))\n",
    "model.add(Dropout(0.2))\n",
    "# Output layer\n",
    "optimizer = Adam(learning_rate = 0.005)\n",
    "model.add(Dense(units = y.shape[1])) # output dau ra cung so chieu \n",
    "model.compile(optimizer = 'Adam', loss = 'mse')\n",
    "model.summary()"
   ]
  },
  {
   "cell_type": "code",
   "execution_count": null,
   "id": "5b2bc949",
   "metadata": {},
   "outputs": [
    {
     "name": "stdout",
     "output_type": "stream",
     "text": [
      "Epoch 1/50\n",
      "\u001b[1m47/47\u001b[0m \u001b[32m━━━━━━━━━━━━━━━━━━━━\u001b[0m\u001b[37m\u001b[0m \u001b[1m5s\u001b[0m 55ms/step - loss: 0.2468 - val_loss: 0.0397\n",
      "Epoch 2/50\n",
      "\u001b[1m47/47\u001b[0m \u001b[32m━━━━━━━━━━━━━━━━━━━━\u001b[0m\u001b[37m\u001b[0m \u001b[1m2s\u001b[0m 42ms/step - loss: 0.0293 - val_loss: 0.0397\n",
      "Epoch 3/50\n",
      "\u001b[1m47/47\u001b[0m \u001b[32m━━━━━━━━━━━━━━━━━━━━\u001b[0m\u001b[37m\u001b[0m \u001b[1m2s\u001b[0m 46ms/step - loss: 0.0220 - val_loss: 0.0379\n",
      "Epoch 4/50\n",
      "\u001b[1m47/47\u001b[0m \u001b[32m━━━━━━━━━━━━━━━━━━━━\u001b[0m\u001b[37m\u001b[0m \u001b[1m2s\u001b[0m 43ms/step - loss: 0.0199 - val_loss: 0.0345\n",
      "Epoch 5/50\n",
      "\u001b[1m47/47\u001b[0m \u001b[32m━━━━━━━━━━━━━━━━━━━━\u001b[0m\u001b[37m\u001b[0m \u001b[1m2s\u001b[0m 43ms/step - loss: 0.0174 - val_loss: 0.0347\n",
      "Epoch 6/50\n",
      "\u001b[1m47/47\u001b[0m \u001b[32m━━━━━━━━━━━━━━━━━━━━\u001b[0m\u001b[37m\u001b[0m \u001b[1m2s\u001b[0m 35ms/step - loss: 0.0152 - val_loss: 0.0310\n",
      "Epoch 7/50\n",
      "\u001b[1m47/47\u001b[0m \u001b[32m━━━━━━━━━━━━━━━━━━━━\u001b[0m\u001b[37m\u001b[0m \u001b[1m2s\u001b[0m 33ms/step - loss: 0.0132 - val_loss: 0.0302\n",
      "Epoch 8/50\n",
      "\u001b[1m47/47\u001b[0m \u001b[32m━━━━━━━━━━━━━━━━━━━━\u001b[0m\u001b[37m\u001b[0m \u001b[1m2s\u001b[0m 32ms/step - loss: 0.0122 - val_loss: 0.0287\n",
      "Epoch 9/50\n",
      "\u001b[1m47/47\u001b[0m \u001b[32m━━━━━━━━━━━━━━━━━━━━\u001b[0m\u001b[37m\u001b[0m \u001b[1m2s\u001b[0m 33ms/step - loss: 0.0112 - val_loss: 0.0277\n",
      "Epoch 10/50\n",
      "\u001b[1m47/47\u001b[0m \u001b[32m━━━━━━━━━━━━━━━━━━━━\u001b[0m\u001b[37m\u001b[0m \u001b[1m1s\u001b[0m 30ms/step - loss: 0.0111 - val_loss: 0.0271\n",
      "Epoch 11/50\n",
      "\u001b[1m47/47\u001b[0m \u001b[32m━━━━━━━━━━━━━━━━━━━━\u001b[0m\u001b[37m\u001b[0m \u001b[1m1s\u001b[0m 31ms/step - loss: 0.0104 - val_loss: 0.0254\n",
      "Epoch 12/50\n",
      "\u001b[1m47/47\u001b[0m \u001b[32m━━━━━━━━━━━━━━━━━━━━\u001b[0m\u001b[37m\u001b[0m \u001b[1m2s\u001b[0m 34ms/step - loss: 0.0096 - val_loss: 0.0248\n",
      "Epoch 13/50\n",
      "\u001b[1m47/47\u001b[0m \u001b[32m━━━━━━━━━━━━━━━━━━━━\u001b[0m\u001b[37m\u001b[0m \u001b[1m1s\u001b[0m 26ms/step - loss: 0.0089 - val_loss: 0.0235\n",
      "Epoch 14/50\n",
      "\u001b[1m47/47\u001b[0m \u001b[32m━━━━━━━━━━━━━━━━━━━━\u001b[0m\u001b[37m\u001b[0m \u001b[1m2s\u001b[0m 38ms/step - loss: 0.0084 - val_loss: 0.0216\n",
      "Epoch 15/50\n",
      "\u001b[1m47/47\u001b[0m \u001b[32m━━━━━━━━━━━━━━━━━━━━\u001b[0m\u001b[37m\u001b[0m \u001b[1m2s\u001b[0m 33ms/step - loss: 0.0078 - val_loss: 0.0244\n",
      "Epoch 16/50\n",
      "\u001b[1m47/47\u001b[0m \u001b[32m━━━━━━━━━━━━━━━━━━━━\u001b[0m\u001b[37m\u001b[0m \u001b[1m2s\u001b[0m 34ms/step - loss: 0.0077 - val_loss: 0.0222\n",
      "Epoch 17/50\n",
      "\u001b[1m47/47\u001b[0m \u001b[32m━━━━━━━━━━━━━━━━━━━━\u001b[0m\u001b[37m\u001b[0m \u001b[1m2s\u001b[0m 48ms/step - loss: 0.0072 - val_loss: 0.0199\n",
      "Epoch 18/50\n",
      "\u001b[1m47/47\u001b[0m \u001b[32m━━━━━━━━━━━━━━━━━━━━\u001b[0m\u001b[37m\u001b[0m \u001b[1m1s\u001b[0m 31ms/step - loss: 0.0078 - val_loss: 0.0208\n",
      "Epoch 19/50\n",
      "\u001b[1m47/47\u001b[0m \u001b[32m━━━━━━━━━━━━━━━━━━━━\u001b[0m\u001b[37m\u001b[0m \u001b[1m2s\u001b[0m 45ms/step - loss: 0.0070 - val_loss: 0.0199\n",
      "Epoch 20/50\n",
      "\u001b[1m47/47\u001b[0m \u001b[32m━━━━━━━━━━━━━━━━━━━━\u001b[0m\u001b[37m\u001b[0m \u001b[1m3s\u001b[0m 54ms/step - loss: 0.0069 - val_loss: 0.0197\n",
      "Epoch 21/50\n",
      "\u001b[1m47/47\u001b[0m \u001b[32m━━━━━━━━━━━━━━━━━━━━\u001b[0m\u001b[37m\u001b[0m \u001b[1m3s\u001b[0m 56ms/step - loss: 0.0065 - val_loss: 0.0190\n",
      "Epoch 22/50\n",
      "\u001b[1m47/47\u001b[0m \u001b[32m━━━━━━━━━━━━━━━━━━━━\u001b[0m\u001b[37m\u001b[0m \u001b[1m2s\u001b[0m 41ms/step - loss: 0.0058 - val_loss: 0.0183\n",
      "Epoch 23/50\n",
      "\u001b[1m47/47\u001b[0m \u001b[32m━━━━━━━━━━━━━━━━━━━━\u001b[0m\u001b[37m\u001b[0m \u001b[1m2s\u001b[0m 47ms/step - loss: 0.0064 - val_loss: 0.0196\n",
      "Epoch 24/50\n",
      "\u001b[1m47/47\u001b[0m \u001b[32m━━━━━━━━━━━━━━━━━━━━\u001b[0m\u001b[37m\u001b[0m \u001b[1m2s\u001b[0m 41ms/step - loss: 0.0059 - val_loss: 0.0184\n",
      "Epoch 25/50\n",
      "\u001b[1m47/47\u001b[0m \u001b[32m━━━━━━━━━━━━━━━━━━━━\u001b[0m\u001b[37m\u001b[0m \u001b[1m2s\u001b[0m 50ms/step - loss: 0.0061 - val_loss: 0.0189\n",
      "Epoch 26/50\n",
      "\u001b[1m47/47\u001b[0m \u001b[32m━━━━━━━━━━━━━━━━━━━━\u001b[0m\u001b[37m\u001b[0m \u001b[1m2s\u001b[0m 46ms/step - loss: 0.0063 - val_loss: 0.0186\n",
      "Epoch 27/50\n",
      "\u001b[1m47/47\u001b[0m \u001b[32m━━━━━━━━━━━━━━━━━━━━\u001b[0m\u001b[37m\u001b[0m \u001b[1m1s\u001b[0m 31ms/step - loss: 0.0055 - val_loss: 0.0185\n",
      "Epoch 28/50\n",
      "\u001b[1m47/47\u001b[0m \u001b[32m━━━━━━━━━━━━━━━━━━━━\u001b[0m\u001b[37m\u001b[0m \u001b[1m2s\u001b[0m 34ms/step - loss: 0.0054 - val_loss: 0.0171\n",
      "Epoch 29/50\n",
      "\u001b[1m47/47\u001b[0m \u001b[32m━━━━━━━━━━━━━━━━━━━━\u001b[0m\u001b[37m\u001b[0m \u001b[1m2s\u001b[0m 37ms/step - loss: 0.0053 - val_loss: 0.0171\n",
      "Epoch 30/50\n",
      "\u001b[1m47/47\u001b[0m \u001b[32m━━━━━━━━━━━━━━━━━━━━\u001b[0m\u001b[37m\u001b[0m \u001b[1m2s\u001b[0m 33ms/step - loss: 0.0052 - val_loss: 0.0171\n",
      "Epoch 31/50\n",
      "\u001b[1m47/47\u001b[0m \u001b[32m━━━━━━━━━━━━━━━━━━━━\u001b[0m\u001b[37m\u001b[0m \u001b[1m3s\u001b[0m 59ms/step - loss: 0.0050 - val_loss: 0.0177\n",
      "Epoch 32/50\n",
      "\u001b[1m47/47\u001b[0m \u001b[32m━━━━━━━━━━━━━━━━━━━━\u001b[0m\u001b[37m\u001b[0m \u001b[1m4s\u001b[0m 77ms/step - loss: 0.0049 - val_loss: 0.0172\n",
      "Epoch 33/50\n",
      "\u001b[1m47/47\u001b[0m \u001b[32m━━━━━━━━━━━━━━━━━━━━\u001b[0m\u001b[37m\u001b[0m \u001b[1m2s\u001b[0m 45ms/step - loss: 0.0049 - val_loss: 0.0191\n",
      "Epoch 34/50\n",
      "\u001b[1m47/47\u001b[0m \u001b[32m━━━━━━━━━━━━━━━━━━━━\u001b[0m\u001b[37m\u001b[0m \u001b[1m3s\u001b[0m 64ms/step - loss: 0.0055 - val_loss: 0.0169\n",
      "Epoch 35/50\n",
      "\u001b[1m47/47\u001b[0m \u001b[32m━━━━━━━━━━━━━━━━━━━━\u001b[0m\u001b[37m\u001b[0m \u001b[1m2s\u001b[0m 34ms/step - loss: 0.0050 - val_loss: 0.0167\n",
      "Epoch 36/50\n",
      "\u001b[1m47/47\u001b[0m \u001b[32m━━━━━━━━━━━━━━━━━━━━\u001b[0m\u001b[37m\u001b[0m \u001b[1m2s\u001b[0m 33ms/step - loss: 0.0045 - val_loss: 0.0157\n",
      "Epoch 37/50\n",
      "\u001b[1m47/47\u001b[0m \u001b[32m━━━━━━━━━━━━━━━━━━━━\u001b[0m\u001b[37m\u001b[0m \u001b[1m2s\u001b[0m 35ms/step - loss: 0.0047 - val_loss: 0.0156\n",
      "Epoch 38/50\n",
      "\u001b[1m47/47\u001b[0m \u001b[32m━━━━━━━━━━━━━━━━━━━━\u001b[0m\u001b[37m\u001b[0m \u001b[1m3s\u001b[0m 39ms/step - loss: 0.0044 - val_loss: 0.0178\n",
      "Epoch 39/50\n",
      "\u001b[1m47/47\u001b[0m \u001b[32m━━━━━━━━━━━━━━━━━━━━\u001b[0m\u001b[37m\u001b[0m \u001b[1m2s\u001b[0m 34ms/step - loss: 0.0042 - val_loss: 0.0162\n",
      "Epoch 40/50\n",
      "\u001b[1m47/47\u001b[0m \u001b[32m━━━━━━━━━━━━━━━━━━━━\u001b[0m\u001b[37m\u001b[0m \u001b[1m2s\u001b[0m 34ms/step - loss: 0.0041 - val_loss: 0.0163\n",
      "Epoch 41/50\n",
      "\u001b[1m47/47\u001b[0m \u001b[32m━━━━━━━━━━━━━━━━━━━━\u001b[0m\u001b[37m\u001b[0m \u001b[1m3s\u001b[0m 67ms/step - loss: 0.0042 - val_loss: 0.0163\n",
      "Epoch 42/50\n",
      "\u001b[1m47/47\u001b[0m \u001b[32m━━━━━━━━━━━━━━━━━━━━\u001b[0m\u001b[37m\u001b[0m \u001b[1m5s\u001b[0m 96ms/step - loss: 0.0042 - val_loss: 0.0160\n",
      "Epoch 43/50\n",
      "\u001b[1m47/47\u001b[0m \u001b[32m━━━━━━━━━━━━━━━━━━━━\u001b[0m\u001b[37m\u001b[0m \u001b[1m3s\u001b[0m 67ms/step - loss: 0.0040 - val_loss: 0.0155\n",
      "Epoch 44/50\n",
      "\u001b[1m47/47\u001b[0m \u001b[32m━━━━━━━━━━━━━━━━━━━━\u001b[0m\u001b[37m\u001b[0m \u001b[1m2s\u001b[0m 34ms/step - loss: 0.0038 - val_loss: 0.0162\n",
      "Epoch 45/50\n",
      "\u001b[1m47/47\u001b[0m \u001b[32m━━━━━━━━━━━━━━━━━━━━\u001b[0m\u001b[37m\u001b[0m \u001b[1m3s\u001b[0m 63ms/step - loss: 0.0039 - val_loss: 0.0155\n",
      "Epoch 46/50\n",
      "\u001b[1m47/47\u001b[0m \u001b[32m━━━━━━━━━━━━━━━━━━━━\u001b[0m\u001b[37m\u001b[0m \u001b[1m4s\u001b[0m 90ms/step - loss: 0.0039 - val_loss: 0.0152\n",
      "Epoch 47/50\n",
      "\u001b[1m47/47\u001b[0m \u001b[32m━━━━━━━━━━━━━━━━━━━━\u001b[0m\u001b[37m\u001b[0m \u001b[1m6s\u001b[0m 97ms/step - loss: 0.0038 - val_loss: 0.0154\n",
      "Epoch 48/50\n",
      "\u001b[1m47/47\u001b[0m \u001b[32m━━━━━━━━━━━━━━━━━━━━\u001b[0m\u001b[37m\u001b[0m \u001b[1m3s\u001b[0m 72ms/step - loss: 0.0039 - val_loss: 0.0145\n",
      "Epoch 49/50\n",
      "\u001b[1m47/47\u001b[0m \u001b[32m━━━━━━━━━━━━━━━━━━━━\u001b[0m\u001b[37m\u001b[0m \u001b[1m2s\u001b[0m 37ms/step - loss: 0.0038 - val_loss: 0.0145\n",
      "Epoch 50/50\n",
      "\u001b[1m47/47\u001b[0m \u001b[32m━━━━━━━━━━━━━━━━━━━━\u001b[0m\u001b[37m\u001b[0m \u001b[1m2s\u001b[0m 36ms/step - loss: 0.0034 - val_loss: 0.0165\n"
     ]
    }
   ],
   "source": [
    "# huan luyen mo hinh\n",
    "history = model.fit(X_train, y_train, epochs = 50, batch_size = 32, validation_split = 0.2)\n"
   ]
  },
  {
   "cell_type": "code",
   "execution_count": null,
   "id": "87234b75",
   "metadata": {},
   "outputs": [
    {
     "name": "stdout",
     "output_type": "stream",
     "text": [
      "\u001b[1m32/32\u001b[0m \u001b[32m━━━━━━━━━━━━━━━━━━━━\u001b[0m\u001b[37m\u001b[0m \u001b[1m1s\u001b[0m 23ms/step - loss: 0.4760\n",
      "Test MSE: 0.7177\n"
     ]
    }
   ],
   "source": [
    "loss = model.evaluate(X_test, y_test)\n",
    "print(f'Test MSE: {loss:.4f}')"
   ]
  },
  {
   "cell_type": "code",
   "execution_count": null,
   "id": "c075d7c9",
   "metadata": {},
   "outputs": [
    {
     "name": "stdout",
     "output_type": "stream",
     "text": [
      "\u001b[1m32/32\u001b[0m \u001b[32m━━━━━━━━━━━━━━━━━━━━\u001b[0m\u001b[37m\u001b[0m \u001b[1m1s\u001b[0m 28ms/step\n"
     ]
    }
   ],
   "source": [
    "y_pred_pca = model.predict(X_test)\n",
    "y_pred_scaled = pca.inverse_transform(y_pred_pca)\n",
    "y_pred = scaler.inverse_transform(y_pred_scaled)\n",
    "\n",
    "# Inverse transform\n",
    "# y_test_pca_inv = pca.inverse_transform(y_test)\n",
    "# y_pred_pca_inv = pca.inverse_transform(y_pred)\n",
    "# y_test_final = scaler.inverse_transform(y_test_pca_inv)\n",
    "# y_pred_final = scaler.inverse_transform(y_pred_pca_inv)"
   ]
  },
  {
   "cell_type": "code",
   "execution_count": null,
   "id": "8ebe36fe",
   "metadata": {},
   "outputs": [
    {
     "data": {
      "image/png": "[encoded data removed]",
      "text/plain": [
       "<Figure size 2000x1000 with 1 Axes>"
      ]
     },
     "metadata": {},
     "output_type": "display_data"
    }
   ],
   "source": [
    "ticker = 'AAPL'\n",
    "ticker_index = df_adj.columns.get_loc(ticker)\n",
    "\n",
    "# Actual from original df\n",
    "actual_2020_2024 = df_adj.loc['2020-01-01':'2024-12-31', ticker].values\n",
    "\n",
    "plt.figure(figsize=(20, 10))\n",
    "plt.plot(actual_2020_2024, label='Actual Price (2020–2024)')\n",
    "plt.plot(y_pred[:, ticker_index], label='Predicted Price', color='orange')\n",
    "plt.title(f'{ticker} - Actual vs Predicted (2020–2024)')\n",
    "plt.xlabel('Time')\n",
    "plt.ylabel('Price')\n",
    "plt.legend()\n",
    "plt.show()\n"
   ]
  },
  {
   "cell_type": "code",
   "execution_count": null,
   "id": "249f1a16",
   "metadata": {},
   "outputs": [],
   "source": [
    "from scipy.optimize import minimize, Bounds\n",
    "import numpy as np "
   ]
  },
  {
   "cell_type": "code",
   "execution_count": null,
   "id": "d2331aa8",
   "metadata": {},
   "outputs": [],
   "source": [
    "def optimize_weights(predicted_returns, lam1 = 10, lam2 = 0.01):\n",
    "    mu = predicted_returns.mean().values\n",
    "    cov = predicted_returns.cov().values\n",
    "    n = len(mu)\n",
    "    # ham muc tieu\n",
    "    def objective(w):\n",
    "        ret = mu @ w\n",
    "        risk = w @ cov @ w\n",
    "        sparsity = np.sum(np.abs(w))\n",
    "        return - (ret - lam1 * risk + lam2 * sparsity)\n",
    "    \n",
    "    constraints = {'type' : 'eq', 'fun': lambda w: np.sum(w) - 1}\n",
    "    bounds = Bounds(0,1)\n",
    "    initial_w = np.ones(n) / n\n",
    "    result = minimize(objective, initial_w, bounds = bounds, constraints = constraints)\n",
    "    return result.x\n",
    "\n"
   ]
  },
  {
   "cell_type": "code",
   "execution_count": null,
   "id": "2b81096e",
   "metadata": {},
   "outputs": [],
   "source": [
    "predicted_returns = pd.DataFrame(y_pred, columns=df_adj.columns)\n",
    "predicted_returns = np.log(predicted_returns / predicted_returns.shift(1)).dropna()\n"
   ]
  },
  {
   "cell_type": "code",
   "execution_count": null,
   "id": "d757ebaf",
   "metadata": {},
   "outputs": [],
   "source": [
    "optimal_weights = optimize_weights(predicted_returns)"
   ]
  },
  {
   "cell_type": "code",
   "execution_count": null,
   "id": "8b75e29e",
   "metadata": {},
   "outputs": [],
   "source": [
    "actual_prices_df = df_adj.loc['2020-01-01':'2024-12-31', :]\n",
    "actual_prices =actual_prices_df.pct_change().dropna()"
   ]
  },
  {
   "cell_type": "code",
   "execution_count": null,
   "id": "c104d29a",
   "metadata": {},
   "outputs": [
    {
     "data": {
      "image/png": "[encoded data removed]",
      "text/plain": [
       "<Figure size 1000x600 with 1 Axes>"
      ]
     },
     "metadata": {},
     "output_type": "display_data"
    }
   ],
   "source": [
    "portfolio_returns = actual_prices @ optimal_weights\n",
    "cummulative_returns = (1 + portfolio_returns).cumprod()\n",
    "aapl = df_adj['AAPL'].loc['2020-01-01':'2024-12-31'].pct_change().dropna()\n",
    "aapl_cummulative_returns =  (1 + aapl).cumprod()\n",
    "plt.figure(figsize = (10,6))\n",
    "plt.plot(cummulative_returns, label = 'Optimized Portfolio')\n",
    "plt.plot(aapl_cummulative_returns, label = 'AAPL', linestyle = '--')\n",
    "plt.title('Cummulative Returns')\n",
    "plt.xlabel('Time')\n",
    "plt.ylabel('Growth')\n",
    "plt.legend()\n",
    "plt.show()"
   ]
  },
  {
   "cell_type": "code",
   "execution_count": null,
   "id": "fecb2026",
   "metadata": {},
   "outputs": [
    {
     "data": {
      "text/plain": [
       "AMZN     4.692562e-01\n",
       "JPM      3.155310e-01\n",
       "UNH      1.118952e-01\n",
       "V        5.821141e-02\n",
       "NVDA     4.510617e-02\n",
       "AAPL     1.221452e-16\n",
       "MSFT     9.499277e-17\n",
       "GOOGL    0.000000e+00\n",
       "META     0.000000e+00\n",
       "TSLA     0.000000e+00\n",
       "dtype: float64"
      ]
     },
     "execution_count": 41,
     "metadata": {},
     "output_type": "execute_result"
    }
   ],
   "source": [
    "weight_series = pd.Series(optimal_weights, index = predicted_returns.columns)\n",
    "weight_series.sort_values(ascending = False)\n"
   ]
  },
  {
   "cell_type": "code",
   "execution_count": null,
   "id": "67302746",
   "metadata": {},
   "outputs": [
    {
     "name": "stdout",
     "output_type": "stream",
     "text": [
      "Total_return: 85.31%\n"
     ]
    },
    {
     "name": "stderr",
     "output_type": "stream",
     "text": [
      "C:\\Users\\TRAN BINH MINH\\AppData\\Local\\Temp\\ipykernel_37704\\1653967292.py:3: FutureWarning: Series.__getitem__ treating keys as positions is deprecated. In a future version, integer keys will always be treated as labels (consistent with DataFrame behavior). To access a value by position, use `ser.iloc[pos]`\n",
      "  total_return = cummulative_returns[-1] - 1\n"
     ]
    }
   ],
   "source": [
    "portfolio_returns = actual_prices @ optimal_weights\n",
    "cummualative_returns = (1 + portfolio_returns).cumprod()\n",
    "total_return = cummulative_returns[-1] - 1\n",
    "print(f\"Total_return: {total_return:.2%}\")"
   ]
  },
  {
   "cell_type": "code",
   "execution_count": null,
   "id": "1f6695dd",
   "metadata": {},
   "outputs": [
    {
     "data": {
      "text/plain": [
       "0.19304088914797027"
      ]
     },
     "execution_count": 43,
     "metadata": {},
     "output_type": "execute_result"
    }
   ],
   "source": [
    "mean_daily_returns = actual_prices.mean().values @ optimal_weights\n",
    "annualized_return = mean_daily_returns * 252\n",
    "annualized_return"
   ]
  },
  {
   "cell_type": "code",
   "execution_count": null,
   "id": "c2515fa8",
   "metadata": {},
   "outputs": [
    {
     "data": {
      "text/plain": [
       "0.276629729247173"
      ]
     },
     "execution_count": 44,
     "metadata": {},
     "output_type": "execute_result"
    }
   ],
   "source": [
    "cov_matrix = actual_prices.cov().values\n",
    "annualized_votatility = np.sqrt(optimal_weights @ cov_matrix @ optimal_weights) * np.sqrt(252)\n",
    "annualized_votatility"
   ]
  },
  {
   "cell_type": "code",
   "execution_count": null,
   "id": "8c357080",
   "metadata": {},
   "outputs": [
    {
     "data": {
      "text/plain": [
       "0.697831320130763"
      ]
     },
     "execution_count": 45,
     "metadata": {},
     "output_type": "execute_result"
    }
   ],
   "source": [
    "sharpe_ratio = annualized_return / annualized_votatility\n",
    "sharpe_ratio"
   ]
  },
  {
   "cell_type": "code",
   "execution_count": null,
   "id": "1df4497d",
   "metadata": {},
   "outputs": [
    {
     "data": {
      "text/plain": [
       "array([0.        , 0.        , 0.        , 0.        , 0.        ,\n",
       "       0.00114974, 0.54155711, 0.45729315, 0.        , 0.        ])"
      ]
     },
     "execution_count": 46,
     "metadata": {},
     "output_type": "execute_result"
    }
   ],
   "source": [
    "predicted_returns = df_ma_252.pct_change().dropna()\n",
    "optimal_weights = optimize_weights(predicted_returns)\n",
    "optimal_weights"
   ]
  },
  {
   "cell_type": "code",
   "execution_count": null,
   "id": "2a2ba883",
   "metadata": {},
   "outputs": [
    {
     "name": "stdout",
     "output_type": "stream",
     "text": [
      "Annualized Return: 0.8289\n",
      "Annualized Volatility: 0.5281\n",
      "Sharpe Ratio: 1.5695\n",
      "Total Return: 9.1076\n"
     ]
    }
   ],
   "source": [
    "# 2. Tính lợi nhuận danh mục\n",
    "portfolio_returns = actual_prices @ optimal_weights\n",
    "# 3. Tính cumulative return\n",
    "cumulative_returns = (1 + portfolio_returns).cumprod()\n",
    "\n",
    "# 4. Tính annualized return\n",
    "annualized_return = (1 + cumulative_returns.iloc[-1]) ** (252 / len(portfolio_returns)) - 1\n",
    "\n",
    "# 5. Annualized volatility\n",
    "annualized_volatility = np.sqrt(252) * np.std(portfolio_returns)\n",
    "\n",
    "# 6. Sharpe ratio (risk-free rate assumed 0)\n",
    "sharpe_ratio = annualized_return / annualized_volatility\n",
    "\n",
    "# 7. In kết quả\n",
    "print(f\"Annualized Return: {annualized_return:.4f}\")\n",
    "print(f\"Annualized Volatility: {annualized_volatility:.4f}\")\n",
    "print(f\"Sharpe Ratio: {sharpe_ratio:.4f}\")\n",
    "print(f\"Total Return: {cumulative_returns.iloc[-1] - 1:.4f}\")"
   ]
  },
  {
   "cell_type": "code",
   "execution_count": null,
   "id": "4323970d",
   "metadata": {},
   "outputs": [
    {
     "data": {
      "text/plain": [
       "0.7204349461842552"
      ]
     },
     "execution_count": 48,
     "metadata": {},
     "output_type": "execute_result"
    }
   ],
   "source": [
    "mean_daily_returns = actual_prices.mean().values @ optimal_weights\n",
    "annualized_return = mean_daily_returns * 252\n",
    "annualized_return"
   ]
  },
  {
   "cell_type": "code",
   "execution_count": null,
   "id": "29d29466",
   "metadata": {},
   "outputs": [
    {
     "data": {
      "text/plain": [
       "0.5283783964828487"
      ]
     },
     "execution_count": 49,
     "metadata": {},
     "output_type": "execute_result"
    }
   ],
   "source": [
    "cov_matrix = actual_prices.cov().values\n",
    "annualized_votatility = np.sqrt(optimal_weights @ cov_matrix @ optimal_weights) * np.sqrt(252)\n",
    "annualized_votatility"
   ]
  },
  {
   "cell_type": "code",
   "execution_count": null,
   "id": "22022e16",
   "metadata": {},
   "outputs": [
    {
     "data": {
      "text/plain": [
       "1.3634829716351597"
      ]
     },
     "execution_count": 50,
     "metadata": {},
     "output_type": "execute_result"
    }
   ],
   "source": [
    "sharpe_ratio = annualized_return / annualized_votatility\n",
    "sharpe_ratio"
   ]
  },
  {
   "cell_type": "code",
   "execution_count": null,
   "id": "877816cb",
   "metadata": {},
   "outputs": [
    {
     "data": {
      "text/plain": [
       "array([0.1, 0.1, 0.1, 0.1, 0.1, 0.1, 0.1, 0.1, 0.1, 0.1])"
      ]
     },
     "execution_count": 51,
     "metadata": {},
     "output_type": "execute_result"
    }
   ],
   "source": [
    "equal_weights = np.ones(len(df_ma_252.columns)) / len(df_ma_252.columns)\n",
    "equal_weights"
   ]
  },
  {
   "cell_type": "code",
   "execution_count": null,
   "id": "00e23742",
   "metadata": {},
   "outputs": [
    {
     "name": "stdout",
     "output_type": "stream",
     "text": [
      "Annualized Return: 0.4113\n",
      "Annualized Volatility: 0.2995\n",
      "Sharpe Ratio: 1.3734\n",
      "Total Return: 1.9513\n"
     ]
    }
   ],
   "source": [
    "# 2. Tính lợi nhuận danh mục\n",
    "portfolio_returns = actual_prices @ equal_weights\n",
    "\n",
    "# 3. Tính cumulative return\n",
    "cumulative_returns = (1 + portfolio_returns).cumprod()\n",
    "\n",
    "# 4. Tính annualized return\n",
    "annualized_return = (1 + cumulative_returns.iloc[-1]) ** (252 / len(portfolio_returns)) - 1\n",
    "\n",
    "# 5. Annualized volatility\n",
    "annualized_volatility = np.sqrt(252) * np.std(portfolio_returns)\n",
    "\n",
    "# 6. Sharpe ratio (risk-free rate assumed 0)\n",
    "sharpe_ratio = annualized_return / annualized_volatility\n",
    "\n",
    "# 7. In kết quả\n",
    "print(f\"Annualized Return: {annualized_return:.4f}\")\n",
    "print(f\"Annualized Volatility: {annualized_volatility:.4f}\")\n",
    "print(f\"Sharpe Ratio: {sharpe_ratio:.4f}\")\n",
    "print(f\"Total Return: {cumulative_returns.iloc[-1] - 1:.4f}\")"
   ]
  },
  {
   "cell_type": "code",
   "execution_count": null,
   "id": "cc2e15f9",
   "metadata": {},
   "outputs": [
    {
     "data": {
      "image/png": "[encoded data removed]",
      "text/plain": [
       "<Figure size 1000x600 with 1 Axes>"
      ]
     },
     "metadata": {},
     "output_type": "display_data"
    }
   ],
   "source": [
    "plt.figure(figsize = (10,6))\n",
    "plt.plot(cummulative_returns, label = 'Optimized Portfolio')\n",
    "plt.title('Cummulative Returns')\n",
    "plt.xlabel('Time')\n",
    "plt.ylabel('Growth')\n",
    "plt.legend()\n",
    "plt.show()"
   ]
  },
  {
   "cell_type": "code",
   "execution_count": null,
   "id": "02803372",
   "metadata": {},
   "outputs": [],
   "source": [
    "PCA = train_components()"
   ]
  },
  {
   "cell_type": "code",
   "execution_count": null,
   "id": "382ffc11",
   "metadata": {},
   "outputs": [],
   "source": [
    "from sklearn.linear_model import LinearRegression\n",
    "\n",
    "def predict_prices(df_adj, close, time, lookback, forward, stock_num):\n",
    "    pca_train = PCA(n_components = 10)\n",
    "    pca_test = PCA(n_components = 10)\n",
    "\n",
    "    X_train = df_adj[time-forward-lookback : time-forward, :]\n",
    "    X_train = MinMaxScaler().fit_transform(X_train)\n",
    "    X_train = pca_train.fit_transform(X_train)\n",
    "    y_train = close.iloc[time-forward+1 : time + 1, stock_num]\n",
    "\n",
    "    \n",
    "    X_test = df_adj[time-forward-lookback : time-forward, :]\n",
    "    X_test = MinMaxScaler().fit_transform(X_test)\n",
    "    X_test = pca_test.fit_transform(X_test)\n",
    "    y_test = close.iloc[time-forward+1 : time + 1, stock_num]\n",
    "\n",
    "    model = LinearRegression()\n",
    "    model.fit(X_train , y_train)\n",
    "    predicted_price = model.predict(X_test)\n",
    "\n",
    "    return predicted_price "
   ]
  },
  {
   "cell_type": "code",
   "execution_count": null,
   "id": "ace482ef",
   "metadata": {},
   "outputs": [
    {
     "ename": "NameError",
     "evalue": "name 'df_adj' is not defined",
     "output_type": "error",
     "traceback": [
      "\u001b[1;31m---------------------------------------------------------------------------\u001b[0m",
      "\u001b[1;31mNameError\u001b[0m                                 Traceback (most recent call last)",
      "Cell \u001b[1;32mIn[2], line 1\u001b[0m\n\u001b[1;32m----> 1\u001b[0m returns \u001b[38;5;241m=\u001b[39m df_adj\u001b[38;5;241m.\u001b[39mpct_change()\u001b[38;5;241m.\u001b[39mdropna()      \u001b[38;5;66;03m# simple returns\u001b[39;00m\n\u001b[0;32m      2\u001b[0m \u001b[38;5;66;03m# or\u001b[39;00m\n\u001b[0;32m      3\u001b[0m returns \u001b[38;5;241m=\u001b[39m np\u001b[38;5;241m.\u001b[39mlog(df_adj\u001b[38;5;241m/\u001b[39mdf_adj\u001b[38;5;241m.\u001b[39mshift(\u001b[38;5;241m1\u001b[39m))\u001b[38;5;241m.\u001b[39mdropna()   \u001b[38;5;66;03m# log-returns (optional, often preferred)\u001b[39;00m\n",
      "\u001b[1;31mNameError\u001b[0m: name 'df_adj' is not defined"
     ]
    }
   ],
   "source": [
    "returns = df_adj.pct_change().dropna()      # simple returns\n",
    "# or\n",
    "returns = np.log(df_adj/df_adj.shift(1)).dropna()   # log-returns (optional, often preferred)\n",
    "\n",
    "alpha = returns.mean().values\n",
    "V     = returns.cov().values\n"
   ]
  },
  {
   "cell_type": "code",
   "execution_count": null,
   "id": "4f04a935",
   "metadata": {},
   "outputs": [
    {
     "name": "stdout",
     "output_type": "stream",
     "text": [
      "Nominal solution h* = [-1.50941834e-14 -1.50946358e-14 -1.50951874e-14 -1.50941304e-14\n",
      " -1.50946802e-14 -1.50943955e-14 -1.50940792e-14 -1.50949920e-14\n",
      " -1.50946178e-14 -1.50946156e-14]\n",
      "DR solution h* = [-3.68101225e-12  9.46074681e-13 -1.35139405e-11 -1.68283185e-11\n",
      " -2.63124825e-11 -1.38120393e-12  1.33828912e-12 -3.70696279e-12\n",
      " -3.88067722e-13  2.07480192e-11]\n"
     ]
    }
   ],
   "source": [
    "import cvxpy as cp\n",
    "import numpy as np\n",
    "\n",
    "# === Parameters ===\n",
    "l = 10                              # number of assets\n",
    "alpha = np.random.randn(l)          # expected return forecast\n",
    "V = np.random.randn(l, l)\n",
    "V = V.T @ V                         # covariance matrix (PSD)\n",
    "\n",
    "gamma_risk = 1.0\n",
    "gamma_trd  = 1.0\n",
    "gamma_hld  = 1.0\n",
    "\n",
    "h_init = np.zeros(l)                # initial holdings\n",
    "eta_lb, eta_ub = 0.0, 1.0           # budget constraints\n",
    "\n",
    "# === penalty functions ===\n",
    "def phi_trd(x):\n",
    "    return cp.norm1(x)              # e.g., L1 trading cost\n",
    "\n",
    "def phi_hld(x):\n",
    "    return cp.norm1(x)              # e.g., L1 holding cost\n",
    "\n",
    "# =======================================\n",
    "# (1) Nominal Formulation\n",
    "# =======================================\n",
    "\n",
    "h = cp.Variable(l)\n",
    "\n",
    "objective_nominal = (\n",
    "    alpha @ h\n",
    "    - gamma_risk * cp.quad_form(h, V)\n",
    "    - gamma_trd  * phi_trd(h - h_init)\n",
    "    - gamma_hld  * phi_hld(h)\n",
    ")\n",
    "\n",
    "constraints = [\n",
    "    cp.sum(h) >= eta_lb,\n",
    "    cp.sum(h) <= eta_ub,\n",
    "]\n",
    "\n",
    "prob_nominal = cp.Problem(cp.Maximize(objective_nominal), constraints)\n",
    "prob_nominal.solve()\n",
    "\n",
    "print(\"Nominal solution h* =\", h.value)\n",
    "\n",
    "\n",
    "# ==================================================\n",
    "# (2) Distributionally Robust version (Wasserstein)\n",
    "# ==================================================\n",
    "\n",
    "# Wasserstein parameters\n",
    "epsilon = 0.5  # radius\n",
    "# c is the norm bound on returns; can be tuned based on data\n",
    "c = 1.0       \n",
    "\n",
    "# Dual reformulation (Mohajerin Esfahani & Kuhn 2018):\n",
    "# worst-case mean --> alpha - epsilon * ||h||_*\n",
    "# worst-case var  --> V + epsilon * I * gamma   (if quadratic)\n",
    "# For simplicity we add a regularization: epsilon * ||h||_2\n",
    "\n",
    "h_dr = cp.Variable(l)\n",
    "\n",
    "# Add Wasserstein penalty term\n",
    "wass_penalty = epsilon * cp.norm(h_dr, 2)\n",
    "\n",
    "objective_dr = (\n",
    "    alpha @ h_dr\n",
    "    - wass_penalty\n",
    "    - gamma_risk * cp.quad_form(h_dr, V)\n",
    "    - gamma_trd  * phi_trd(h_dr - h_init)\n",
    "    - gamma_hld  * phi_hld(h_dr)\n",
    ")\n",
    "\n",
    "prob_dr = cp.Problem(cp.Maximize(objective_dr), constraints)\n",
    "prob_dr.solve()\n",
    "\n",
    "print(\"DR solution h* =\", h_dr.value)\n"
   ]
  },
  {
   "cell_type": "code",
   "execution_count": null,
   "id": "0520da51",
   "metadata": {},
   "outputs": [],
   "source": []
  },
  {
   "cell_type": "code",
   "execution_count": null,
   "id": "63550508",
   "metadata": {},
   "outputs": [],
   "source": []
  }
 ],
 "metadata": {
  "kernelspec": {
   "display_name": "Python 3",
   "language": "python",
   "name": "python3"
  },
  "language_info": {
   "codemirror_mode": {
    "name": "ipython",
    "version": 3
   },
   "file_extension": ".py",
   "mimetype": "text/x-python",
   "name": "python",
   "nbconvert_exporter": "python",
   "pygments_lexer": "ipython3",
   "version": "3.10.11"
  }
 },
 "nbformat": 4,
 "nbformat_minor": 5
}
