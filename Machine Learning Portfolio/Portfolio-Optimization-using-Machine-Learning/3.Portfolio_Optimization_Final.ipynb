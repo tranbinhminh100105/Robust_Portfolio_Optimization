{
  "cells": [
    {
      "cell_type": "code",
      "execution_count": null,
      "metadata": {
        "id": "PVpPeacuHvbI"
      },
      "outputs": [
        {
          "ename": "ModuleNotFoundError",
          "evalue": "No module named 'google.colab'",
          "output_type": "error",
          "traceback": [
            "\u001b[1;31m---------------------------------------------------------------------------\u001b[0m",
            "\u001b[1;31mModuleNotFoundError\u001b[0m                       Traceback (most recent call last)",
            "Cell \u001b[1;32mIn[1], line 3\u001b[0m\n\u001b[0;32m      1\u001b[0m \u001b[38;5;28;01mfrom\u001b[39;00m \u001b[38;5;21;01mpydrive\u001b[39;00m\u001b[38;5;21;01m.\u001b[39;00m\u001b[38;5;21;01mauth\u001b[39;00m \u001b[38;5;28;01mimport\u001b[39;00m GoogleAuth \n\u001b[0;32m      2\u001b[0m \u001b[38;5;28;01mfrom\u001b[39;00m \u001b[38;5;21;01mpydrive\u001b[39;00m\u001b[38;5;21;01m.\u001b[39;00m\u001b[38;5;21;01mdrive\u001b[39;00m \u001b[38;5;28;01mimport\u001b[39;00m GoogleDrive \n\u001b[1;32m----> 3\u001b[0m \u001b[38;5;28;01mfrom\u001b[39;00m \u001b[38;5;21;01mgoogle\u001b[39;00m\u001b[38;5;21;01m.\u001b[39;00m\u001b[38;5;21;01mcolab\u001b[39;00m \u001b[38;5;28;01mimport\u001b[39;00m auth \n\u001b[0;32m      4\u001b[0m \u001b[38;5;28;01mfrom\u001b[39;00m \u001b[38;5;21;01moauth2client\u001b[39;00m\u001b[38;5;21;01m.\u001b[39;00m\u001b[38;5;21;01mclient\u001b[39;00m \u001b[38;5;28;01mimport\u001b[39;00m GoogleCredentials \n\u001b[0;32m      7\u001b[0m \u001b[38;5;66;03m# Authenticate and create the PyDrive client. \u001b[39;00m\n",
            "\u001b[1;31mModuleNotFoundError\u001b[0m: No module named 'google.colab'"
          ]
        }
      ],
      "source": [
        "# from pydrive.auth import GoogleAuth \n",
        "# from pydrive.drive import GoogleDrive \n",
        "# from google.colab import auth \n",
        "# from oauth2client.client import GoogleCredentials \n",
        "  \n",
        "  \n",
        "# # Authenticate and create the PyDrive client. \n",
        "# auth.authenticate_user() \n",
        "# gauth = GoogleAuth() \n",
        "# gauth.credentials = GoogleCredentials.get_application_default() \n",
        "# drive = GoogleDrive(gauth)"
      ]
    },
    {
      "cell_type": "code",
      "execution_count": null,
      "metadata": {
        "id": "NeTUpJIvH8fQ"
      },
      "outputs": [],
      "source": [
        "# #This part linkes the dataset in the drive to the google colab file\n",
        "# link =  'https://drive.google.com/file/d/1yzZTYQXxJ2KmUfBddh4N63DoFholzsuV/view?usp=sharing' #Moving Average\n",
        "# link2 = 'https://drive.google.com/file/d/1e1LUjGWbSo3FAVJkl-YrK-mIwRwTZG9I/view?usp=sharing' #Actual Prices\n",
        "# link3 = 'https://drive.google.com/file/d/16wCdkMXOxIh75QjYuN9vxlNo2RuF2MSr/view?usp=sharing' #PCA Predicted\n",
        "# link4 = 'https://drive.google.com/file/d/1-PzbGALW502qtO4VOUOahtqWR3IUJSNC/view?usp=sharing' #LR Predicted\n",
        "# link5 = 'https://drive.google.com/file/d/1-1pSSwP8xzLh2MDx29nU3bPCNcSmHL8X/view?usp=sharing' #PCA Actuals\n",
        "# link6 = 'https://drive.google.com/file/d/1jrbnWW45MeEPq3JEox9sP2tOyGEdBzAo/view?usp=sharing' #LR Actuals\n",
        "\n",
        "# id = link.split('/')[-2]\n",
        "# id2 = link2.split('/')[-2]\n",
        "# id3 = link3.split('/')[-2]\n",
        "# id4 = link4.split('/')[-2]\n",
        "# id5 = link5.split('/')[-2]\n",
        "# id6 = link6.split('/')[-2]\n",
        "# # id7 = link7.split('/')[-2]\n",
        "\n",
        "# downloaded = drive.CreateFile({'id' : id})\n",
        "# downloaded2 = drive.CreateFile({'id' : id2})\n",
        "# downloaded3 = drive.CreateFile({'id' : id3})\n",
        "# downloaded4 = drive.CreateFile({'id' : id4})\n",
        "# downloaded5 = drive.CreateFile({'id' : id5})\n",
        "# downloaded6 = drive.CreateFile({'id' : id6})\n",
        "\n",
        "\n",
        "\n",
        "# downloaded.GetContentFile('MovingAverage.csv')\n",
        "# downloaded.GetContentFile('y_dataset.csv')\n",
        "# downloaded3.GetContentFile('PCA_Predicted_Prices.csv')\n",
        "# downloaded4.GetContentFile('LR_Predicted_Prices.csv')\n",
        "# downloaded5.GetContentFile('PCA_Actual_Prices.csv')\n",
        "# downloaded6.GetContentFile('LR_Actual_prices.csv')"
      ]
    },
    {
      "cell_type": "code",
      "execution_count": null,
      "metadata": {
        "id": "WSb43sTvHCiw"
      },
      "outputs": [],
      "source": [
        "# #S&P 500 Data\n",
        "# link = 'https://drive.google.com/file/d/1MMKb7NW7wfggpfpAm8xS2UFwzomjZJju/view?usp=sharing'\n",
        "# id7 = link.split('/')[-2]\n",
        "# downloaded7 = drive.CreateFile({'id' : id7})\n",
        "# downloaded7.GetContentFile('SP500.csv')\n",
        "# SP500 = pd.read_csv(\"SP500.csv\")"
      ]
    },
    {
      "cell_type": "code",
      "execution_count": 1,
      "metadata": {},
      "outputs": [
        {
          "data": {
            "text/html": [
              "<div>\n",
              "<style scoped>\n",
              "    .dataframe tbody tr th:only-of-type {\n",
              "        vertical-align: middle;\n",
              "    }\n",
              "\n",
              "    .dataframe tbody tr th {\n",
              "        vertical-align: top;\n",
              "    }\n",
              "\n",
              "    .dataframe thead th {\n",
              "        text-align: right;\n",
              "    }\n",
              "</style>\n",
              "<table border=\"1\" class=\"dataframe\">\n",
              "  <thead>\n",
              "    <tr style=\"text-align: right;\">\n",
              "      <th></th>\n",
              "      <th>Date</th>\n",
              "      <th>Open</th>\n",
              "      <th>High</th>\n",
              "      <th>Low</th>\n",
              "      <th>Close</th>\n",
              "      <th>Adj Close</th>\n",
              "      <th>Volume</th>\n",
              "      <th>Ticker</th>\n",
              "    </tr>\n",
              "  </thead>\n",
              "  <tbody>\n",
              "    <tr>\n",
              "      <th>0</th>\n",
              "      <td>2010-01-04</td>\n",
              "      <td>7.622500</td>\n",
              "      <td>7.660714</td>\n",
              "      <td>7.585000</td>\n",
              "      <td>7.643214</td>\n",
              "      <td>6.431897</td>\n",
              "      <td>493729600.0</td>\n",
              "      <td>AAPL</td>\n",
              "    </tr>\n",
              "    <tr>\n",
              "      <th>1</th>\n",
              "      <td>2010-01-05</td>\n",
              "      <td>7.664286</td>\n",
              "      <td>7.699643</td>\n",
              "      <td>7.616071</td>\n",
              "      <td>7.656429</td>\n",
              "      <td>6.443018</td>\n",
              "      <td>601904800.0</td>\n",
              "      <td>AAPL</td>\n",
              "    </tr>\n",
              "    <tr>\n",
              "      <th>2</th>\n",
              "      <td>2010-01-06</td>\n",
              "      <td>7.656429</td>\n",
              "      <td>7.686786</td>\n",
              "      <td>7.526786</td>\n",
              "      <td>7.534643</td>\n",
              "      <td>6.340534</td>\n",
              "      <td>552160000.0</td>\n",
              "      <td>AAPL</td>\n",
              "    </tr>\n",
              "    <tr>\n",
              "      <th>3</th>\n",
              "      <td>2010-01-07</td>\n",
              "      <td>7.562500</td>\n",
              "      <td>7.571429</td>\n",
              "      <td>7.466071</td>\n",
              "      <td>7.520714</td>\n",
              "      <td>6.328810</td>\n",
              "      <td>477131200.0</td>\n",
              "      <td>AAPL</td>\n",
              "    </tr>\n",
              "    <tr>\n",
              "      <th>4</th>\n",
              "      <td>2010-01-08</td>\n",
              "      <td>7.510714</td>\n",
              "      <td>7.571429</td>\n",
              "      <td>7.466429</td>\n",
              "      <td>7.570714</td>\n",
              "      <td>6.370887</td>\n",
              "      <td>447610800.0</td>\n",
              "      <td>AAPL</td>\n",
              "    </tr>\n",
              "    <tr>\n",
              "      <th>...</th>\n",
              "      <td>...</td>\n",
              "      <td>...</td>\n",
              "      <td>...</td>\n",
              "      <td>...</td>\n",
              "      <td>...</td>\n",
              "      <td>...</td>\n",
              "      <td>...</td>\n",
              "      <td>...</td>\n",
              "    </tr>\n",
              "    <tr>\n",
              "      <th>35215</th>\n",
              "      <td>2023-12-22</td>\n",
              "      <td>519.880005</td>\n",
              "      <td>523.010010</td>\n",
              "      <td>518.020020</td>\n",
              "      <td>520.309998</td>\n",
              "      <td>506.513519</td>\n",
              "      <td>1759500.0</td>\n",
              "      <td>UNH</td>\n",
              "    </tr>\n",
              "    <tr>\n",
              "      <th>35216</th>\n",
              "      <td>2023-12-26</td>\n",
              "      <td>519.880005</td>\n",
              "      <td>521.479980</td>\n",
              "      <td>517.969971</td>\n",
              "      <td>520.030029</td>\n",
              "      <td>506.240906</td>\n",
              "      <td>1390800.0</td>\n",
              "      <td>UNH</td>\n",
              "    </tr>\n",
              "    <tr>\n",
              "      <th>35217</th>\n",
              "      <td>2023-12-27</td>\n",
              "      <td>519.750000</td>\n",
              "      <td>523.159973</td>\n",
              "      <td>519.359985</td>\n",
              "      <td>522.789978</td>\n",
              "      <td>508.927734</td>\n",
              "      <td>1851800.0</td>\n",
              "      <td>UNH</td>\n",
              "    </tr>\n",
              "    <tr>\n",
              "      <th>35218</th>\n",
              "      <td>2023-12-28</td>\n",
              "      <td>523.469971</td>\n",
              "      <td>527.869995</td>\n",
              "      <td>522.940002</td>\n",
              "      <td>524.900024</td>\n",
              "      <td>510.981873</td>\n",
              "      <td>2001000.0</td>\n",
              "      <td>UNH</td>\n",
              "    </tr>\n",
              "    <tr>\n",
              "      <th>35219</th>\n",
              "      <td>2023-12-29</td>\n",
              "      <td>525.979980</td>\n",
              "      <td>528.239990</td>\n",
              "      <td>523.919983</td>\n",
              "      <td>526.469971</td>\n",
              "      <td>512.510071</td>\n",
              "      <td>2080100.0</td>\n",
              "      <td>UNH</td>\n",
              "    </tr>\n",
              "  </tbody>\n",
              "</table>\n",
              "<p>35220 rows × 8 columns</p>\n",
              "</div>"
            ],
            "text/plain": [
              "             Date        Open        High         Low       Close   Adj Close  \\\n",
              "0      2010-01-04    7.622500    7.660714    7.585000    7.643214    6.431897   \n",
              "1      2010-01-05    7.664286    7.699643    7.616071    7.656429    6.443018   \n",
              "2      2010-01-06    7.656429    7.686786    7.526786    7.534643    6.340534   \n",
              "3      2010-01-07    7.562500    7.571429    7.466071    7.520714    6.328810   \n",
              "4      2010-01-08    7.510714    7.571429    7.466429    7.570714    6.370887   \n",
              "...           ...         ...         ...         ...         ...         ...   \n",
              "35215  2023-12-22  519.880005  523.010010  518.020020  520.309998  506.513519   \n",
              "35216  2023-12-26  519.880005  521.479980  517.969971  520.030029  506.240906   \n",
              "35217  2023-12-27  519.750000  523.159973  519.359985  522.789978  508.927734   \n",
              "35218  2023-12-28  523.469971  527.869995  522.940002  524.900024  510.981873   \n",
              "35219  2023-12-29  525.979980  528.239990  523.919983  526.469971  512.510071   \n",
              "\n",
              "            Volume Ticker  \n",
              "0      493729600.0   AAPL  \n",
              "1      601904800.0   AAPL  \n",
              "2      552160000.0   AAPL  \n",
              "3      477131200.0   AAPL  \n",
              "4      447610800.0   AAPL  \n",
              "...            ...    ...  \n",
              "35215    1759500.0    UNH  \n",
              "35216    1390800.0    UNH  \n",
              "35217    1851800.0    UNH  \n",
              "35218    2001000.0    UNH  \n",
              "35219    2080100.0    UNH  \n",
              "\n",
              "[35220 rows x 8 columns]"
            ]
          },
          "execution_count": 1,
          "metadata": {},
          "output_type": "execute_result"
        }
      ],
      "source": [
        "import pandas as pd\n",
        "pd.read_csv('combined_10_stocks.csv')"
      ]
    },
    {
      "cell_type": "code",
      "execution_count": 1,
      "metadata": {
        "id": "Cf3XleKFJYmk"
      },
      "outputs": [
        {
          "ename": "FileNotFoundError",
          "evalue": "[Errno 2] No such file or directory: 'MovingAverage.csv'",
          "output_type": "error",
          "traceback": [
            "\u001b[1;31m---------------------------------------------------------------------------\u001b[0m",
            "\u001b[1;31mFileNotFoundError\u001b[0m                         Traceback (most recent call last)",
            "Cell \u001b[1;32mIn[1], line 8\u001b[0m\n\u001b[0;32m      5\u001b[0m get_ipython()\u001b[38;5;241m.\u001b[39mrun_line_magic(\u001b[38;5;124m'\u001b[39m\u001b[38;5;124mmatplotlib\u001b[39m\u001b[38;5;124m'\u001b[39m, \u001b[38;5;124m'\u001b[39m\u001b[38;5;124minline\u001b[39m\u001b[38;5;124m'\u001b[39m)\n\u001b[0;32m      7\u001b[0m \u001b[38;5;66;03m#Model 1: Moving Average\u001b[39;00m\n\u001b[1;32m----> 8\u001b[0m Moving_Average \u001b[38;5;241m=\u001b[39m pd\u001b[38;5;241m.\u001b[39mread_csv(\u001b[38;5;124m'\u001b[39m\u001b[38;5;124mMovingAverage.csv\u001b[39m\u001b[38;5;124m'\u001b[39m)\n\u001b[0;32m      9\u001b[0m Moving_Average[\u001b[38;5;124m'\u001b[39m\u001b[38;5;124mDate\u001b[39m\u001b[38;5;124m'\u001b[39m] \u001b[38;5;241m=\u001b[39m  pd\u001b[38;5;241m.\u001b[39mto_datetime(Moving_Average[\u001b[38;5;124m'\u001b[39m\u001b[38;5;124mDate\u001b[39m\u001b[38;5;124m'\u001b[39m])\n\u001b[0;32m     10\u001b[0m Moving_Average\u001b[38;5;241m=\u001b[39mMoving_Average\u001b[38;5;241m.\u001b[39mset_index(\u001b[38;5;124m'\u001b[39m\u001b[38;5;124mDate\u001b[39m\u001b[38;5;124m'\u001b[39m)\n",
            "File \u001b[1;32mc:\\Users\\TRAN BINH MINH\\NUS\\Anacoda\\Lib\\site-packages\\pandas\\io\\parsers\\readers.py:948\u001b[0m, in \u001b[0;36mread_csv\u001b[1;34m(filepath_or_buffer, sep, delimiter, header, names, index_col, usecols, dtype, engine, converters, true_values, false_values, skipinitialspace, skiprows, skipfooter, nrows, na_values, keep_default_na, na_filter, verbose, skip_blank_lines, parse_dates, infer_datetime_format, keep_date_col, date_parser, date_format, dayfirst, cache_dates, iterator, chunksize, compression, thousands, decimal, lineterminator, quotechar, quoting, doublequote, escapechar, comment, encoding, encoding_errors, dialect, on_bad_lines, delim_whitespace, low_memory, memory_map, float_precision, storage_options, dtype_backend)\u001b[0m\n\u001b[0;32m    935\u001b[0m kwds_defaults \u001b[38;5;241m=\u001b[39m _refine_defaults_read(\n\u001b[0;32m    936\u001b[0m     dialect,\n\u001b[0;32m    937\u001b[0m     delimiter,\n\u001b[1;32m   (...)\u001b[0m\n\u001b[0;32m    944\u001b[0m     dtype_backend\u001b[38;5;241m=\u001b[39mdtype_backend,\n\u001b[0;32m    945\u001b[0m )\n\u001b[0;32m    946\u001b[0m kwds\u001b[38;5;241m.\u001b[39mupdate(kwds_defaults)\n\u001b[1;32m--> 948\u001b[0m \u001b[38;5;28;01mreturn\u001b[39;00m _read(filepath_or_buffer, kwds)\n",
            "File \u001b[1;32mc:\\Users\\TRAN BINH MINH\\NUS\\Anacoda\\Lib\\site-packages\\pandas\\io\\parsers\\readers.py:611\u001b[0m, in \u001b[0;36m_read\u001b[1;34m(filepath_or_buffer, kwds)\u001b[0m\n\u001b[0;32m    608\u001b[0m _validate_names(kwds\u001b[38;5;241m.\u001b[39mget(\u001b[38;5;124m\"\u001b[39m\u001b[38;5;124mnames\u001b[39m\u001b[38;5;124m\"\u001b[39m, \u001b[38;5;28;01mNone\u001b[39;00m))\n\u001b[0;32m    610\u001b[0m \u001b[38;5;66;03m# Create the parser.\u001b[39;00m\n\u001b[1;32m--> 611\u001b[0m parser \u001b[38;5;241m=\u001b[39m TextFileReader(filepath_or_buffer, \u001b[38;5;241m*\u001b[39m\u001b[38;5;241m*\u001b[39mkwds)\n\u001b[0;32m    613\u001b[0m \u001b[38;5;28;01mif\u001b[39;00m chunksize \u001b[38;5;129;01mor\u001b[39;00m iterator:\n\u001b[0;32m    614\u001b[0m     \u001b[38;5;28;01mreturn\u001b[39;00m parser\n",
            "File \u001b[1;32mc:\\Users\\TRAN BINH MINH\\NUS\\Anacoda\\Lib\\site-packages\\pandas\\io\\parsers\\readers.py:1448\u001b[0m, in \u001b[0;36mTextFileReader.__init__\u001b[1;34m(self, f, engine, **kwds)\u001b[0m\n\u001b[0;32m   1445\u001b[0m     \u001b[38;5;28mself\u001b[39m\u001b[38;5;241m.\u001b[39moptions[\u001b[38;5;124m\"\u001b[39m\u001b[38;5;124mhas_index_names\u001b[39m\u001b[38;5;124m\"\u001b[39m] \u001b[38;5;241m=\u001b[39m kwds[\u001b[38;5;124m\"\u001b[39m\u001b[38;5;124mhas_index_names\u001b[39m\u001b[38;5;124m\"\u001b[39m]\n\u001b[0;32m   1447\u001b[0m \u001b[38;5;28mself\u001b[39m\u001b[38;5;241m.\u001b[39mhandles: IOHandles \u001b[38;5;241m|\u001b[39m \u001b[38;5;28;01mNone\u001b[39;00m \u001b[38;5;241m=\u001b[39m \u001b[38;5;28;01mNone\u001b[39;00m\n\u001b[1;32m-> 1448\u001b[0m \u001b[38;5;28mself\u001b[39m\u001b[38;5;241m.\u001b[39m_engine \u001b[38;5;241m=\u001b[39m \u001b[38;5;28mself\u001b[39m\u001b[38;5;241m.\u001b[39m_make_engine(f, \u001b[38;5;28mself\u001b[39m\u001b[38;5;241m.\u001b[39mengine)\n",
            "File \u001b[1;32mc:\\Users\\TRAN BINH MINH\\NUS\\Anacoda\\Lib\\site-packages\\pandas\\io\\parsers\\readers.py:1705\u001b[0m, in \u001b[0;36mTextFileReader._make_engine\u001b[1;34m(self, f, engine)\u001b[0m\n\u001b[0;32m   1703\u001b[0m     \u001b[38;5;28;01mif\u001b[39;00m \u001b[38;5;124m\"\u001b[39m\u001b[38;5;124mb\u001b[39m\u001b[38;5;124m\"\u001b[39m \u001b[38;5;129;01mnot\u001b[39;00m \u001b[38;5;129;01min\u001b[39;00m mode:\n\u001b[0;32m   1704\u001b[0m         mode \u001b[38;5;241m+\u001b[39m\u001b[38;5;241m=\u001b[39m \u001b[38;5;124m\"\u001b[39m\u001b[38;5;124mb\u001b[39m\u001b[38;5;124m\"\u001b[39m\n\u001b[1;32m-> 1705\u001b[0m \u001b[38;5;28mself\u001b[39m\u001b[38;5;241m.\u001b[39mhandles \u001b[38;5;241m=\u001b[39m get_handle(\n\u001b[0;32m   1706\u001b[0m     f,\n\u001b[0;32m   1707\u001b[0m     mode,\n\u001b[0;32m   1708\u001b[0m     encoding\u001b[38;5;241m=\u001b[39m\u001b[38;5;28mself\u001b[39m\u001b[38;5;241m.\u001b[39moptions\u001b[38;5;241m.\u001b[39mget(\u001b[38;5;124m\"\u001b[39m\u001b[38;5;124mencoding\u001b[39m\u001b[38;5;124m\"\u001b[39m, \u001b[38;5;28;01mNone\u001b[39;00m),\n\u001b[0;32m   1709\u001b[0m     compression\u001b[38;5;241m=\u001b[39m\u001b[38;5;28mself\u001b[39m\u001b[38;5;241m.\u001b[39moptions\u001b[38;5;241m.\u001b[39mget(\u001b[38;5;124m\"\u001b[39m\u001b[38;5;124mcompression\u001b[39m\u001b[38;5;124m\"\u001b[39m, \u001b[38;5;28;01mNone\u001b[39;00m),\n\u001b[0;32m   1710\u001b[0m     memory_map\u001b[38;5;241m=\u001b[39m\u001b[38;5;28mself\u001b[39m\u001b[38;5;241m.\u001b[39moptions\u001b[38;5;241m.\u001b[39mget(\u001b[38;5;124m\"\u001b[39m\u001b[38;5;124mmemory_map\u001b[39m\u001b[38;5;124m\"\u001b[39m, \u001b[38;5;28;01mFalse\u001b[39;00m),\n\u001b[0;32m   1711\u001b[0m     is_text\u001b[38;5;241m=\u001b[39mis_text,\n\u001b[0;32m   1712\u001b[0m     errors\u001b[38;5;241m=\u001b[39m\u001b[38;5;28mself\u001b[39m\u001b[38;5;241m.\u001b[39moptions\u001b[38;5;241m.\u001b[39mget(\u001b[38;5;124m\"\u001b[39m\u001b[38;5;124mencoding_errors\u001b[39m\u001b[38;5;124m\"\u001b[39m, \u001b[38;5;124m\"\u001b[39m\u001b[38;5;124mstrict\u001b[39m\u001b[38;5;124m\"\u001b[39m),\n\u001b[0;32m   1713\u001b[0m     storage_options\u001b[38;5;241m=\u001b[39m\u001b[38;5;28mself\u001b[39m\u001b[38;5;241m.\u001b[39moptions\u001b[38;5;241m.\u001b[39mget(\u001b[38;5;124m\"\u001b[39m\u001b[38;5;124mstorage_options\u001b[39m\u001b[38;5;124m\"\u001b[39m, \u001b[38;5;28;01mNone\u001b[39;00m),\n\u001b[0;32m   1714\u001b[0m )\n\u001b[0;32m   1715\u001b[0m \u001b[38;5;28;01massert\u001b[39;00m \u001b[38;5;28mself\u001b[39m\u001b[38;5;241m.\u001b[39mhandles \u001b[38;5;129;01mis\u001b[39;00m \u001b[38;5;129;01mnot\u001b[39;00m \u001b[38;5;28;01mNone\u001b[39;00m\n\u001b[0;32m   1716\u001b[0m f \u001b[38;5;241m=\u001b[39m \u001b[38;5;28mself\u001b[39m\u001b[38;5;241m.\u001b[39mhandles\u001b[38;5;241m.\u001b[39mhandle\n",
            "File \u001b[1;32mc:\\Users\\TRAN BINH MINH\\NUS\\Anacoda\\Lib\\site-packages\\pandas\\io\\common.py:863\u001b[0m, in \u001b[0;36mget_handle\u001b[1;34m(path_or_buf, mode, encoding, compression, memory_map, is_text, errors, storage_options)\u001b[0m\n\u001b[0;32m    858\u001b[0m \u001b[38;5;28;01melif\u001b[39;00m \u001b[38;5;28misinstance\u001b[39m(handle, \u001b[38;5;28mstr\u001b[39m):\n\u001b[0;32m    859\u001b[0m     \u001b[38;5;66;03m# Check whether the filename is to be opened in binary mode.\u001b[39;00m\n\u001b[0;32m    860\u001b[0m     \u001b[38;5;66;03m# Binary mode does not support 'encoding' and 'newline'.\u001b[39;00m\n\u001b[0;32m    861\u001b[0m     \u001b[38;5;28;01mif\u001b[39;00m ioargs\u001b[38;5;241m.\u001b[39mencoding \u001b[38;5;129;01mand\u001b[39;00m \u001b[38;5;124m\"\u001b[39m\u001b[38;5;124mb\u001b[39m\u001b[38;5;124m\"\u001b[39m \u001b[38;5;129;01mnot\u001b[39;00m \u001b[38;5;129;01min\u001b[39;00m ioargs\u001b[38;5;241m.\u001b[39mmode:\n\u001b[0;32m    862\u001b[0m         \u001b[38;5;66;03m# Encoding\u001b[39;00m\n\u001b[1;32m--> 863\u001b[0m         handle \u001b[38;5;241m=\u001b[39m \u001b[38;5;28mopen\u001b[39m(\n\u001b[0;32m    864\u001b[0m             handle,\n\u001b[0;32m    865\u001b[0m             ioargs\u001b[38;5;241m.\u001b[39mmode,\n\u001b[0;32m    866\u001b[0m             encoding\u001b[38;5;241m=\u001b[39mioargs\u001b[38;5;241m.\u001b[39mencoding,\n\u001b[0;32m    867\u001b[0m             errors\u001b[38;5;241m=\u001b[39merrors,\n\u001b[0;32m    868\u001b[0m             newline\u001b[38;5;241m=\u001b[39m\u001b[38;5;124m\"\u001b[39m\u001b[38;5;124m\"\u001b[39m,\n\u001b[0;32m    869\u001b[0m         )\n\u001b[0;32m    870\u001b[0m     \u001b[38;5;28;01melse\u001b[39;00m:\n\u001b[0;32m    871\u001b[0m         \u001b[38;5;66;03m# Binary mode\u001b[39;00m\n\u001b[0;32m    872\u001b[0m         handle \u001b[38;5;241m=\u001b[39m \u001b[38;5;28mopen\u001b[39m(handle, ioargs\u001b[38;5;241m.\u001b[39mmode)\n",
            "\u001b[1;31mFileNotFoundError\u001b[0m: [Errno 2] No such file or directory: 'MovingAverage.csv'"
          ]
        }
      ],
      "source": [
        "import pandas as pd\n",
        "import numpy as np\n",
        "import matplotlib.pyplot as plt\n",
        "import seaborn as sns\n",
        "%matplotlib inline\n",
        "\n",
        "#Model 1: Moving Average\n",
        "Moving_Average = pd.read_csv('MovingAverage.csv')\n",
        "Moving_Average['Date'] =  pd.to_datetime(Moving_Average['Date'])\n",
        "Moving_Average=Moving_Average.set_index('Date')\n",
        "\n",
        "Closing_Prices = pd.read_csv('y_dataset.csv')\n",
        "Closing_Prices['Date'] =  pd.to_datetime(Closing_Prices['Date'])\n",
        "Closing_Prices=Closing_Prices.set_index('Date')\n",
        "\n",
        "\n",
        "#Model 2: Linear Regression\n",
        "LR_Predicted_Prices = pd.read_csv('LR_Predicted_Prices.csv')\n",
        "LR_Predicted_Prices['Date'] =  pd.to_datetime(LR_Predicted_Prices['Date'])\n",
        "LR_Predicted_Prices=LR_Predicted_Prices.set_index('Date')\n",
        "\n",
        "LR_Actual_Prices = pd.read_csv('LR_Actual_prices.csv')\n",
        "LR_Actual_Prices['Date'] =  pd.to_datetime(LR_Actual_Prices['Date'])\n",
        "LR_Actual_Prices=LR_Actual_Prices.set_index('Date')\n",
        "\n",
        "\n",
        "#Model 3: LSTM\n",
        "PCA_Predicted_Prices = pd.read_csv('PCA_Predicted_Prices.csv')\n",
        "PCA_Predicted_Prices['Date'] =  pd.to_datetime(PCA_Predicted_Prices['Date'])\n",
        "PCA_Predicted_Prices=PCA_Predicted_Prices.set_index('Date')\n",
        "\n",
        "PCA_Actual_Prices = pd.read_csv('PCA_Actual_Prices.csv')\n",
        "PCA_Actual_Prices['Date'] =  pd.to_datetime(PCA_Actual_Prices['Date'])\n",
        "PCA_Actual_Prices=PCA_Actual_Prices.set_index('Date')"
      ]
    },
    {
      "cell_type": "code",
      "execution_count": null,
      "metadata": {
        "id": "a2IXlsKHgGiN"
      },
      "outputs": [],
      "source": [
        "#Computing Log Returns\n",
        "PCA_Predicted_Returns = PCA_Predicted_Prices.apply(lambda x: np.log(x) - np.log(x.shift(1))).iloc[1:] \n",
        "PCA_Actual_Returns = PCA_Actual_Prices.apply(lambda x: np.log(x) - np.log(x.shift(1))).iloc[1:] \n",
        "\n",
        "LR_Predicted_Returns = LR_Predicted_Prices.apply(lambda x: np.log(x) - np.log(x.shift(1))).iloc[1:] \n",
        "LR_Actual_Returns = LR_Actual_Prices.apply(lambda x: np.log(x) - np.log(x.shift(1))).iloc[1:] \n",
        "\n",
        "Closing_Prices_Returns = Closing_Prices.apply(lambda x: np.log(x) - np.log(x.shift(1))).iloc[1:] "
      ]
    },
    {
      "cell_type": "code",
      "execution_count": null,
      "metadata": {
        "colab": {
          "base_uri": "https://localhost:8080/"
        },
        "id": "SyUeKVIwcQVk",
        "outputId": "7ab392a3-91c3-4753-8ba6-d480c106ea53"
      },
      "outputs": [
        {
          "data": {
            "text/plain": [
              "8952.899124468708"
            ]
          },
          "execution_count": 54,
          "metadata": {
            "tags": []
          },
          "output_type": "execute_result"
        }
      ],
      "source": [
        "from sklearn.metrics import mean_squared_error\n",
        "mean_squared_error(PCA_Actual_Prices, PCA_Predicted_Prices)"
      ]
    },
    {
      "cell_type": "markdown",
      "metadata": {
        "id": "yciTSu7EHRXQ"
      },
      "source": [
        "# Creation of Different Lookback and Forward Windows"
      ]
    },
    {
      "cell_type": "code",
      "execution_count": null,
      "metadata": {
        "id": "QaUsA_Vnb3-h"
      },
      "outputs": [],
      "source": [
        "#Mean Returns function\n",
        "def mean_returns(df, length): \n",
        "  mu = df.sum(axis = 0)/length\n",
        "  return mu"
      ]
    },
    {
      "cell_type": "code",
      "execution_count": null,
      "metadata": {
        "id": "fejjgE_eG7dW"
      },
      "outputs": [],
      "source": [
        "from datetime import timedelta\n",
        "from dateutil.parser import parse\n",
        "\n",
        "def monthdelta(date, delta):\n",
        "    m, y = (date.month+delta) % 12, date.year + ((date.month)+delta-1) // 12\n",
        "    if not m: m = 12\n",
        "    d = min(date.day, [31,\n",
        "        29 if y%4==0 and not y%400==0 else 28,31,30,31,30,31,31,30,31,30,31][m-1])\n",
        "    new_date = (date.replace(day=d,month=m, year=y))\n",
        "    return parse(new_date.strftime('%Y-%m-%d'))\n",
        "\n",
        "\n",
        "#This part of the code takes in a dataset and splits it into datasets w/ lookback months and forward looking months\n",
        "def windowGenerator (dataframe, lookback, horizon,\n",
        "                    step, cummulative = False):\n",
        "\n",
        "#takes pandas dataframe with DatetimeIndex\n",
        "\n",
        "    if cummulative:\n",
        "        c = lookback\n",
        "        step = horizon\n",
        "        \n",
        "    initial = min(dataframe.index)\n",
        "    windows = []\n",
        "    horizons = []\n",
        "\n",
        "    while initial <= monthdelta(max(dataframe.index), -lookback):\n",
        "        windowStart = initial\n",
        "        windowEnd = monthdelta(windowStart, lookback)\n",
        "        if cummulative:\n",
        "            windowStart = min(dataframe.index)\n",
        "            windowEnd = monthdelta(windowStart, c) + timedelta(days=1)\n",
        "            c += horizon\n",
        "        horizonStart = windowEnd + timedelta(days=1)\n",
        "        horizonEnd = monthdelta(horizonStart, horizon)\n",
        "\n",
        "        lookbackWindow = dataframe[windowStart:windowEnd]\n",
        "        horizonWindow = dataframe[horizonStart:horizonEnd]\n",
        "\n",
        "        windows.append(lookbackWindow)\n",
        "        horizons.append(horizonWindow)\n",
        "\n",
        "        initial = monthdelta(initial, step)\n",
        "\n",
        "    return windows, horizons"
      ]
    },
    {
      "cell_type": "markdown",
      "metadata": {
        "id": "QK2l4PMPHmXI"
      },
      "source": [
        "# Optimize Function"
      ]
    },
    {
      "cell_type": "code",
      "execution_count": null,
      "metadata": {
        "id": "lShaMwyIG-no"
      },
      "outputs": [],
      "source": [
        "from scipy.optimize import minimize, Bounds, LinearConstraint\n",
        "from numpy.linalg import norm\n",
        "\n",
        "def actual_return(actual_returns, w):\n",
        "  actual_returns = actual_returns\n",
        "  mean_return = mean_returns(actual_returns, actual_returns.shape[0])\n",
        "  actual_covariance = actual_returns.cov()\n",
        "\n",
        "  portfolio_returns = mean_return.T.dot(w)\n",
        "  portfolio_variance = w.T.dot(actual_covariance).dot(w)\n",
        "  return portfolio_returns, portfolio_variance\n",
        "\n",
        "\n",
        "#Input entire predicted returns df, actual returns df, starting date\n",
        "def scipy_opt(predicted_returns, actual_returns, lam1, lam2):\n",
        "  mean_return = mean_returns(predicted_returns, predicted_returns.shape[0])\n",
        "  predicted_covariance = predicted_returns.cov()\n",
        "  \n",
        "  #Cost Function\n",
        "  def f(w):\n",
        "    return -(mean_return.T.dot(w) - lam1*(w.T.dot(predicted_covariance).dot(w)) + lam2*norm(w, ord=1))\n",
        "  #out custom maximises \n",
        "\n",
        "  #Bounds of Weights\n",
        "  opt_bounds = Bounds(0, 1)\n",
        "\n",
        "  #Equality Constraints\n",
        "  def h(w):\n",
        "    return sum(w) - 1\n",
        "\n",
        "  #Constraints Dictionary\n",
        "  cons = ({\n",
        "      'type' : 'eq',\n",
        "      'fun' : lambda w: h(w)\n",
        "  })\n",
        "\n",
        "  #Solver\n",
        "  sol = minimize(f,\n",
        "                 x0 = np.ones(mean_return.shape[0]),\n",
        "                 constraints = cons,\n",
        "                 bounds = opt_bounds,\n",
        "                 options = {'disp': False},\n",
        "                 tol=10e-10)\n",
        "\n",
        "\n",
        "  #Predicted Results\n",
        "  w = sol.x\n",
        "  predicted_portfolio_returns = w.dot(mean_return)\n",
        "  portfolio_STD = w.T.dot(predicted_covariance).dot(w)\n",
        "  \n",
        "  #Actual Results\n",
        "  portfolio_actual_returns, portfolio_actual_variance = actual_return(actual_returns, w)\n",
        "  sharpe_ratio = portfolio_actual_returns/np.std(portfolio_actual_variance)\n",
        "\n",
        "  ret_dict = {'weights' : w,\n",
        "              'predicted_returns' : predicted_portfolio_returns,\n",
        "              'predicted_variance' : portfolio_STD,\n",
        "              'actual_returns' : portfolio_actual_returns,\n",
        "              'actual_variance' : portfolio_actual_variance,\n",
        "              'sharpe_ratio': sharpe_ratio}\n",
        "  \n",
        "  return ret_dict"
      ]
    },
    {
      "cell_type": "markdown",
      "metadata": {
        "id": "iYSYLFwijK5E"
      },
      "source": [
        "# Method 1: Moving Average"
      ]
    },
    {
      "cell_type": "code",
      "execution_count": null,
      "metadata": {
        "id": "eFBKevKwjTaw"
      },
      "outputs": [],
      "source": [
        "#Moving average only needs to look at historical mean returns to make a prediction for the future. It \n",
        "#essentially follows the trend of our lookback window\n",
        "MA_act_windows, MA_act_horizons = windowGenerator(Closing_Prices_Returns, 12, 1, 1)"
      ]
    },
    {
      "cell_type": "code",
      "execution_count": null,
      "metadata": {
        "id": "ZZLOgdGmv4mf"
      },
      "outputs": [],
      "source": [
        "MA_scipy_returns= []\n",
        "MA_scipy_variance = []\n",
        "MA_scipy_SR = []\n",
        "\n",
        "# Testing on 5 years of data\n",
        "for i in range(len(LR_act_horizons)-72,len(LR_act_horizons)-12):\n",
        "  #Scipy optimize results\n",
        "  scipy = scipy_opt(MA_act_windows[i], MA_act_horizons[i], .5, 2)\n",
        "  MA_scipy_returns.append(scipy['actual_returns'])\n",
        "  MA_scipy_variance.append(scipy['actual_variance'])\n",
        "  MA_scipy_SR.append(scipy['sharpe_ratio'])\n",
        "  # print(\"Month \" + str(i) + \" complete\")"
      ]
    },
    {
      "cell_type": "code",
      "execution_count": null,
      "metadata": {
        "id": "hYxN92gEwKRR"
      },
      "outputs": [],
      "source": [
        "timestamps = []\n",
        "for i in range(len(MA_act_horizons)-72,len(MA_act_horizons)-12):\n",
        "  time = MA_act_horizons[i].index[-1]\n",
        "  timestamps.append(time)\n",
        "\n",
        "MA_Portfolio_Returns = pd.DataFrame(data = np.array([MA_scipy_returns,MA_scipy_variance,MA_scipy_SR]).T, columns = ['Returns', 'Variance', 'Sharpe Ratio'], index=timestamps)\n",
        "MA_Portfolio_Returns.index.rename('Date')\n",
        "\n",
        "MA_Portfolio_Returns.to_csv('MA_Portfolio_Returns.csv')\n",
        "!cp MA_Portfolio_Returns.csv \"drive/My Drive/Machine Learning Project/ML Section Exports\""
      ]
    },
    {
      "cell_type": "code",
      "execution_count": null,
      "metadata": {
        "colab": {
          "base_uri": "https://localhost:8080/",
          "height": 204
        },
        "id": "2H97F5F38BcE",
        "outputId": "8b5fb189-8067-402c-88dc-ac49fe47c178"
      },
      "outputs": [
        {
          "data": {
            "text/html": [
              "<div>\n",
              "<style scoped>\n",
              "    .dataframe tbody tr th:only-of-type {\n",
              "        vertical-align: middle;\n",
              "    }\n",
              "\n",
              "    .dataframe tbody tr th {\n",
              "        vertical-align: top;\n",
              "    }\n",
              "\n",
              "    .dataframe thead th {\n",
              "        text-align: right;\n",
              "    }\n",
              "</style>\n",
              "<table border=\"1\" class=\"dataframe\">\n",
              "  <thead>\n",
              "    <tr style=\"text-align: right;\">\n",
              "      <th></th>\n",
              "      <th>Returns</th>\n",
              "      <th>Variance</th>\n",
              "      <th>Sharpe Ratio</th>\n",
              "    </tr>\n",
              "  </thead>\n",
              "  <tbody>\n",
              "    <tr>\n",
              "      <th>2014-12-12</th>\n",
              "      <td>0.001496</td>\n",
              "      <td>3.770996e-08</td>\n",
              "      <td>inf</td>\n",
              "    </tr>\n",
              "    <tr>\n",
              "      <th>2015-01-13</th>\n",
              "      <td>0.003008</td>\n",
              "      <td>1.205567e-07</td>\n",
              "      <td>inf</td>\n",
              "    </tr>\n",
              "    <tr>\n",
              "      <th>2015-02-13</th>\n",
              "      <td>0.003573</td>\n",
              "      <td>5.663036e-07</td>\n",
              "      <td>inf</td>\n",
              "    </tr>\n",
              "    <tr>\n",
              "      <th>2015-03-13</th>\n",
              "      <td>0.002651</td>\n",
              "      <td>1.153370e-08</td>\n",
              "      <td>inf</td>\n",
              "    </tr>\n",
              "    <tr>\n",
              "      <th>2015-04-13</th>\n",
              "      <td>0.002678</td>\n",
              "      <td>2.495816e-08</td>\n",
              "      <td>inf</td>\n",
              "    </tr>\n",
              "  </tbody>\n",
              "</table>\n",
              "</div>"
            ],
            "text/plain": [
              "             Returns      Variance  Sharpe Ratio\n",
              "2014-12-12  0.001496  3.770996e-08           inf\n",
              "2015-01-13  0.003008  1.205567e-07           inf\n",
              "2015-02-13  0.003573  5.663036e-07           inf\n",
              "2015-03-13  0.002651  1.153370e-08           inf\n",
              "2015-04-13  0.002678  2.495816e-08           inf"
            ]
          },
          "execution_count": 153,
          "metadata": {
            "tags": []
          },
          "output_type": "execute_result"
        }
      ],
      "source": [
        "MA_Portfolio_Returns.head()"
      ]
    },
    {
      "cell_type": "markdown",
      "metadata": {
        "id": "5K2JpbUXdUWr"
      },
      "source": [
        "# Method 2: PCA + Linear Regression"
      ]
    },
    {
      "cell_type": "code",
      "execution_count": null,
      "metadata": {
        "id": "Vno308o5dwOR"
      },
      "outputs": [],
      "source": [
        "LR_pred_windows, LR_pred_horizons = windowGenerator(LR_Predicted_Returns, 12, 1, 1)\n",
        "LR_act_windows, LR_act_horizons = windowGenerator(LR_Actual_Returns, 12, 1, 1)"
      ]
    },
    {
      "cell_type": "code",
      "execution_count": null,
      "metadata": {
        "id": "mMS12_r-e61F"
      },
      "outputs": [],
      "source": [
        "LR_scipy_returns= []\n",
        "LR_scipy_variance = []\n",
        "LR_scipy_SR = []\n",
        "\n",
        "#Testing on 5 years of data\n",
        "for i in range(len(LR_act_horizons)-72,len(LR_act_horizons)-12):\n",
        "  #Scipy optimize results\n",
        "  scipy = scipy_opt(LR_pred_horizons[i], LR_act_horizons[i], .5, 2)\n",
        "  LR_scipy_returns.append(scipy['actual_returns'])\n",
        "  LR_scipy_variance.append(scipy['actual_variance'])\n",
        "  LR_scipy_SR.append(scipy['sharpe_ratio'])\n",
        "  # print(\"Month \" + str(i) + \" complete\")"
      ]
    },
    {
      "cell_type": "code",
      "execution_count": null,
      "metadata": {
        "id": "Z5I0RXj-pFJH"
      },
      "outputs": [],
      "source": [
        "timestamps = []\n",
        "for i in range(len(LR_act_horizons)-72,len(LR_act_horizons)-12):\n",
        "  time = LR_act_horizons[i].index[-1]\n",
        "  timestamps.append(time)\n",
        "\n",
        "LR_Portfolio_Returns = pd.DataFrame(data = np.array([LR_scipy_returns,LR_scipy_variance,LR_scipy_SR]).T, columns = ['Returns', 'Variance', 'Sharpe Ratio'], index=timestamps)"
      ]
    },
    {
      "cell_type": "code",
      "execution_count": null,
      "metadata": {
        "colab": {
          "base_uri": "https://localhost:8080/"
        },
        "id": "2GdZ7BvRqRdW",
        "outputId": "dd68c73b-1510-41a9-a452-af098a75d5c3"
      },
      "outputs": [
        {
          "name": "stdout",
          "output_type": "stream",
          "text": [
            "Drive already mounted at drive; to attempt to forcibly remount, call drive.mount(\"drive\", force_remount=True).\n"
          ]
        }
      ],
      "source": [
        "## Exporting the Dataset\n",
        "from google.colab import drive\n",
        "drive.mount('drive')\n",
        "\n",
        "LR_Portfolio_Returns.to_csv('LR_Portfolio_Returns.csv')\n",
        "!cp LR_Portfolio_Returns.csv \"drive/My Drive/Machine Learning Project/ML Section Exports\""
      ]
    },
    {
      "cell_type": "markdown",
      "metadata": {
        "id": "fFWzTORGHp-Y"
      },
      "source": [
        "# Method 3: LSTM + PCA"
      ]
    },
    {
      "cell_type": "code",
      "execution_count": null,
      "metadata": {
        "id": "2K-6e7-RNvMX"
      },
      "outputs": [],
      "source": [
        "LSTM_pred_windows, LSTM_pred_horizons = windowGenerator(PCA_Predicted_Returns,12,1,1)\n",
        "LSTM_act_windows, LSTM_act_horizons = windowGenerator(PCA_Actual_Returns,12,1,1)"
      ]
    },
    {
      "cell_type": "code",
      "execution_count": null,
      "metadata": {
        "colab": {
          "base_uri": "https://localhost:8080/"
        },
        "id": "kJMLf9yzc9Wp",
        "outputId": "677b2ee8-0c25-4bda-b1f1-9e90cf1e0e49"
      },
      "outputs": [
        {
          "data": {
            "text/plain": [
              "202"
            ]
          },
          "execution_count": 165,
          "metadata": {
            "tags": []
          },
          "output_type": "execute_result"
        }
      ],
      "source": [
        "len(LSTM_pred_horizons)"
      ]
    },
    {
      "cell_type": "code",
      "execution_count": null,
      "metadata": {
        "id": "ynD4PnXrbS7B"
      },
      "outputs": [],
      "source": [
        "scipy_returns= []\n",
        "scipy_variance = []\n",
        "scipy_SR = []\n",
        "\n",
        "\n",
        "for i in range(len(LSTM_act_horizons)-60,len(LSTM_act_horizons)):\n",
        "  #Scipy optimize results\n",
        "  scipy = scipy_opt(LSTM_pred_horizons[i], LSTM_act_horizons[i], .5, 2)\n",
        "  scipy_returns.append(scipy['actual_returns'])\n",
        "  scipy_variance.append(scipy['actual_variance'])\n",
        "  scipy_SR.append(scipy['sharpe_ratio'])\n",
        "  print(\"Month \" + str(i) + \" complete\")"
      ]
    },
    {
      "cell_type": "code",
      "execution_count": null,
      "metadata": {
        "id": "pC9HiUNee096"
      },
      "outputs": [],
      "source": [
        "timestamps = []\n",
        "for i in range(len(LSTM_act_horizons)-60,len(LSTM_act_horizons)):\n",
        "  time = LSTM_act_horizons[i].index[0]\n",
        "  timestamps.append(time)\n",
        "  \n",
        "\n",
        "LSTM_Portfolio_Returns = pd.DataFrame(data = np.array([scipy_returns,scipy_variance,scipy_SR]).T, columns = ['Returns', 'Variance', 'Sharpe Ratio'], index=timestamps)\n",
        "\n",
        "LSTM_Portfolio_Returns.to_csv('LSTM_Portfolio_Returns.csv')\n",
        "!cp LSTM_Portfolio_Returns.csv \"drive/My Drive/Machine Learning Project/ML Section Exports\""
      ]
    },
    {
      "cell_type": "code",
      "execution_count": null,
      "metadata": {
        "id": "_jHxVK2yC_wG"
      },
      "outputs": [],
      "source": [
        "timestamps"
      ]
    },
    {
      "cell_type": "code",
      "execution_count": null,
      "metadata": {
        "id": "aB5IgUlit4bA"
      },
      "outputs": [],
      "source": [
        "LSTM_Portfolio_Returns"
      ]
    },
    {
      "cell_type": "markdown",
      "metadata": {
        "id": "QgbWgRKg84qV"
      },
      "source": [
        "# Diagnostics"
      ]
    },
    {
      "cell_type": "markdown",
      "metadata": {
        "id": "HHVfG8Bs_dNi"
      },
      "source": [
        "The calculation for seeing how much the portfolio grows in dollar terms:  \n",
        "$Price_t * e^{LogReturns} = Price_{t+1}$\n",
        "\n",
        "- Given $100, our equity graph shows how much our portfolio value increase (or decreases)"
      ]
    },
    {
      "cell_type": "code",
      "execution_count": null,
      "metadata": {
        "id": "lG4V0vH6860n"
      },
      "outputs": [],
      "source": [
        "import math\n",
        "MA_equity = [100]\n",
        "LR_equity = [100]\n",
        "LSTM_equity = [100]\n",
        "\n",
        "#This is the calculation for the for seeing how much the portfolio grows\n",
        "for i in range(1,60):\n",
        "  MA_equity.append(MA_equity[i-1]* math.exp(MA_scipy_returns[i]))\n",
        "  LR_equity.append(LR_equity[i-1]* math.exp(LR_scipy_returns[i]))\n",
        "  LSTM_equity.append(LSTM_equity[i-1]* math.exp(scipy_returns[i]))"
      ]
    },
    {
      "cell_type": "code",
      "execution_count": null,
      "metadata": {
        "colab": {
          "base_uri": "https://localhost:8080/",
          "height": 281
        },
        "id": "enzEXiDQ_D0K",
        "outputId": "f2ff9e5d-b946-4660-bf8d-db811b394d1c"
      },
      "outputs": [
        {
          "data": {
            "image/png": "[encoded data removed]",
            "text/plain": [
              "<Figure size 432x288 with 1 Axes>"
            ]
          },
          "metadata": {
            "needs_background": "light",
            "tags": []
          },
          "output_type": "display_data"
        }
      ],
      "source": [
        "plt.plot(timestamps, MA_equity,  label = \"Moving Average\")\n",
        "plt.plot(timestamps, LR_equity, label = \"Linear Regression\")\n",
        "plt.plot(timestamps, LSTM_equity, label = \"LSTM\")\n",
        "plt.title(\"Equity Graph\")\n",
        "plt.legend()\n",
        "plt.show();"
      ]
    },
    {
      "cell_type": "code",
      "execution_count": null,
      "metadata": {
        "colab": {
          "base_uri": "https://localhost:8080/",
          "height": 809
        },
        "id": "hK-thqhRCz5B",
        "outputId": "360587cc-55bb-4a73-9328-26caa691f177"
      },
      "outputs": [
        {
          "data": {
            "image/png": "[encoded data removed]",
            "text/plain": [
              "<Figure size 432x288 with 1 Axes>"
            ]
          },
          "metadata": {
            "needs_background": "light",
            "tags": []
          },
          "output_type": "display_data"
        },
        {
          "data": {
            "image/png": "[encoded data removed]",
            "text/plain": [
              "<Figure size 432x288 with 1 Axes>"
            ]
          },
          "metadata": {
            "needs_background": "light",
            "tags": []
          },
          "output_type": "display_data"
        },
        {
          "data": {
            "image/png": "[encoded data removed]",
            "text/plain": [
              "<Figure size 432x288 with 1 Axes>"
            ]
          },
          "metadata": {
            "needs_background": "light",
            "tags": []
          },
          "output_type": "display_data"
        }
      ],
      "source": [
        "plt.hist(LR_scipy_returns, bins = 60, label = 'returns', alpha = 1, color = 'green')\n",
        "plt.title(\"Moving Average Portfolio Distribution\")\n",
        "plt.legend()\n",
        "plt.show();\n",
        "plt.hist(MA_scipy_returns, bins = 60, label = 'returns', alpha = 1, color = 'red')\n",
        "plt.title(\"Linear Regression Portfolio Distribution\")\n",
        "plt.legend()\n",
        "plt.show();\n",
        "plt.hist(scipy_returns, bins = 60, label = 'returns', alpha = 1, color = 'blue') \n",
        "plt.title(\"LSTM Portfolio Returns Distribution\")\n",
        "plt.legend()\n",
        "plt.show();"
      ]
    },
    {
      "cell_type": "code",
      "execution_count": null,
      "metadata": {
        "colab": {
          "base_uri": "https://localhost:8080/"
        },
        "id": "XgwozSEcFKs7",
        "outputId": "d80ea298-9111-41c4-f036-9f14aeaf5b5e"
      },
      "outputs": [
        {
          "name": "stdout",
          "output_type": "stream",
          "text": [
            "Moving Average Ending Equity:  116.49663818994863\n",
            "Linear Regression Ending Equity:  106.20894472375005\n",
            "LSTM Ending Equity 113.94521431740938\n"
          ]
        }
      ],
      "source": [
        "print(\"Moving Average Ending Equity: \" , MA_equity[-1])\n",
        "print(\"Linear Regression Ending Equity: \" , LR_equity[-1])\n",
        "print(\"LSTM Ending Equity\" , LSTM_equity[-1])"
      ]
    },
    {
      "cell_type": "code",
      "execution_count": null,
      "metadata": {
        "id": "XaAP7mGLIu1X"
      },
      "outputs": [],
      "source": [
        "import math\n",
        "def metrics(returns): \n",
        "  sharpe = returns.mean() / returns.std()\n",
        "  annualized_sharpe = sharpe.item() / math.sqrt(252)\n",
        "\n",
        "  stdev = returns.std() \n",
        "  annualized_vol = stdev.item() / math.sqrt(252)\n",
        "\n",
        "\n",
        "  return {\"Annualized Sharpe Ratio\": annualized_sharpe,\n",
        "          \"Annualized Volatility\": annualized_vol}"
      ]
    },
    {
      "cell_type": "code",
      "execution_count": null,
      "metadata": {
        "colab": {
          "base_uri": "https://localhost:8080/"
        },
        "id": "vHDMlLOrI0pP",
        "outputId": "b10443aa-eb98-47d5-e5d2-b90888883179"
      },
      "outputs": [
        {
          "data": {
            "text/plain": [
              "{'Annualized Sharpe Ratio': 0.11566522072352636,\n",
              " 'Annualized Volatility': 8.816512605963443e-05}"
            ]
          },
          "execution_count": 219,
          "metadata": {
            "tags": []
          },
          "output_type": "execute_result"
        }
      ],
      "source": [
        "#Annualized info for Moving Average\n",
        "metrics(np.array(MA_scipy_returns))"
      ]
    },
    {
      "cell_type": "code",
      "execution_count": null,
      "metadata": {
        "colab": {
          "base_uri": "https://localhost:8080/"
        },
        "id": "ZW4nJImTI_EI",
        "outputId": "136bfa17-a892-46de-9657-ef13d782fea0"
      },
      "outputs": [
        {
          "data": {
            "text/plain": [
              "{'Annualized Sharpe Ratio': 0.013885548251160982,\n",
              " 'Annualized Volatility': 0.00031944580646156226}"
            ]
          },
          "execution_count": 221,
          "metadata": {
            "tags": []
          },
          "output_type": "execute_result"
        }
      ],
      "source": [
        "#Annualized info for Linear Regression\n",
        "metrics(np.array(LR_scipy_returns))"
      ]
    },
    {
      "cell_type": "code",
      "execution_count": null,
      "metadata": {
        "colab": {
          "base_uri": "https://localhost:8080/"
        },
        "id": "sL2TWXfQJLFT",
        "outputId": "1a40d96c-1b06-4e03-fc41-17f02b8f8c0f"
      },
      "outputs": [
        {
          "data": {
            "text/plain": [
              "{'Annualized Sharpe Ratio': 0.024306122192182564,\n",
              " 'Annualized Volatility': 0.00036847707924741503}"
            ]
          },
          "execution_count": 222,
          "metadata": {
            "tags": []
          },
          "output_type": "execute_result"
        }
      ],
      "source": [
        "#Annualized info for LSTM\n",
        "metrics(np.array(scipy_returns))"
      ]
    },
    {
      "cell_type": "markdown",
      "metadata": {
        "id": "nH_SVRHuN2Nw"
      },
      "source": [
        "$$"
      ]
    }
  ],
  "metadata": {
    "colab": {
      "collapsed_sections": [],
      "name": "Portfolio Optimization Final.ipynb",
      "provenance": []
    },
    "kernelspec": {
      "display_name": "base",
      "language": "python",
      "name": "python3"
    },
    "language_info": {
      "codemirror_mode": {
        "name": "ipython",
        "version": 3
      },
      "file_extension": ".py",
      "mimetype": "text/x-python",
      "name": "python",
      "nbconvert_exporter": "python",
      "pygments_lexer": "ipython3",
      "version": "3.11.7"
    }
  },
  "nbformat": 4,
  "nbformat_minor": 0
}
