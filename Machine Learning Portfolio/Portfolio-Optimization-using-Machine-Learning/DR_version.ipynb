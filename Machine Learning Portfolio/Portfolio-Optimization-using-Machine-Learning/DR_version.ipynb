{
 "cells": [
  {
   "cell_type": "code",
   "execution_count": 4,
   "id": "28cac90e",
   "metadata": {},
   "outputs": [
    {
     "name": "stdout",
     "output_type": "stream",
     "text": [
      "4\n"
     ]
    }
   ],
   "source": [
    "def first_unique_word(words):\n",
    "    count_dict = {}\n",
    "\n",
    "    for w in words:\n",
    "        count_dict[w] = count_dict.get(w, 0) + 1\n",
    "\n",
    "    for i, w in enumerate(words, 1):\n",
    "        if count_dict[w] == 1:\n",
    "            return i\n",
    "    \n",
    "    return -1\n",
    "\n",
    "words = [\"apple\", \"banana\", \"apple\", \"cherry\", \"banana\", \"date\"]\n",
    "print(first_unique_word(words))  # Output: 3"
   ]
  },
  {
   "cell_type": "code",
   "execution_count": 8,
   "id": "13e003d9",
   "metadata": {},
   "outputs": [],
   "source": [
    "from collections import deque\n",
    "\n",
    "\n",
    "class FirstUniqueWord:\n",
    "    def __init__(self):\n",
    "        self.count_dict = {}\n",
    "        self.queue = deque()\n",
    "\n",
    "    def add_word(self, word):\n",
    "        self.count_dict[word] = self.count_dict.get(word, 0) + 1\n",
    "        if self.count_dict[word] == 1:\n",
    "            self.queue.append(word)\n",
    "\n",
    "    def get_first_unique(self):\n",
    "        while self.queue and self.count_dict[self.queue[0]] > 1:\n",
    "            self.queue.popleft()\n",
    "        return self.queue[0] if self.queue else None"
   ]
  },
  {
   "cell_type": "code",
   "execution_count": 9,
   "id": "c261bb26",
   "metadata": {},
   "outputs": [
    {
     "name": "stdout",
     "output_type": "stream",
     "text": [
      "First unique word: apple\n",
      "First unique word: apple\n",
      "First unique word: banana\n",
      "First unique word: banana\n",
      "First unique word: cherry\n",
      "First unique word: cherry\n"
     ]
    }
   ],
   "source": [
    "stream = FirstUniqueWord()\n",
    "data = [\"apple\", \"banana\", \"apple\", \"cherry\", \"banana\", \"date\"]\n",
    "for word in data:\n",
    "    stream.add_word(word)\n",
    "    print(f\"First unique word: {stream.get_first_unique()}\")"
   ]
  },
  {
   "cell_type": "code",
   "execution_count": 10,
   "id": "99255715",
   "metadata": {},
   "outputs": [],
   "source": [
    "def reverse_string(s):\n",
    "    return s[::-1]\n",
    "\n",
    "def reverse_each_word(sentence):\n",
    "    words = sentence.split(\" \")\n",
    "    words = [reverse_string(word) for word in words]\n",
    "    return \" \".join(words)"
   ]
  },
  {
   "cell_type": "code",
   "execution_count": 11,
   "id": "e9d43b0f",
   "metadata": {},
   "outputs": [
    {
     "name": "stdout",
     "output_type": "stream",
     "text": [
      "olleh\n",
      "olleH dlrow morf nohtyP\n"
     ]
    }
   ],
   "source": [
    "print(reverse_string(\"hello\"))  \n",
    "# Output: \"olleh\"\n",
    "\n",
    "print(reverse_each_word(\"Hello world from Python\"))\n",
    "# Output: \"olleH dlrow morf nohtyP\"\n"
   ]
  },
  {
   "cell_type": "code",
   "execution_count": 13,
   "id": "aaa0d5b0",
   "metadata": {},
   "outputs": [
    {
     "name": "stdout",
     "output_type": "stream",
     "text": [
      "abfedcg\n"
     ]
    }
   ],
   "source": [
    "def reverse_substring(s, start, end):\n",
    "    return s[:start] + s[start: end+1][::-1] + s[end+1:]\n",
    "\n",
    "print(reverse_substring(\"abcdefg\", 2, 5))  "
   ]
  },
  {
   "cell_type": "code",
   "execution_count": null,
   "id": "257f8af2",
   "metadata": {},
   "outputs": [
    {
     "data": {
      "text/plain": [
       "'lee(t(c)o)de'"
      ]
     },
     "execution_count": 17,
     "metadata": {},
     "output_type": "execute_result"
    }
   ],
   "source": [
    "def min_removal_parenthesis(s):\n",
    "        result = []\n",
    "        balance = 0 # so dau '(' thua\n",
    "        for ch in s:\n",
    "            if ch == '(':\n",
    "                balance += 1\n",
    "                result.append(ch)\n",
    "            elif ch == ')':\n",
    "                if balance > 0:\n",
    "                    balance -= 1\n",
    "                    result.append(ch)\n",
    "            else:\n",
    "                result.append(ch)\n",
    "        # dua balance ve 0 (loai bo '(' thua)\n",
    "        ans = []\n",
    "        for ch in reversed(result):\n",
    "            if ch == '(' and balance > 0:\n",
    "                balance -= 1\n",
    "            else:\n",
    "                ans.append(ch)\n",
    "        \n",
    "        return \"\".join(reversed(ans))\n",
    "\n",
    "s = \"lee(t(c)o)de)\"\n",
    "min_removal_parenthesis(s)"
   ]
  },
  {
   "cell_type": "code",
   "execution_count": 19,
   "id": "25a33d61",
   "metadata": {},
   "outputs": [
    {
     "name": "stdout",
     "output_type": "stream",
     "text": [
      "True\n",
      "True\n",
      "False\n",
      "False\n",
      "False\n"
     ]
    }
   ],
   "source": [
    "def isValidParentheses(s):\n",
    "    stack = []\n",
    "    for ch in s:\n",
    "        if ch == '(':\n",
    "            stack.append(ch)\n",
    "        elif ch == ')':\n",
    "            if not stack:\n",
    "                return False\n",
    "            stack.pop()\n",
    "    return len(stack) == 0\n",
    "\n",
    "print(isValidParentheses(\"()\"))       # True\n",
    "print(isValidParentheses(\"(())\"))     # True\n",
    "print(isValidParentheses(\"(()\"))      # False\n",
    "print(isValidParentheses(\"())\"))      # False\n",
    "print(isValidParentheses(\")(\"))       # False\n"
   ]
  },
  {
   "cell_type": "code",
   "execution_count": 24,
   "id": "25214cbc",
   "metadata": {},
   "outputs": [
    {
     "name": "stdout",
     "output_type": "stream",
     "text": [
      "6 6 2 3 1 5 1 1\n",
      "5 6 1 3 4 2 1 1\n",
      "2 3 5 5 6 3 4 2\n",
      "3 3 6 3 6 1 1 5\n",
      "6 6 3 5 2 2 6 3\n",
      "3 3 2 1 6 3 1 4\n",
      "5 4 6 5 3 1 3 5\n",
      "6 1 4 1 2 1 3 6\n"
     ]
    }
   ],
   "source": [
    "import random\n",
    "\n",
    "def generate_board(rows = 8, cols = 8, types = 6):\n",
    "    board = [[None] * cols for i in range(rows)]\n",
    "    n = len(board)\n",
    "\n",
    "    for i in range(rows):\n",
    "        for j in range(cols):\n",
    "            while True:\n",
    "                gem = random.randint(1, types)  \n",
    "                board[i][j] = gem\n",
    "\n",
    "                if i >= 2 and board[i-1][j] == gem and board[i-2][j] == gem:\n",
    "                    continue\n",
    "                if j >= 2 and board[i][j-1] == gem and board[i][j-2] == gem:\n",
    "                    continue\n",
    "                board[i][j] = gem\n",
    "                break\n",
    "    return board    \n",
    "def print_board(board):\n",
    "    for row in board:\n",
    "        print(\" \".join((str(x) for x in row)))\n",
    "    \n",
    "game = generate_board()\n",
    "print_board(game)\n",
    "    "
   ]
  },
  {
   "cell_type": "code",
   "execution_count": 26,
   "id": "04e58c82",
   "metadata": {},
   "outputs": [
    {
     "name": "stdout",
     "output_type": "stream",
     "text": [
      "4500.0\n"
     ]
    }
   ],
   "source": [
    "def calculate_tax(salary, brackets):\n",
    "    tax = 0\n",
    "    previous_limit = 0\n",
    "\n",
    "    for limit, rate in brackets:\n",
    "        if salary > limit:\n",
    "            tax += (limit - previous_limit) * rate\n",
    "            previous_limit = limit\n",
    "        else:\n",
    "            tax += (salary - previous_limit) * rate\n",
    "            break\n",
    "    return tax\n",
    "\n",
    "brackets = [\n",
    "    (10000, 0.1),\n",
    "    (20000, 0.2),\n",
    "    (float('inf'), 0.3)\n",
    "]\n",
    "salary = 25000\n",
    "\n",
    "print(calculate_tax(salary, brackets))"
   ]
  },
  {
   "cell_type": "code",
   "execution_count": 28,
   "id": "d9a4a66b",
   "metadata": {},
   "outputs": [
    {
     "name": "stdout",
     "output_type": "stream",
     "text": [
      "4\n"
     ]
    }
   ],
   "source": [
    "def check_terminal_node(n, edges):\n",
    "    in_degree = [0] * (n+1)\n",
    "    out_degree = [0] * (n+1)\n",
    "\n",
    "    for u,v in edges:\n",
    "        in_degree[v] += 1\n",
    "        out_degree[u] += 1\n",
    "    \n",
    "    for node in range(1,n+1):\n",
    "        if in_degree[node] == n-1 and out_degree[node] == 0:\n",
    "            return node\n",
    "    return -1\n",
    "\n",
    "n = 4\n",
    "edges = [(1, 4), (2, 4), (3, 4)]\n",
    "print(check_terminal_node(n, edges))  # Output: 4\n"
   ]
  },
  {
   "cell_type": "code",
   "execution_count": 29,
   "id": "ec420bdb",
   "metadata": {},
   "outputs": [],
   "source": [
    "def is_reducible(word, dictionary):\n",
    "    if word == \"\":\n",
    "        return True\n",
    "    if word not in dictionary: \n",
    "        return False\n",
    "    s = len(word)\n",
    "    for i in range(s):\n",
    "        new_word = word[:i] + word[i+1:]\n",
    "        if is_reducible(new_word, dictionary):\n",
    "            return True\n",
    "    return False\n"
   ]
  },
  {
   "cell_type": "markdown",
   "id": "2d7dca0e",
   "metadata": {},
   "source": []
  }
 ],
 "metadata": {
  "kernelspec": {
   "display_name": "base",
   "language": "python",
   "name": "python3"
  },
  "language_info": {
   "codemirror_mode": {
    "name": "ipython",
    "version": 3
   },
   "file_extension": ".py",
   "mimetype": "text/x-python",
   "name": "python",
   "nbconvert_exporter": "python",
   "pygments_lexer": "ipython3",
   "version": "3.11.7"
  }
 },
 "nbformat": 4,
 "nbformat_minor": 5
}
